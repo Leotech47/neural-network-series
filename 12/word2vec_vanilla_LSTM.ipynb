{
 "cells": [
  {
   "cell_type": "code",
   "execution_count": 1,
   "id": "db93e288",
   "metadata": {},
   "outputs": [
    {
     "name": "stdout",
     "output_type": "stream",
     "text": [
      "Collecting jupyterthemes\n",
      "  Downloading jupyterthemes-0.20.0-py2.py3-none-any.whl (7.0 MB)\n",
      "\u001b[2K     \u001b[38;2;114;156;31m━━━━━━━━━━━━━━━━━━━━━━━━━━━━━━━━━━━━━━━━\u001b[0m \u001b[32m7.0/7.0 MB\u001b[0m \u001b[31m10.5 MB/s\u001b[0m eta \u001b[36m0:00:00\u001b[0mm eta \u001b[36m0:00:01\u001b[0m[36m0:00:01\u001b[0m\n",
      "\u001b[?25hRequirement already satisfied: jupyter-core in ./ge_lstm/lib/python3.10/site-packages (from jupyterthemes) (5.3.0)\n",
      "Collecting matplotlib>=1.4.3\n",
      "  Downloading matplotlib-3.7.1-cp310-cp310-manylinux_2_17_x86_64.manylinux2014_x86_64.whl (11.6 MB)\n",
      "\u001b[2K     \u001b[38;2;114;156;31m━━━━━━━━━━━━━━━━━━━━━━━━━━━━━━━━━━━━━━━━\u001b[0m \u001b[32m11.6/11.6 MB\u001b[0m \u001b[31m10.9 MB/s\u001b[0m eta \u001b[36m0:00:00\u001b[0mm eta \u001b[36m0:00:01\u001b[0m0:01\u001b[0m:01\u001b[0m\n",
      "\u001b[?25hCollecting lesscpy>=0.11.2\n",
      "  Downloading lesscpy-0.15.1-py2.py3-none-any.whl (46 kB)\n",
      "\u001b[2K     \u001b[38;2;114;156;31m━━━━━━━━━━━━━━━━━━━━━━━━━━━━━━━━━━━━━━━━\u001b[0m \u001b[32m46.7/46.7 KB\u001b[0m \u001b[31m12.1 MB/s\u001b[0m eta \u001b[36m0:00:00\u001b[0m\n",
      "\u001b[?25hRequirement already satisfied: ipython>=5.4.1 in ./ge_lstm/lib/python3.10/site-packages (from jupyterthemes) (8.11.0)\n",
      "Requirement already satisfied: notebook>=5.6.0 in ./ge_lstm/lib/python3.10/site-packages (from jupyterthemes) (6.5.3)\n",
      "Requirement already satisfied: jedi>=0.16 in ./ge_lstm/lib/python3.10/site-packages (from ipython>=5.4.1->jupyterthemes) (0.18.2)\n",
      "Requirement already satisfied: traitlets>=5 in ./ge_lstm/lib/python3.10/site-packages (from ipython>=5.4.1->jupyterthemes) (5.9.0)\n",
      "Requirement already satisfied: matplotlib-inline in ./ge_lstm/lib/python3.10/site-packages (from ipython>=5.4.1->jupyterthemes) (0.1.6)\n",
      "Requirement already satisfied: backcall in ./ge_lstm/lib/python3.10/site-packages (from ipython>=5.4.1->jupyterthemes) (0.2.0)\n",
      "Requirement already satisfied: prompt-toolkit!=3.0.37,<3.1.0,>=3.0.30 in ./ge_lstm/lib/python3.10/site-packages (from ipython>=5.4.1->jupyterthemes) (3.0.38)\n",
      "Requirement already satisfied: decorator in ./ge_lstm/lib/python3.10/site-packages (from ipython>=5.4.1->jupyterthemes) (5.1.1)\n",
      "Requirement already satisfied: pickleshare in ./ge_lstm/lib/python3.10/site-packages (from ipython>=5.4.1->jupyterthemes) (0.7.5)\n",
      "Requirement already satisfied: pexpect>4.3 in ./ge_lstm/lib/python3.10/site-packages (from ipython>=5.4.1->jupyterthemes) (4.8.0)\n",
      "Requirement already satisfied: stack-data in ./ge_lstm/lib/python3.10/site-packages (from ipython>=5.4.1->jupyterthemes) (0.6.2)\n",
      "Requirement already satisfied: pygments>=2.4.0 in ./ge_lstm/lib/python3.10/site-packages (from ipython>=5.4.1->jupyterthemes) (2.14.0)\n",
      "Collecting ply\n",
      "  Downloading ply-3.11-py2.py3-none-any.whl (49 kB)\n",
      "\u001b[2K     \u001b[38;2;114;156;31m━━━━━━━━━━━━━━━━━━━━━━━━━━━━━━━━━━━━━━━━\u001b[0m \u001b[32m49.6/49.6 KB\u001b[0m \u001b[31m6.4 MB/s\u001b[0m eta \u001b[36m0:00:00\u001b[0m\n",
      "\u001b[?25hCollecting fonttools>=4.22.0\n",
      "  Downloading fonttools-4.39.2-py3-none-any.whl (1.0 MB)\n",
      "\u001b[2K     \u001b[38;2;114;156;31m━━━━━━━━━━━━━━━━━━━━━━━━━━━━━━━━━━━━━━━━\u001b[0m \u001b[32m1.0/1.0 MB\u001b[0m \u001b[31m10.6 MB/s\u001b[0m eta \u001b[36m0:00:00\u001b[0m31m11.4 MB/s\u001b[0m eta \u001b[36m0:00:01\u001b[0m\n",
      "\u001b[?25hRequirement already satisfied: packaging>=20.0 in ./ge_lstm/lib/python3.10/site-packages (from matplotlib>=1.4.3->jupyterthemes) (23.0)\n",
      "Collecting cycler>=0.10\n",
      "  Downloading cycler-0.11.0-py3-none-any.whl (6.4 kB)\n",
      "Collecting contourpy>=1.0.1\n",
      "  Downloading contourpy-1.0.7-cp310-cp310-manylinux_2_17_x86_64.manylinux2014_x86_64.whl (300 kB)\n",
      "\u001b[2K     \u001b[38;2;114;156;31m━━━━━━━━━━━━━━━━━━━━━━━━━━━━━━━━━━━━━━\u001b[0m \u001b[32m300.3/300.3 KB\u001b[0m \u001b[31m11.2 MB/s\u001b[0m eta \u001b[36m0:00:00\u001b[0m\n",
      "\u001b[?25hCollecting pillow>=6.2.0\n",
      "  Downloading Pillow-9.4.0-cp310-cp310-manylinux_2_28_x86_64.whl (3.4 MB)\n",
      "\u001b[2K     \u001b[38;2;114;156;31m━━━━━━━━━━━━━━━━━━━━━━━━━━━━━━━━━━━━━━━━\u001b[0m \u001b[32m3.4/3.4 MB\u001b[0m \u001b[31m10.9 MB/s\u001b[0m eta \u001b[36m0:00:00\u001b[0mm eta \u001b[36m0:00:01\u001b[0m0:01\u001b[0m:01\u001b[0m\n",
      "\u001b[?25hCollecting numpy>=1.20\n",
      "  Downloading numpy-1.24.2-cp310-cp310-manylinux_2_17_x86_64.manylinux2014_x86_64.whl (17.3 MB)\n",
      "\u001b[2K     \u001b[38;2;114;156;31m━━━━━━━━━━━━━━━━━━━━━━━━━━━━━━━━━━━━━━━━\u001b[0m \u001b[32m17.3/17.3 MB\u001b[0m \u001b[31m10.8 MB/s\u001b[0m eta \u001b[36m0:00:00\u001b[0mm eta \u001b[36m0:00:01\u001b[0m[36m0:00:01\u001b[0m\n",
      "\u001b[?25hCollecting pyparsing>=2.3.1\n",
      "  Downloading pyparsing-3.0.9-py3-none-any.whl (98 kB)\n",
      "\u001b[2K     \u001b[38;2;114;156;31m━━━━━━━━━━━━━━━━━━━━━━━━━━━━━━━━━━━━━━━━\u001b[0m \u001b[32m98.3/98.3 KB\u001b[0m \u001b[31m10.6 MB/s\u001b[0m eta \u001b[36m0:00:00\u001b[0m\n",
      "\u001b[?25hCollecting kiwisolver>=1.0.1\n",
      "  Downloading kiwisolver-1.4.4-cp310-cp310-manylinux_2_12_x86_64.manylinux2010_x86_64.whl (1.6 MB)\n",
      "\u001b[2K     \u001b[38;2;114;156;31m━━━━━━━━━━━━━━━━━━━━━━━━━━━━━━━━━━━━━━━━\u001b[0m \u001b[32m1.6/1.6 MB\u001b[0m \u001b[31m11.2 MB/s\u001b[0m eta \u001b[36m0:00:00\u001b[0mm eta \u001b[36m0:00:01\u001b[0m0:01\u001b[0m:01\u001b[0m\n",
      "\u001b[?25hRequirement already satisfied: python-dateutil>=2.7 in ./ge_lstm/lib/python3.10/site-packages (from matplotlib>=1.4.3->jupyterthemes) (2.8.2)\n",
      "Requirement already satisfied: jinja2 in ./ge_lstm/lib/python3.10/site-packages (from notebook>=5.6.0->jupyterthemes) (3.1.2)\n",
      "Requirement already satisfied: nbformat in ./ge_lstm/lib/python3.10/site-packages (from notebook>=5.6.0->jupyterthemes) (5.8.0)\n",
      "Requirement already satisfied: nbclassic>=0.4.7 in ./ge_lstm/lib/python3.10/site-packages (from notebook>=5.6.0->jupyterthemes) (0.5.3)\n",
      "Requirement already satisfied: pyzmq>=17 in ./ge_lstm/lib/python3.10/site-packages (from notebook>=5.6.0->jupyterthemes) (25.0.2)\n",
      "Requirement already satisfied: nbconvert>=5 in ./ge_lstm/lib/python3.10/site-packages (from notebook>=5.6.0->jupyterthemes) (7.2.10)\n",
      "Requirement already satisfied: argon2-cffi in ./ge_lstm/lib/python3.10/site-packages (from notebook>=5.6.0->jupyterthemes) (21.3.0)\n",
      "Requirement already satisfied: nest-asyncio>=1.5 in ./ge_lstm/lib/python3.10/site-packages (from notebook>=5.6.0->jupyterthemes) (1.5.6)\n",
      "Requirement already satisfied: terminado>=0.8.3 in ./ge_lstm/lib/python3.10/site-packages (from notebook>=5.6.0->jupyterthemes) (0.17.1)\n",
      "Requirement already satisfied: prometheus-client in ./ge_lstm/lib/python3.10/site-packages (from notebook>=5.6.0->jupyterthemes) (0.16.0)\n",
      "Requirement already satisfied: ipython-genutils in ./ge_lstm/lib/python3.10/site-packages (from notebook>=5.6.0->jupyterthemes) (0.2.0)\n",
      "Requirement already satisfied: Send2Trash>=1.8.0 in ./ge_lstm/lib/python3.10/site-packages (from notebook>=5.6.0->jupyterthemes) (1.8.0)\n",
      "Requirement already satisfied: jupyter-client>=5.3.4 in ./ge_lstm/lib/python3.10/site-packages (from notebook>=5.6.0->jupyterthemes) (8.1.0)\n",
      "Requirement already satisfied: tornado>=6.1 in ./ge_lstm/lib/python3.10/site-packages (from notebook>=5.6.0->jupyterthemes) (6.2)\n",
      "Requirement already satisfied: ipykernel in ./ge_lstm/lib/python3.10/site-packages (from notebook>=5.6.0->jupyterthemes) (6.22.0)\n",
      "Requirement already satisfied: platformdirs>=2.5 in ./ge_lstm/lib/python3.10/site-packages (from jupyter-core->jupyterthemes) (3.2.0)\n",
      "Requirement already satisfied: parso<0.9.0,>=0.8.0 in ./ge_lstm/lib/python3.10/site-packages (from jedi>=0.16->ipython>=5.4.1->jupyterthemes) (0.8.3)\n",
      "Requirement already satisfied: jupyter-server>=1.8 in ./ge_lstm/lib/python3.10/site-packages (from nbclassic>=0.4.7->notebook>=5.6.0->jupyterthemes) (2.5.0)\n",
      "Requirement already satisfied: notebook-shim>=0.1.0 in ./ge_lstm/lib/python3.10/site-packages (from nbclassic>=0.4.7->notebook>=5.6.0->jupyterthemes) (0.2.2)\n",
      "Requirement already satisfied: mistune<3,>=2.0.3 in ./ge_lstm/lib/python3.10/site-packages (from nbconvert>=5->notebook>=5.6.0->jupyterthemes) (2.0.5)\n",
      "Requirement already satisfied: markupsafe>=2.0 in ./ge_lstm/lib/python3.10/site-packages (from nbconvert>=5->notebook>=5.6.0->jupyterthemes) (2.1.2)\n",
      "Requirement already satisfied: tinycss2 in ./ge_lstm/lib/python3.10/site-packages (from nbconvert>=5->notebook>=5.6.0->jupyterthemes) (1.2.1)\n",
      "Requirement already satisfied: jupyterlab-pygments in ./ge_lstm/lib/python3.10/site-packages (from nbconvert>=5->notebook>=5.6.0->jupyterthemes) (0.2.2)\n",
      "Requirement already satisfied: pandocfilters>=1.4.1 in ./ge_lstm/lib/python3.10/site-packages (from nbconvert>=5->notebook>=5.6.0->jupyterthemes) (1.5.0)\n",
      "Requirement already satisfied: beautifulsoup4 in ./ge_lstm/lib/python3.10/site-packages (from nbconvert>=5->notebook>=5.6.0->jupyterthemes) (4.12.0)\n",
      "Requirement already satisfied: nbclient>=0.5.0 in ./ge_lstm/lib/python3.10/site-packages (from nbconvert>=5->notebook>=5.6.0->jupyterthemes) (0.7.2)\n",
      "Requirement already satisfied: bleach in ./ge_lstm/lib/python3.10/site-packages (from nbconvert>=5->notebook>=5.6.0->jupyterthemes) (6.0.0)\n",
      "Requirement already satisfied: defusedxml in ./ge_lstm/lib/python3.10/site-packages (from nbconvert>=5->notebook>=5.6.0->jupyterthemes) (0.7.1)\n"
     ]
    },
    {
     "name": "stdout",
     "output_type": "stream",
     "text": [
      "Requirement already satisfied: fastjsonschema in ./ge_lstm/lib/python3.10/site-packages (from nbformat->notebook>=5.6.0->jupyterthemes) (2.16.3)\n",
      "Requirement already satisfied: jsonschema>=2.6 in ./ge_lstm/lib/python3.10/site-packages (from nbformat->notebook>=5.6.0->jupyterthemes) (4.17.3)\n",
      "Requirement already satisfied: ptyprocess>=0.5 in ./ge_lstm/lib/python3.10/site-packages (from pexpect>4.3->ipython>=5.4.1->jupyterthemes) (0.7.0)\n",
      "Requirement already satisfied: wcwidth in ./ge_lstm/lib/python3.10/site-packages (from prompt-toolkit!=3.0.37,<3.1.0,>=3.0.30->ipython>=5.4.1->jupyterthemes) (0.2.6)\n",
      "Requirement already satisfied: six>=1.5 in ./ge_lstm/lib/python3.10/site-packages (from python-dateutil>=2.7->matplotlib>=1.4.3->jupyterthemes) (1.16.0)\n",
      "Requirement already satisfied: argon2-cffi-bindings in ./ge_lstm/lib/python3.10/site-packages (from argon2-cffi->notebook>=5.6.0->jupyterthemes) (21.2.0)\n",
      "Requirement already satisfied: psutil in ./ge_lstm/lib/python3.10/site-packages (from ipykernel->notebook>=5.6.0->jupyterthemes) (5.9.4)\n",
      "Requirement already satisfied: debugpy>=1.6.5 in ./ge_lstm/lib/python3.10/site-packages (from ipykernel->notebook>=5.6.0->jupyterthemes) (1.6.6)\n",
      "Requirement already satisfied: comm>=0.1.1 in ./ge_lstm/lib/python3.10/site-packages (from ipykernel->notebook>=5.6.0->jupyterthemes) (0.1.3)\n",
      "Requirement already satisfied: executing>=1.2.0 in ./ge_lstm/lib/python3.10/site-packages (from stack-data->ipython>=5.4.1->jupyterthemes) (1.2.0)\n",
      "Requirement already satisfied: pure-eval in ./ge_lstm/lib/python3.10/site-packages (from stack-data->ipython>=5.4.1->jupyterthemes) (0.2.2)\n",
      "Requirement already satisfied: asttokens>=2.1.0 in ./ge_lstm/lib/python3.10/site-packages (from stack-data->ipython>=5.4.1->jupyterthemes) (2.2.1)\n",
      "Requirement already satisfied: pyrsistent!=0.17.0,!=0.17.1,!=0.17.2,>=0.14.0 in ./ge_lstm/lib/python3.10/site-packages (from jsonschema>=2.6->nbformat->notebook>=5.6.0->jupyterthemes) (0.19.3)\n",
      "Requirement already satisfied: attrs>=17.4.0 in ./ge_lstm/lib/python3.10/site-packages (from jsonschema>=2.6->nbformat->notebook>=5.6.0->jupyterthemes) (22.2.0)\n",
      "Requirement already satisfied: jupyter-events>=0.4.0 in ./ge_lstm/lib/python3.10/site-packages (from jupyter-server>=1.8->nbclassic>=0.4.7->notebook>=5.6.0->jupyterthemes) (0.6.3)\n",
      "Requirement already satisfied: jupyter-server-terminals in ./ge_lstm/lib/python3.10/site-packages (from jupyter-server>=1.8->nbclassic>=0.4.7->notebook>=5.6.0->jupyterthemes) (0.4.4)\n",
      "Requirement already satisfied: websocket-client in ./ge_lstm/lib/python3.10/site-packages (from jupyter-server>=1.8->nbclassic>=0.4.7->notebook>=5.6.0->jupyterthemes) (1.5.1)\n",
      "Requirement already satisfied: anyio>=3.1.0 in ./ge_lstm/lib/python3.10/site-packages (from jupyter-server>=1.8->nbclassic>=0.4.7->notebook>=5.6.0->jupyterthemes) (3.6.2)\n",
      "Requirement already satisfied: cffi>=1.0.1 in ./ge_lstm/lib/python3.10/site-packages (from argon2-cffi-bindings->argon2-cffi->notebook>=5.6.0->jupyterthemes) (1.15.1)\n",
      "Requirement already satisfied: soupsieve>1.2 in ./ge_lstm/lib/python3.10/site-packages (from beautifulsoup4->nbconvert>=5->notebook>=5.6.0->jupyterthemes) (2.4)\n",
      "Requirement already satisfied: webencodings in ./ge_lstm/lib/python3.10/site-packages (from bleach->nbconvert>=5->notebook>=5.6.0->jupyterthemes) (0.5.1)\n",
      "Requirement already satisfied: sniffio>=1.1 in ./ge_lstm/lib/python3.10/site-packages (from anyio>=3.1.0->jupyter-server>=1.8->nbclassic>=0.4.7->notebook>=5.6.0->jupyterthemes) (1.3.0)\n",
      "Requirement already satisfied: idna>=2.8 in ./ge_lstm/lib/python3.10/site-packages (from anyio>=3.1.0->jupyter-server>=1.8->nbclassic>=0.4.7->notebook>=5.6.0->jupyterthemes) (3.4)\n",
      "Requirement already satisfied: pycparser in ./ge_lstm/lib/python3.10/site-packages (from cffi>=1.0.1->argon2-cffi-bindings->argon2-cffi->notebook>=5.6.0->jupyterthemes) (2.21)\n",
      "Requirement already satisfied: python-json-logger>=2.0.4 in ./ge_lstm/lib/python3.10/site-packages (from jupyter-events>=0.4.0->jupyter-server>=1.8->nbclassic>=0.4.7->notebook>=5.6.0->jupyterthemes) (2.0.7)\n",
      "Requirement already satisfied: pyyaml>=5.3 in ./ge_lstm/lib/python3.10/site-packages (from jupyter-events>=0.4.0->jupyter-server>=1.8->nbclassic>=0.4.7->notebook>=5.6.0->jupyterthemes) (6.0)\n",
      "Requirement already satisfied: rfc3986-validator>=0.1.1 in ./ge_lstm/lib/python3.10/site-packages (from jupyter-events>=0.4.0->jupyter-server>=1.8->nbclassic>=0.4.7->notebook>=5.6.0->jupyterthemes) (0.1.1)\n",
      "Requirement already satisfied: rfc3339-validator in ./ge_lstm/lib/python3.10/site-packages (from jupyter-events>=0.4.0->jupyter-server>=1.8->nbclassic>=0.4.7->notebook>=5.6.0->jupyterthemes) (0.1.4)\n",
      "Requirement already satisfied: isoduration in ./ge_lstm/lib/python3.10/site-packages (from jsonschema>=2.6->nbformat->notebook>=5.6.0->jupyterthemes) (20.11.0)\n",
      "Requirement already satisfied: uri-template in ./ge_lstm/lib/python3.10/site-packages (from jsonschema>=2.6->nbformat->notebook>=5.6.0->jupyterthemes) (1.2.0)\n",
      "Requirement already satisfied: fqdn in ./ge_lstm/lib/python3.10/site-packages (from jsonschema>=2.6->nbformat->notebook>=5.6.0->jupyterthemes) (1.5.1)\n",
      "Requirement already satisfied: jsonpointer>1.13 in ./ge_lstm/lib/python3.10/site-packages (from jsonschema>=2.6->nbformat->notebook>=5.6.0->jupyterthemes) (2.3)\n",
      "Requirement already satisfied: webcolors>=1.11 in ./ge_lstm/lib/python3.10/site-packages (from jsonschema>=2.6->nbformat->notebook>=5.6.0->jupyterthemes) (1.13)\n",
      "Requirement already satisfied: arrow>=0.15.0 in ./ge_lstm/lib/python3.10/site-packages (from isoduration->jsonschema>=2.6->nbformat->notebook>=5.6.0->jupyterthemes) (1.2.3)\n",
      "Installing collected packages: ply, pyparsing, pillow, numpy, lesscpy, kiwisolver, fonttools, cycler, contourpy, matplotlib, jupyterthemes\n",
      "Successfully installed contourpy-1.0.7 cycler-0.11.0 fonttools-4.39.2 jupyterthemes-0.20.0 kiwisolver-1.4.4 lesscpy-0.15.1 matplotlib-3.7.1 numpy-1.24.2 pillow-9.4.0 ply-3.11 pyparsing-3.0.9\n"
     ]
    }
   ],
   "source": [
    "!pip install jupyterthemes"
   ]
  },
  {
   "cell_type": "code",
   "execution_count": 2,
   "id": "34e247e6",
   "metadata": {},
   "outputs": [],
   "source": [
    "!jt -t onedork -cellw 88% -T"
   ]
  },
  {
   "cell_type": "markdown",
   "id": "fd769af5",
   "metadata": {},
   "source": [
    "# Preparação dos dados"
   ]
  },
  {
   "cell_type": "code",
   "execution_count": 2,
   "id": "16d72509",
   "metadata": {},
   "outputs": [
    {
     "data": {
      "text/html": [
       "<div>\n",
       "<style scoped>\n",
       "    .dataframe tbody tr th:only-of-type {\n",
       "        vertical-align: middle;\n",
       "    }\n",
       "\n",
       "    .dataframe tbody tr th {\n",
       "        vertical-align: top;\n",
       "    }\n",
       "\n",
       "    .dataframe thead th {\n",
       "        text-align: right;\n",
       "    }\n",
       "</style>\n",
       "<table border=\"1\" class=\"dataframe\">\n",
       "  <thead>\n",
       "    <tr style=\"text-align: right;\">\n",
       "      <th></th>\n",
       "      <th>date</th>\n",
       "      <th>time</th>\n",
       "      <th>title</th>\n",
       "      <th>text</th>\n",
       "      <th>link</th>\n",
       "      <th>club</th>\n",
       "    </tr>\n",
       "  </thead>\n",
       "  <tbody>\n",
       "    <tr>\n",
       "      <th>0</th>\n",
       "      <td>10/11/2022</td>\n",
       "      <td>19h55</td>\n",
       "      <td>Convocados do Uruguai para a Copa do Mundo 202...</td>\n",
       "      <td>O técnico Diego Alonso divulgou a lista dos 2...</td>\n",
       "      <td>https://ge.globo.com/futebol/copa-do-mundo/not...</td>\n",
       "      <td>athletico-pr</td>\n",
       "    </tr>\n",
       "    <tr>\n",
       "      <th>1</th>\n",
       "      <td>22/12/2017</td>\n",
       "      <td>10h04</td>\n",
       "      <td>Conmebol divulga tabela detalhada da pré e da ...</td>\n",
       "      <td>Argentinos são destaques no caminho dos brasi...</td>\n",
       "      <td>https://globoesporte.globo.com/futebol/liberta...</td>\n",
       "      <td>athletico-pr</td>\n",
       "    </tr>\n",
       "    <tr>\n",
       "      <th>2</th>\n",
       "      <td>11/02/2018</td>\n",
       "      <td>08h00</td>\n",
       "      <td>Com assistência, Demethryus recebe elogios no ...</td>\n",
       "      <td>O meia Demethryus conseguiu aproveitar bem a ...</td>\n",
       "      <td>https://globoesporte.globo.com/pr/futebol/time...</td>\n",
       "      <td>athletico-pr</td>\n",
       "    </tr>\n",
       "    <tr>\n",
       "      <th>3</th>\n",
       "      <td>18/12/2020</td>\n",
       "      <td>12h48</td>\n",
       "      <td>Athletico confirma fim de contrato com Welling...</td>\n",
       "      <td>A reportagem do ge já havia adiantado que as ...</td>\n",
       "      <td>https://globoesporte.globo.com/pr/futebol/time...</td>\n",
       "      <td>athletico-pr</td>\n",
       "    </tr>\n",
       "    <tr>\n",
       "      <th>4</th>\n",
       "      <td>13/09/2018</td>\n",
       "      <td>22h17</td>\n",
       "      <td>Alô, cartoleiros! Atlético-PR passa limpo cont...</td>\n",
       "      <td>O atacante Marcelo Cirino, desfalque já nos ú...</td>\n",
       "      <td>https://globoesporte.globo.com/pr/futebol/time...</td>\n",
       "      <td>athletico-pr</td>\n",
       "    </tr>\n",
       "  </tbody>\n",
       "</table>\n",
       "</div>"
      ],
      "text/plain": [
       "         date   time                                              title  \\\n",
       "0  10/11/2022  19h55  Convocados do Uruguai para a Copa do Mundo 202...   \n",
       "1  22/12/2017  10h04  Conmebol divulga tabela detalhada da pré e da ...   \n",
       "2  11/02/2018  08h00  Com assistência, Demethryus recebe elogios no ...   \n",
       "3  18/12/2020  12h48  Athletico confirma fim de contrato com Welling...   \n",
       "4  13/09/2018  22h17  Alô, cartoleiros! Atlético-PR passa limpo cont...   \n",
       "\n",
       "                                                text  \\\n",
       "0   O técnico Diego Alonso divulgou a lista dos 2...   \n",
       "1   Argentinos são destaques no caminho dos brasi...   \n",
       "2   O meia Demethryus conseguiu aproveitar bem a ...   \n",
       "3   A reportagem do ge já havia adiantado que as ...   \n",
       "4   O atacante Marcelo Cirino, desfalque já nos ú...   \n",
       "\n",
       "                                                link          club  \n",
       "0  https://ge.globo.com/futebol/copa-do-mundo/not...  athletico-pr  \n",
       "1  https://globoesporte.globo.com/futebol/liberta...  athletico-pr  \n",
       "2  https://globoesporte.globo.com/pr/futebol/time...  athletico-pr  \n",
       "3  https://globoesporte.globo.com/pr/futebol/time...  athletico-pr  \n",
       "4  https://globoesporte.globo.com/pr/futebol/time...  athletico-pr  "
      ]
     },
     "execution_count": 2,
     "metadata": {},
     "output_type": "execute_result"
    }
   ],
   "source": [
    "import pandas as pd\n",
    "\n",
    "# Lê o arquivo .csv\n",
    "df = pd.read_csv('ge_news.csv')\n",
    "\n",
    "# Exibe as primeiras linhas\n",
    "df.head()"
   ]
  },
  {
   "cell_type": "code",
   "execution_count": 3,
   "id": "4750c7b4",
   "metadata": {},
   "outputs": [],
   "source": [
    "# Removendo simultaneamente as colunas de índice 0, 1, 4 (date, time and link)\n",
    "column_indices = [0, 1, 4]\n",
    "df.drop([df.columns[i] for i in column_indices], axis=1, inplace=True)"
   ]
  },
  {
   "cell_type": "code",
   "execution_count": 4,
   "id": "4190d3fe",
   "metadata": {},
   "outputs": [
    {
     "data": {
      "text/html": [
       "<div>\n",
       "<style scoped>\n",
       "    .dataframe tbody tr th:only-of-type {\n",
       "        vertical-align: middle;\n",
       "    }\n",
       "\n",
       "    .dataframe tbody tr th {\n",
       "        vertical-align: top;\n",
       "    }\n",
       "\n",
       "    .dataframe thead th {\n",
       "        text-align: right;\n",
       "    }\n",
       "</style>\n",
       "<table border=\"1\" class=\"dataframe\">\n",
       "  <thead>\n",
       "    <tr style=\"text-align: right;\">\n",
       "      <th></th>\n",
       "      <th>title</th>\n",
       "      <th>text</th>\n",
       "      <th>club</th>\n",
       "    </tr>\n",
       "  </thead>\n",
       "  <tbody>\n",
       "    <tr>\n",
       "      <th>0</th>\n",
       "      <td>Convocados do Uruguai para a Copa do Mundo 202...</td>\n",
       "      <td>O técnico Diego Alonso divulgou a lista dos 2...</td>\n",
       "      <td>athletico-pr</td>\n",
       "    </tr>\n",
       "    <tr>\n",
       "      <th>1</th>\n",
       "      <td>Conmebol divulga tabela detalhada da pré e da ...</td>\n",
       "      <td>Argentinos são destaques no caminho dos brasi...</td>\n",
       "      <td>athletico-pr</td>\n",
       "    </tr>\n",
       "    <tr>\n",
       "      <th>2</th>\n",
       "      <td>Com assistência, Demethryus recebe elogios no ...</td>\n",
       "      <td>O meia Demethryus conseguiu aproveitar bem a ...</td>\n",
       "      <td>athletico-pr</td>\n",
       "    </tr>\n",
       "    <tr>\n",
       "      <th>3</th>\n",
       "      <td>Athletico confirma fim de contrato com Welling...</td>\n",
       "      <td>A reportagem do ge já havia adiantado que as ...</td>\n",
       "      <td>athletico-pr</td>\n",
       "    </tr>\n",
       "    <tr>\n",
       "      <th>4</th>\n",
       "      <td>Alô, cartoleiros! Atlético-PR passa limpo cont...</td>\n",
       "      <td>O atacante Marcelo Cirino, desfalque já nos ú...</td>\n",
       "      <td>athletico-pr</td>\n",
       "    </tr>\n",
       "  </tbody>\n",
       "</table>\n",
       "</div>"
      ],
      "text/plain": [
       "                                               title  \\\n",
       "0  Convocados do Uruguai para a Copa do Mundo 202...   \n",
       "1  Conmebol divulga tabela detalhada da pré e da ...   \n",
       "2  Com assistência, Demethryus recebe elogios no ...   \n",
       "3  Athletico confirma fim de contrato com Welling...   \n",
       "4  Alô, cartoleiros! Atlético-PR passa limpo cont...   \n",
       "\n",
       "                                                text          club  \n",
       "0   O técnico Diego Alonso divulgou a lista dos 2...  athletico-pr  \n",
       "1   Argentinos são destaques no caminho dos brasi...  athletico-pr  \n",
       "2   O meia Demethryus conseguiu aproveitar bem a ...  athletico-pr  \n",
       "3   A reportagem do ge já havia adiantado que as ...  athletico-pr  \n",
       "4   O atacante Marcelo Cirino, desfalque já nos ú...  athletico-pr  "
      ]
     },
     "execution_count": 4,
     "metadata": {},
     "output_type": "execute_result"
    }
   ],
   "source": [
    "df.head()"
   ]
  },
  {
   "cell_type": "code",
   "execution_count": 5,
   "id": "e7b3299a",
   "metadata": {},
   "outputs": [],
   "source": [
    "# Fundindo colunas 'title' e 'text' para a coluna 'title_and_text'\n",
    "df['data'] = df['title'] + ' ' + df['text']"
   ]
  },
  {
   "cell_type": "code",
   "execution_count": 6,
   "id": "e8db8b90",
   "metadata": {},
   "outputs": [
    {
     "data": {
      "text/html": [
       "<div>\n",
       "<style scoped>\n",
       "    .dataframe tbody tr th:only-of-type {\n",
       "        vertical-align: middle;\n",
       "    }\n",
       "\n",
       "    .dataframe tbody tr th {\n",
       "        vertical-align: top;\n",
       "    }\n",
       "\n",
       "    .dataframe thead th {\n",
       "        text-align: right;\n",
       "    }\n",
       "</style>\n",
       "<table border=\"1\" class=\"dataframe\">\n",
       "  <thead>\n",
       "    <tr style=\"text-align: right;\">\n",
       "      <th></th>\n",
       "      <th>title</th>\n",
       "      <th>text</th>\n",
       "      <th>club</th>\n",
       "      <th>data</th>\n",
       "    </tr>\n",
       "  </thead>\n",
       "  <tbody>\n",
       "    <tr>\n",
       "      <th>0</th>\n",
       "      <td>Convocados do Uruguai para a Copa do Mundo 202...</td>\n",
       "      <td>O técnico Diego Alonso divulgou a lista dos 2...</td>\n",
       "      <td>athletico-pr</td>\n",
       "      <td>Convocados do Uruguai para a Copa do Mundo 202...</td>\n",
       "    </tr>\n",
       "    <tr>\n",
       "      <th>1</th>\n",
       "      <td>Conmebol divulga tabela detalhada da pré e da ...</td>\n",
       "      <td>Argentinos são destaques no caminho dos brasi...</td>\n",
       "      <td>athletico-pr</td>\n",
       "      <td>Conmebol divulga tabela detalhada da pré e da ...</td>\n",
       "    </tr>\n",
       "    <tr>\n",
       "      <th>2</th>\n",
       "      <td>Com assistência, Demethryus recebe elogios no ...</td>\n",
       "      <td>O meia Demethryus conseguiu aproveitar bem a ...</td>\n",
       "      <td>athletico-pr</td>\n",
       "      <td>Com assistência, Demethryus recebe elogios no ...</td>\n",
       "    </tr>\n",
       "    <tr>\n",
       "      <th>3</th>\n",
       "      <td>Athletico confirma fim de contrato com Welling...</td>\n",
       "      <td>A reportagem do ge já havia adiantado que as ...</td>\n",
       "      <td>athletico-pr</td>\n",
       "      <td>Athletico confirma fim de contrato com Welling...</td>\n",
       "    </tr>\n",
       "    <tr>\n",
       "      <th>4</th>\n",
       "      <td>Alô, cartoleiros! Atlético-PR passa limpo cont...</td>\n",
       "      <td>O atacante Marcelo Cirino, desfalque já nos ú...</td>\n",
       "      <td>athletico-pr</td>\n",
       "      <td>Alô, cartoleiros! Atlético-PR passa limpo cont...</td>\n",
       "    </tr>\n",
       "  </tbody>\n",
       "</table>\n",
       "</div>"
      ],
      "text/plain": [
       "                                               title  \\\n",
       "0  Convocados do Uruguai para a Copa do Mundo 202...   \n",
       "1  Conmebol divulga tabela detalhada da pré e da ...   \n",
       "2  Com assistência, Demethryus recebe elogios no ...   \n",
       "3  Athletico confirma fim de contrato com Welling...   \n",
       "4  Alô, cartoleiros! Atlético-PR passa limpo cont...   \n",
       "\n",
       "                                                text          club  \\\n",
       "0   O técnico Diego Alonso divulgou a lista dos 2...  athletico-pr   \n",
       "1   Argentinos são destaques no caminho dos brasi...  athletico-pr   \n",
       "2   O meia Demethryus conseguiu aproveitar bem a ...  athletico-pr   \n",
       "3   A reportagem do ge já havia adiantado que as ...  athletico-pr   \n",
       "4   O atacante Marcelo Cirino, desfalque já nos ú...  athletico-pr   \n",
       "\n",
       "                                                data  \n",
       "0  Convocados do Uruguai para a Copa do Mundo 202...  \n",
       "1  Conmebol divulga tabela detalhada da pré e da ...  \n",
       "2  Com assistência, Demethryus recebe elogios no ...  \n",
       "3  Athletico confirma fim de contrato com Welling...  \n",
       "4  Alô, cartoleiros! Atlético-PR passa limpo cont...  "
      ]
     },
     "execution_count": 6,
     "metadata": {},
     "output_type": "execute_result"
    }
   ],
   "source": [
    "df.head()"
   ]
  },
  {
   "cell_type": "code",
   "execution_count": 7,
   "id": "389e2ace",
   "metadata": {},
   "outputs": [],
   "source": [
    "from sklearn.preprocessing import LabelEncoder\n",
    "\n",
    "# Cria um objeto LabelEncoder\n",
    "le = LabelEncoder()\n",
    "\n",
    "# Fitting the encoder and transforming the 'Animals' column\n",
    "df['label'] = le.fit_transform(df['club'])"
   ]
  },
  {
   "cell_type": "code",
   "execution_count": 8,
   "id": "5e04bd12",
   "metadata": {},
   "outputs": [],
   "source": [
    "# Removendo as três colunas originais, não precisamos mais delas\n",
    "column_indices = [0, 1, 2]\n",
    "df.drop([df.columns[i] for i in column_indices], axis=1, inplace=True)"
   ]
  },
  {
   "cell_type": "code",
   "execution_count": 9,
   "id": "6c41ada1",
   "metadata": {},
   "outputs": [
    {
     "data": {
      "text/html": [
       "<div>\n",
       "<style scoped>\n",
       "    .dataframe tbody tr th:only-of-type {\n",
       "        vertical-align: middle;\n",
       "    }\n",
       "\n",
       "    .dataframe tbody tr th {\n",
       "        vertical-align: top;\n",
       "    }\n",
       "\n",
       "    .dataframe thead th {\n",
       "        text-align: right;\n",
       "    }\n",
       "</style>\n",
       "<table border=\"1\" class=\"dataframe\">\n",
       "  <thead>\n",
       "    <tr style=\"text-align: right;\">\n",
       "      <th></th>\n",
       "      <th>data</th>\n",
       "      <th>label</th>\n",
       "    </tr>\n",
       "  </thead>\n",
       "  <tbody>\n",
       "    <tr>\n",
       "      <th>0</th>\n",
       "      <td>Convocados do Uruguai para a Copa do Mundo 202...</td>\n",
       "      <td>0</td>\n",
       "    </tr>\n",
       "    <tr>\n",
       "      <th>1</th>\n",
       "      <td>Conmebol divulga tabela detalhada da pré e da ...</td>\n",
       "      <td>0</td>\n",
       "    </tr>\n",
       "    <tr>\n",
       "      <th>2</th>\n",
       "      <td>Com assistência, Demethryus recebe elogios no ...</td>\n",
       "      <td>0</td>\n",
       "    </tr>\n",
       "    <tr>\n",
       "      <th>3</th>\n",
       "      <td>Athletico confirma fim de contrato com Welling...</td>\n",
       "      <td>0</td>\n",
       "    </tr>\n",
       "    <tr>\n",
       "      <th>4</th>\n",
       "      <td>Alô, cartoleiros! Atlético-PR passa limpo cont...</td>\n",
       "      <td>0</td>\n",
       "    </tr>\n",
       "  </tbody>\n",
       "</table>\n",
       "</div>"
      ],
      "text/plain": [
       "                                                data  label\n",
       "0  Convocados do Uruguai para a Copa do Mundo 202...      0\n",
       "1  Conmebol divulga tabela detalhada da pré e da ...      0\n",
       "2  Com assistência, Demethryus recebe elogios no ...      0\n",
       "3  Athletico confirma fim de contrato com Welling...      0\n",
       "4  Alô, cartoleiros! Atlético-PR passa limpo cont...      0"
      ]
     },
     "execution_count": 9,
     "metadata": {},
     "output_type": "execute_result"
    }
   ],
   "source": [
    "df.head()"
   ]
  },
  {
   "cell_type": "code",
   "execution_count": 10,
   "id": "13a347bd",
   "metadata": {},
   "outputs": [
    {
     "data": {
      "image/png": "[encoded data removed]",
      "text/plain": [
       "<Figure size 1200x600 with 1 Axes>"
      ]
     },
     "metadata": {},
     "output_type": "display_data"
    }
   ],
   "source": [
    "import pandas as pd\n",
    "import matplotlib.pyplot as plt\n",
    "\n",
    "# Assuming your DataFrame is named `ds` and has columns 'data' and 'label'\n",
    "category_counts = df['label'].value_counts()\n",
    "\n",
    "# Plot the distribution of categories\n",
    "plt.figure(figsize=(12, 6))\n",
    "category_counts.plot(kind='bar')\n",
    "plt.xlabel('Categories')\n",
    "plt.ylabel('Number of Articles')\n",
    "plt.title('Distribution of Categories in the Dataset')\n",
    "plt.show()"
   ]
  },
  {
   "cell_type": "markdown",
   "id": "b67b64c5",
   "metadata": {},
   "source": [
    "# Pré-processamento"
   ]
  },
  {
   "cell_type": "code",
   "execution_count": 11,
   "id": "19f5c36a",
   "metadata": {},
   "outputs": [
    {
     "name": "stderr",
     "output_type": "stream",
     "text": [
      "[nltk_data] Downloading package punkt to /home/lucas/nltk_data...\n",
      "[nltk_data]   Unzipping tokenizers/punkt.zip.\n",
      "[nltk_data] Downloading package stopwords to /home/lucas/nltk_data...\n",
      "[nltk_data]   Unzipping corpora/stopwords.zip.\n",
      "[nltk_data] Downloading package wordnet to /home/lucas/nltk_data...\n",
      "[nltk_data] Downloading package averaged_perceptron_tagger to\n",
      "[nltk_data]     /home/lucas/nltk_data...\n",
      "[nltk_data]   Unzipping taggers/averaged_perceptron_tagger.zip.\n"
     ]
    },
    {
     "data": {
      "text/plain": [
       "True"
      ]
     },
     "execution_count": 11,
     "metadata": {},
     "output_type": "execute_result"
    }
   ],
   "source": [
    "import nltk\n",
    "from nltk.corpus import stopwords\n",
    "from nltk.tokenize import word_tokenize\n",
    "from nltk.stem import WordNetLemmatizer\n",
    "from nltk.corpus import wordnet\n",
    "\n",
    "nltk.download('punkt')\n",
    "nltk.download('stopwords')\n",
    "nltk.download('wordnet')\n",
    "nltk.download('averaged_perceptron_tagger')"
   ]
  },
  {
   "cell_type": "code",
   "execution_count": 12,
   "id": "4ea6c46b",
   "metadata": {},
   "outputs": [
    {
     "name": "stdout",
     "output_type": "stream",
     "text": [
      "Removendo pontuação...\n"
     ]
    },
    {
     "name": "stderr",
     "output_type": "stream",
     "text": [
      "100%|███████████████████████████████████████████████████████████████████████████████████████████████████████████████████| 191005/191005 [00:24<00:00, 7761.57it/s]\n"
     ]
    },
    {
     "name": "stdout",
     "output_type": "stream",
     "text": [
      "Aplicando tokenização...\n"
     ]
    },
    {
     "name": "stderr",
     "output_type": "stream",
     "text": [
      "100%|███████████████████████████████████████████████████████████████████████████████████████████████████████████████████| 191005/191005 [02:41<00:00, 1185.53it/s]\n"
     ]
    },
    {
     "name": "stdout",
     "output_type": "stream",
     "text": [
      "Removendo stopwords...\n"
     ]
    },
    {
     "name": "stderr",
     "output_type": "stream",
     "text": [
      "100%|██████████████████████████████████████████████████████████████████████████████████████████████████████████████████| 191005/191005 [00:07<00:00, 26689.10it/s]\n"
     ]
    },
    {
     "name": "stdout",
     "output_type": "stream",
     "text": [
      "Computando Lematização...\n"
     ]
    },
    {
     "name": "stderr",
     "output_type": "stream",
     "text": [
      "100%|████████████████████████████████████████████████████████████████████████████████████████████████████████████████████| 191005/191005 [28:07<00:00, 113.16it/s]\n"
     ]
    }
   ],
   "source": [
    "import string\n",
    "from collections import defaultdict\n",
    "from tqdm import tqdm\n",
    "\n",
    "tqdm.pandas()\n",
    "\n",
    "def preprocess_text(df, text_column):\n",
    "    \"\"\"\n",
    "    Realiza o pré-processamento dos dados de texto em um DataFrame do Pandas.\n",
    "    Remove pontuação, palavras comuns (stop words) e aplica lematização.\n",
    "    \"\"\"\n",
    "    \n",
    "    # Cria uma tabela de tradução que mapeia cada caractere de pontuação do módulo `string.punctuation` \n",
    "    # para `None` (ou seja, remove-os do texto).\n",
    "    print(\"Removendo pontuação...\")\n",
    "    translator = str.maketrans('', '', string.punctuation) \n",
    "    df[text_column] = df[text_column].progress_apply(lambda x: x.translate(translator))\n",
    "        \n",
    "    # Usa o método `apply()` do Pandas DataFrame para aplicar o tokenizador `word_tokenize()` do NLTK \n",
    "    # a cada elemento da coluna `text_column` especificada em `df_clean` após converter cada elemento \n",
    "    # para letras minúsculas.\n",
    "    print(\"Aplicando tokenização...\")\n",
    "    df[text_column] = df[text_column].progress_apply(lambda x: word_tokenize(x.lower()))\n",
    "\n",
    "    # Remove palavras comuns (stop words)\n",
    "    print(\"Removendo stopwords...\")\n",
    "    stop_words = set(stopwords.words('portuguese'))\n",
    "    df[text_column] = df[text_column].progress_apply(lambda x: [word for word in x if word not in stop_words])\n",
    "       \n",
    "    def get_wordnet_pos(tag):\n",
    "        \"\"\"\n",
    "        Mapeia a tag POS (classe gramatical) para o primeiro caractere usado pelo WordNetLemmatizer\n",
    "        \"\"\"\n",
    "        if tag.startswith('J'):\n",
    "            return wordnet.ADJ\n",
    "        elif tag.startswith('V'):\n",
    "            return wordnet.VERB\n",
    "        elif tag.startswith('R'):\n",
    "            return wordnet.ADV\n",
    "        else:\n",
    "            return wordnet.NOUN\n",
    "    \n",
    "    def lemmatize_words(words):\n",
    "        lemmatizer = WordNetLemmatizer()\n",
    "        pos_tagged_words = nltk.pos_tag(words)\n",
    "        return [lemmatizer.lemmatize(word, get_wordnet_pos(tag)) for word, tag in pos_tagged_words]\n",
    "    \n",
    "    # Retorna o valor correspondente à tag POS da palavra, usando o dicionário de mapeamento criado acima\n",
    "    print(\"Computando Lematização...\")\n",
    "    df[text_column] = df[text_column].progress_apply(lemmatize_words)\n",
    "\n",
    "    #return df_clean\n",
    "    \n",
    "preprocess_text(df, 'data')"
   ]
  },
  {
   "cell_type": "code",
   "execution_count": 1,
   "id": "72e0c6ac",
   "metadata": {
    "scrolled": true
   },
   "outputs": [
    {
     "ename": "NameError",
     "evalue": "name 'df' is not defined",
     "output_type": "error",
     "traceback": [
      "\u001b[0;31m---------------------------------------------------------------------------\u001b[0m",
      "\u001b[0;31mNameError\u001b[0m                                 Traceback (most recent call last)",
      "Cell \u001b[0;32mIn[1], line 2\u001b[0m\n\u001b[1;32m      1\u001b[0m \u001b[38;5;66;03m# Salvar em formato pickle\u001b[39;00m\n\u001b[0;32m----> 2\u001b[0m \u001b[43mdf\u001b[49m\u001b[38;5;241m.\u001b[39mto_pickle(\u001b[38;5;124m\"\u001b[39m\u001b[38;5;124mge.pkl\u001b[39m\u001b[38;5;124m\"\u001b[39m)\n\u001b[1;32m      4\u001b[0m df\n",
      "\u001b[0;31mNameError\u001b[0m: name 'df' is not defined"
     ]
    }
   ],
   "source": [
    "# Salvar em formato pickle\n",
    "df.to_pickle(\"ge.pkl\")\n",
    "\n",
    "df"
   ]
  },
  {
   "cell_type": "code",
   "execution_count": 1,
   "id": "942bea8d",
   "metadata": {},
   "outputs": [],
   "source": [
    "import pandas as pd\n",
    "\n",
    "df = pd.read_pickle(\"ge.pkl\")"
   ]
  },
  {
   "cell_type": "markdown",
   "id": "479c5d8f",
   "metadata": {},
   "source": [
    "# Treinando modelo Word2vec"
   ]
  },
  {
   "cell_type": "code",
   "execution_count": 2,
   "id": "2bb15c8a",
   "metadata": {},
   "outputs": [],
   "source": [
    "from gensim.models import Word2Vec\n",
    "from gensim.models.callbacks import CallbackAny2Vec"
   ]
  },
  {
   "cell_type": "code",
   "execution_count": 3,
   "id": "1c60aac8",
   "metadata": {},
   "outputs": [],
   "source": [
    "# Custom callback class for Word2Vec training\n",
    "class SimpleTextCallback(CallbackAny2Vec):\n",
    "    def __init__(self, total_epochs):\n",
    "        self.epoch = 0\n",
    "        self.total_epochs = total_epochs\n",
    "\n",
    "    def on_epoch_end(self, model):\n",
    "        self.epoch += 1\n",
    "        print(f\"Epoch {self.epoch} of {self.total_epochs} completed.\")"
   ]
  },
  {
   "cell_type": "code",
   "execution_count": 4,
   "id": "459e1e34",
   "metadata": {},
   "outputs": [],
   "source": [
    "# Extract tokenized documents from the 'data' column\n",
    "preprocessed_articles = df['data'].tolist()"
   ]
  },
  {
   "cell_type": "code",
   "execution_count": 22,
   "id": "57b48c11",
   "metadata": {},
   "outputs": [
    {
     "name": "stdout",
     "output_type": "stream",
     "text": [
      "Epoch 1 of 10 completed.\n",
      "Epoch 2 of 10 completed.\n",
      "Epoch 3 of 10 completed.\n",
      "Epoch 4 of 10 completed.\n",
      "Epoch 5 of 10 completed.\n",
      "Epoch 6 of 10 completed.\n",
      "Epoch 7 of 10 completed.\n",
      "Epoch 8 of 10 completed.\n",
      "Epoch 9 of 10 completed.\n",
      "Epoch 10 of 10 completed.\n"
     ]
    },
    {
     "data": {
      "text/plain": [
       "(445940014, 455234750)"
      ]
     },
     "execution_count": 22,
     "metadata": {},
     "output_type": "execute_result"
    }
   ],
   "source": [
    "# Initialize the Word2Vec model\n",
    "word2vec_model = Word2Vec(vector_size=100, window=5, min_count=1, workers=4)\n",
    "\n",
    "# Build the vocabulary\n",
    "word2vec_model.build_vocab(preprocessed_articles)\n",
    "\n",
    "# Train the Word2Vec model with the custom progress update\n",
    "total_epochs = 10\n",
    "callback = SimpleTextCallback(total_epochs)\n",
    "word2vec_model.train(preprocessed_articles, total_examples=word2vec_model.corpus_count, \n",
    "                     epochs=total_epochs, callbacks=[callback])"
   ]
  },
  {
   "cell_type": "code",
   "execution_count": 7,
   "id": "f93908b2",
   "metadata": {},
   "outputs": [],
   "source": [
    "from gensim.models import Word2Vec\n",
    "\n",
    "# Load the Word2Vec model from the file\n",
    "word2vec_model = Word2Vec.load(\"word2vec_model.model\")"
   ]
  },
  {
   "cell_type": "code",
   "execution_count": 8,
   "id": "0b433193",
   "metadata": {},
   "outputs": [
    {
     "data": {
      "text/plain": [
       "[('fluminense', 0.8884649276733398),\n",
       " ('palmeiras', 0.8508396148681641),\n",
       " ('botafogo', 0.8110420107841492),\n",
       " ('atléticomg', 0.7962134480476379),\n",
       " ('grêmio', 0.7954407930374146),\n",
       " ('vasco', 0.7945719361305237),\n",
       " ('corinthian', 0.7738872766494751),\n",
       " ('internacional', 0.7214665412902832),\n",
       " ('corinthians', 0.7203207015991211),\n",
       " ('fla', 0.7034094929695129)]"
      ]
     },
     "execution_count": 8,
     "metadata": {},
     "output_type": "execute_result"
    }
   ],
   "source": [
    "# Find words most similar to target word\n",
    "word2vec_model.wv.most_similar('flamengo')"
   ]
  },
  {
   "cell_type": "code",
   "execution_count": 9,
   "id": "f672fdbd",
   "metadata": {},
   "outputs": [],
   "source": [
    "# Create word-to-index and index-to-word dictionaries\n",
    "word_to_index = {}\n",
    "index_to_word = {}\n",
    "for i, word in enumerate(word2vec_model.wv.index_to_key):\n",
    "    word_to_index[word] = i + 1\n",
    "    index_to_word[i + 1] = word"
   ]
  },
  {
   "cell_type": "code",
   "execution_count": 10,
   "id": "d6ffe380",
   "metadata": {
    "scrolled": false
   },
   "outputs": [
    {
     "name": "stderr",
     "output_type": "stream",
     "text": [
      "100%|████████████████████████████████| 191005/191005 [00:10<00:00, 17447.03it/s]\n"
     ]
    }
   ],
   "source": [
    "from tqdm import tqdm\n",
    "\n",
    "# Convert tokenized news into sequences of indices\n",
    "sequences = []\n",
    "for tokens in tqdm(preprocessed_articles):\n",
    "    sequence = []\n",
    "    for token in tokens:\n",
    "        if token in word_to_index:\n",
    "            sequence.append(word_to_index[token])\n",
    "    sequences.append(sequence)"
   ]
  },
  {
   "cell_type": "code",
   "execution_count": 11,
   "id": "dc88873c",
   "metadata": {},
   "outputs": [
    {
     "name": "stdout",
     "output_type": "stream",
     "text": [
      "convocados uruguai copa mundo 2022 veja lista técnico diego alonso divulgou lista 26 convocados uruguai copa mundo ídolos veteranos atacantes cavani suárez puxam elenco celeste ainda arrascaeta flamengo jovens valverde real madrid darwin núñez liverpool símbolos renovação alonso optou manter zagueiro ronald araújo barcelona lista defensor recupera lesão coxa joga desde fim setembro expectativa inicial poderia voltar jogar 2023 veja anúncio convocados uruguai copa mundo além arrascaeta outros doi jogadores atuam brasil chamados diego alonso lateral varela flamengo atacante canobbio athleticopr outros conhecidos torcida brasileira lista veterano zagueiro diego godín exatléticomg atualmente vélez sarsfield lateral matías viña expalmeiras atualmente rom uruguai vai terminar preparação copa mundo abu dhabi emirados árabes onde parte delegação desembarcou nesta quintafeira ida catar ocorre próximo dia 19 celeste grupo h copa lado portugal coreia sul gana estreia contra sulcoreanos dia 24 estádio cidade educação luis suárez arrascaeta sergio rochet lista final uruguai — foto divulgação\n"
     ]
    }
   ],
   "source": [
    "# Map the sequence of indices in sequences[0] back to a text representation\n",
    "text = \" \".join([index_to_word[i] for i in sequences[0]])\n",
    "\n",
    "# Print the resulting text representation\n",
    "print(text)"
   ]
  },
  {
   "cell_type": "code",
   "execution_count": 12,
   "id": "c75614eb",
   "metadata": {},
   "outputs": [
    {
     "name": "stdout",
     "output_type": "stream",
     "text": [
      "Mean sequence length:  238.3365618701081\n",
      "Maximum sequence length:  5411\n"
     ]
    }
   ],
   "source": [
    "import numpy as np\n",
    "\n",
    "# Compute the length of each sequence in the dataset\n",
    "sequence_lengths = [len(seq) for seq in sequences]\n",
    "\n",
    "# Compute the mean and maximum sequence length\n",
    "mean_length = np.mean(sequence_lengths)\n",
    "max_length = max(sequence_lengths)\n",
    "\n",
    "print(\"Mean sequence length: \", mean_length)\n",
    "print(\"Maximum sequence length: \", max_length)"
   ]
  },
  {
   "cell_type": "code",
   "execution_count": 13,
   "id": "8ab7d458",
   "metadata": {},
   "outputs": [
    {
     "name": "stderr",
     "output_type": "stream",
     "text": [
      "2023-03-29 22:47:20.964654: I tensorflow/core/platform/cpu_feature_guard.cc:193] This TensorFlow binary is optimized with oneAPI Deep Neural Network Library (oneDNN) to use the following CPU instructions in performance-critical operations:  AVX2 FMA\n",
      "To enable them in other operations, rebuild TensorFlow with the appropriate compiler flags.\n",
      "2023-03-29 22:47:22.345058: W tensorflow/compiler/xla/stream_executor/platform/default/dso_loader.cc:64] Could not load dynamic library 'libnvinfer.so.7'; dlerror: libnvinfer.so.7: cannot open shared object file: No such file or directory; LD_LIBRARY_PATH: :/home/lucas/miniconda3/envs/tf/lib/\n",
      "2023-03-29 22:47:22.345133: W tensorflow/compiler/xla/stream_executor/platform/default/dso_loader.cc:64] Could not load dynamic library 'libnvinfer_plugin.so.7'; dlerror: libnvinfer_plugin.so.7: cannot open shared object file: No such file or directory; LD_LIBRARY_PATH: :/home/lucas/miniconda3/envs/tf/lib/\n",
      "2023-03-29 22:47:22.345140: W tensorflow/compiler/tf2tensorrt/utils/py_utils.cc:38] TF-TRT Warning: Cannot dlopen some TensorRT libraries. If you would like to use Nvidia GPU with TensorRT, please make sure the missing libraries mentioned above are installed properly.\n"
     ]
    }
   ],
   "source": [
    "from tensorflow.keras.preprocessing.sequence import pad_sequences\n",
    "\n",
    "# Set the maximum sequence length\n",
    "max_length = int(mean_length) * 3\n",
    "\n",
    "# Pad sequences\n",
    "padded_sequences = pad_sequences(sequences, maxlen=max_length, padding='post')"
   ]
  },
  {
   "cell_type": "code",
   "execution_count": 29,
   "id": "bbf394bb",
   "metadata": {},
   "outputs": [
    {
     "data": {
      "text/plain": [
       "21"
      ]
     },
     "execution_count": 29,
     "metadata": {},
     "output_type": "execute_result"
    }
   ],
   "source": [
    "# Get the total number of unique values in the 'labels' column of the dataframe\n",
    "df['label'].nunique()"
   ]
  },
  {
   "cell_type": "code",
   "execution_count": 14,
   "id": "f7ce97f5",
   "metadata": {},
   "outputs": [],
   "source": [
    "import tensorflow.keras.utils as ku\n",
    "\n",
    "# Convert labels to one-hot encoded vectors\n",
    "num_classes = 21\n",
    "labels = ku.to_categorical(df['label'], num_classes)"
   ]
  },
  {
   "cell_type": "code",
   "execution_count": 31,
   "id": "22e8993e",
   "metadata": {},
   "outputs": [
    {
     "data": {
      "text/plain": [
       "array([[1., 0., 0., ..., 0., 0., 0.],\n",
       "       [1., 0., 0., ..., 0., 0., 0.],\n",
       "       [1., 0., 0., ..., 0., 0., 0.],\n",
       "       ...,\n",
       "       [0., 0., 0., ..., 0., 0., 0.],\n",
       "       [0., 0., 0., ..., 0., 0., 0.],\n",
       "       [0., 0., 0., ..., 0., 0., 0.]], dtype=float32)"
      ]
     },
     "execution_count": 31,
     "metadata": {},
     "output_type": "execute_result"
    }
   ],
   "source": [
    "labels"
   ]
  },
  {
   "cell_type": "code",
   "execution_count": 15,
   "id": "685a5668",
   "metadata": {},
   "outputs": [],
   "source": [
    "from sklearn.model_selection import train_test_split\n",
    "\n",
    "X_train, X_test, y_train, y_test = train_test_split(padded_sequences, labels, test_size=0.2)"
   ]
  },
  {
   "cell_type": "markdown",
   "id": "c412f308",
   "metadata": {},
   "source": [
    "# GPU"
   ]
  },
  {
   "cell_type": "code",
   "execution_count": 16,
   "id": "fb4e108c",
   "metadata": {},
   "outputs": [
    {
     "name": "stdout",
     "output_type": "stream",
     "text": [
      "Num GPUs Available:  1\n"
     ]
    },
    {
     "name": "stderr",
     "output_type": "stream",
     "text": [
      "2023-03-29 22:47:24.420779: I tensorflow/compiler/xla/stream_executor/cuda/cuda_gpu_executor.cc:981] successful NUMA node read from SysFS had negative value (-1), but there must be at least one NUMA node, so returning NUMA node zero\n",
      "2023-03-29 22:47:24.425950: I tensorflow/compiler/xla/stream_executor/cuda/cuda_gpu_executor.cc:981] successful NUMA node read from SysFS had negative value (-1), but there must be at least one NUMA node, so returning NUMA node zero\n",
      "2023-03-29 22:47:24.426123: I tensorflow/compiler/xla/stream_executor/cuda/cuda_gpu_executor.cc:981] successful NUMA node read from SysFS had negative value (-1), but there must be at least one NUMA node, so returning NUMA node zero\n"
     ]
    }
   ],
   "source": [
    "import tensorflow as tf\n",
    "print(\"Num GPUs Available: \", len(tf.config.list_physical_devices('GPU')))"
   ]
  },
  {
   "cell_type": "code",
   "execution_count": null,
   "id": "996575d5",
   "metadata": {},
   "outputs": [
    {
     "name": "stderr",
     "output_type": "stream",
     "text": [
      "2023-03-29 22:47:33.457795: I tensorflow/core/platform/cpu_feature_guard.cc:193] This TensorFlow binary is optimized with oneAPI Deep Neural Network Library (oneDNN) to use the following CPU instructions in performance-critical operations:  AVX2 FMA\n",
      "To enable them in other operations, rebuild TensorFlow with the appropriate compiler flags.\n",
      "2023-03-29 22:47:33.458322: I tensorflow/compiler/xla/stream_executor/cuda/cuda_gpu_executor.cc:981] successful NUMA node read from SysFS had negative value (-1), but there must be at least one NUMA node, so returning NUMA node zero\n",
      "2023-03-29 22:47:33.458538: I tensorflow/compiler/xla/stream_executor/cuda/cuda_gpu_executor.cc:981] successful NUMA node read from SysFS had negative value (-1), but there must be at least one NUMA node, so returning NUMA node zero\n",
      "2023-03-29 22:47:33.458665: I tensorflow/compiler/xla/stream_executor/cuda/cuda_gpu_executor.cc:981] successful NUMA node read from SysFS had negative value (-1), but there must be at least one NUMA node, so returning NUMA node zero\n",
      "2023-03-29 22:47:33.886205: I tensorflow/compiler/xla/stream_executor/cuda/cuda_gpu_executor.cc:981] successful NUMA node read from SysFS had negative value (-1), but there must be at least one NUMA node, so returning NUMA node zero\n",
      "2023-03-29 22:47:33.886400: I tensorflow/compiler/xla/stream_executor/cuda/cuda_gpu_executor.cc:981] successful NUMA node read from SysFS had negative value (-1), but there must be at least one NUMA node, so returning NUMA node zero\n",
      "2023-03-29 22:47:33.886530: I tensorflow/compiler/xla/stream_executor/cuda/cuda_gpu_executor.cc:981] successful NUMA node read from SysFS had negative value (-1), but there must be at least one NUMA node, so returning NUMA node zero\n",
      "2023-03-29 22:47:33.886633: I tensorflow/core/common_runtime/gpu/gpu_device.cc:1613] Created device /job:localhost/replica:0/task:0/device:GPU:0 with 7076 MB memory:  -> device: 0, name: NVIDIA GeForce GTX 1070 Ti, pci bus id: 0000:01:00.0, compute capability: 6.1\n"
     ]
    },
    {
     "name": "stdout",
     "output_type": "stream",
     "text": [
      "Epoch 1/30\n"
     ]
    },
    {
     "name": "stderr",
     "output_type": "stream",
     "text": [
      "2023-03-29 22:47:36.749489: I tensorflow/compiler/xla/stream_executor/cuda/cuda_dnn.cc:428] Loaded cuDNN version 8100\n",
      "2023-03-29 22:47:37.033942: I tensorflow/compiler/xla/service/service.cc:173] XLA service 0x7f6610091c10 initialized for platform CUDA (this does not guarantee that XLA will be used). Devices:\n",
      "2023-03-29 22:47:37.033970: I tensorflow/compiler/xla/service/service.cc:181]   StreamExecutor device (0): NVIDIA GeForce GTX 1070 Ti, Compute Capability 6.1\n",
      "2023-03-29 22:47:37.039560: I tensorflow/compiler/mlir/tensorflow/utils/dump_mlir_util.cc:268] disabling MLIR crash reproducer, set env var `MLIR_CRASH_REPRODUCER_DIRECTORY` to enable.\n",
      "2023-03-29 22:47:37.149511: I tensorflow/compiler/jit/xla_compilation_cache.cc:477] Compiled cluster using XLA!  This line is logged at most once for the lifetime of the process.\n"
     ]
    },
    {
     "name": "stdout",
     "output_type": "stream",
     "text": [
      "2388/2388 [==============================] - 260s 108ms/step - loss: 2.9699 - accuracy: 0.0816 - val_loss: 2.9693 - val_accuracy: 0.0782\n",
      "Epoch 2/30\n",
      "2388/2388 [==============================] - 189s 79ms/step - loss: 2.9651 - accuracy: 0.0823 - val_loss: 2.9641 - val_accuracy: 0.0798\n",
      "Epoch 3/30\n",
      "2388/2388 [==============================] - 177s 74ms/step - loss: 2.5632 - accuracy: 0.1882 - val_loss: 2.1476 - val_accuracy: 0.3023\n",
      "Epoch 4/30\n",
      "2388/2388 [==============================] - 178s 75ms/step - loss: 1.1677 - accuracy: 0.6632 - val_loss: 0.8797 - val_accuracy: 0.7679\n",
      "Epoch 5/30\n",
      "2388/2388 [==============================] - 176s 74ms/step - loss: 0.7716 - accuracy: 0.7916 - val_loss: 0.7722 - val_accuracy: 0.7870\n",
      "Epoch 6/30\n",
      "2388/2388 [==============================] - 175s 73ms/step - loss: 0.6678 - accuracy: 0.8118 - val_loss: 0.7218 - val_accuracy: 0.7959\n",
      "Epoch 7/30\n",
      "2388/2388 [==============================] - 175s 73ms/step - loss: 0.6031 - accuracy: 0.8240 - val_loss: 0.7415 - val_accuracy: 0.7864\n",
      "Epoch 8/30\n",
      "2388/2388 [==============================] - 173s 73ms/step - loss: 0.5465 - accuracy: 0.8326 - val_loss: 0.7104 - val_accuracy: 0.7923\n",
      "Epoch 9/30\n",
      "2388/2388 [==============================] - 174s 73ms/step - loss: 0.5074 - accuracy: 0.8389 - val_loss: 0.7240 - val_accuracy: 0.7905\n",
      "Epoch 10/30\n",
      "2234/2388 [===========================>..] - ETA: 10s - loss: 0.4796 - accuracy: 0.8433"
     ]
    }
   ],
   "source": [
    "from tensorflow.keras.models import Sequential\n",
    "from tensorflow.keras.layers import Embedding, LSTM, Dense\n",
    "from tensorflow.keras.callbacks import EarlyStopping\n",
    "\n",
    "# Create LSTM model\n",
    "model = Sequential()\n",
    "model.add(Embedding(input_dim=len(word2vec_model.wv.key_to_index) + 1, \n",
    "                    output_dim=word2vec_model.vector_size, input_length=max_length))\n",
    "model.add(LSTM(units=128, return_sequences=True))\n",
    "model.add(LSTM(units=64))\n",
    "model.add(Dense(units=len(labels[0]), activation='softmax'))\n",
    "\n",
    "# Define early stopping callback\n",
    "early_stopping = EarlyStopping(monitor='val_loss', patience=5)\n",
    "\n",
    "# Compile model\n",
    "model.compile(loss='categorical_crossentropy', optimizer='adam', metrics=['accuracy'])\n",
    "\n",
    "# Train model\n",
    "model.fit(X_train, y_train, epochs=30, batch_size=64, validation_data=(X_test, y_test), callbacks=[early_stopping])"
   ]
  },
  {
   "cell_type": "code",
   "execution_count": 66,
   "id": "56470378",
   "metadata": {},
   "outputs": [],
   "source": [
    "model.save('ge_lstm.h5')\n",
    "np.save(\"X_test.npy\", X_test)\n",
    "np.save(\"y_test.npy\", y_test)\n",
    "#np.save(\"labels.npy\", labels)"
   ]
  },
  {
   "cell_type": "code",
   "execution_count": 67,
   "id": "2b5298f8",
   "metadata": {},
   "outputs": [],
   "source": [
    "from tensorflow.keras.models import load_model\n",
    "import numpy as np\n",
    "\n",
    "model = load_model('ge_lstm.h5')\n",
    "X_test = np.load(\"X_test.npy\")\n",
    "y_test = np.load(\"y_test.npy\")\n",
    "#labels = np.load(\"labels.npy\")"
   ]
  },
  {
   "cell_type": "markdown",
   "id": "990000c8",
   "metadata": {},
   "source": [
    "# Avaliação de Resultados"
   ]
  },
  {
   "cell_type": "code",
   "execution_count": 68,
   "id": "0fa18b7f",
   "metadata": {},
   "outputs": [
    {
     "name": "stdout",
     "output_type": "stream",
     "text": [
      "Acurácia final: 0.7945865392684937\n"
     ]
    }
   ],
   "source": [
    "loss, accuracy = model.evaluate(X_test, y_test, verbose=0)\n",
    "print('Acurácia final:', accuracy)"
   ]
  },
  {
   "cell_type": "code",
   "execution_count": 69,
   "id": "eb3237d5",
   "metadata": {},
   "outputs": [
    {
     "name": "stdout",
     "output_type": "stream",
     "text": [
      "1194/1194 [==============================] - 22s 18ms/step\n"
     ]
    }
   ],
   "source": [
    "# Fazer as previsões do modelo para o conjunto de teste\n",
    "y_pred = model.predict(X_test)"
   ]
  },
  {
   "cell_type": "code",
   "execution_count": 70,
   "id": "fe519cbf",
   "metadata": {},
   "outputs": [
    {
     "data": {
      "text/plain": [
       "array([[1674,    8,   16,    3,   15,    8,    7,   24,   67,    7,   30,\n",
       "          29,   26,   45,   25,    9,   26,    2,   21,    3,    4],\n",
       "       [   8,  584,    7,    2,   11,    3,    4,   16,    5,    5,    7,\n",
       "          20,   16,  116,   19,    8,    3,    3,    4,    4,    6],\n",
       "       [  28,    3, 1604,    2,   13,    3,    5,   29,    4,   69,   13,\n",
       "          41,   23,   36,   17,    8,   17,    3,   13,   10,   11],\n",
       "       [  16,    1,    3, 1088,   20,    7,   14,   19,    2,    4,   12,\n",
       "          33,   24,   30,   24,    7,   10,    2,   12,   25,   16],\n",
       "       [  25,    3,   19,    7, 1660,    0,    6,   25,    3,   12,   44,\n",
       "          88,   12,   49,   15,    5,   26,    6,   36,    8,   44],\n",
       "       [  13,    7,    3,    3,    2,  526,    5,   32,    4,    3,    2,\n",
       "          20,   22,   48,    9,    0,   20,    2,   11,    3,    5],\n",
       "       [  15,    5,    9,    9,    7,    8,  840,   14,    2,    5,    8,\n",
       "          35,  111,   35,   19,    6,   10,    4,   12,   18,    9],\n",
       "       [  32,    6,   25,    2,   35,   11,   10, 2635,    4,   14,   40,\n",
       "          46,   33,   65,   31,   10,   87,   25,   79,   10,   16],\n",
       "       [  99,    4,    5,    1,    8,    3,    6,   12,  778,    2,   11,\n",
       "          15,   11,   45,    9,    9,    7,    1,   14,    6,    9],\n",
       "       [   4,    8,   50,    7,   27,    5,   10,   11,    3, 1716,   16,\n",
       "           9,    1,    8,   11,    3,   16,    9,   13,    3,   12],\n",
       "       [  41,    5,   24,    4,  111,    8,   12,   58,    9,   24, 2258,\n",
       "         121,   34,   27,   47,   15,   63,   31,   37,   11,   61],\n",
       "       [  25,    0,   13,    9,   62,    8,   11,   35,    1,   15,   61,\n",
       "        1770,   19,   44,   26,    7,   27,    5,   36,    9,   44],\n",
       "       [   9,    7,   10,    2,   15,    5,  104,   14,    2,    4,   11,\n",
       "          24,  972,   50,   18,    8,    5,    2,   11,   15,    8],\n",
       "       [  16,   22,    5,    4,   16,    1,    6,    9,    3,    8,    9,\n",
       "          30,    5,  805,    4,    6,    2,    6,    8,    4,   15],\n",
       "       [  19,    1,   10,    1,   15,    5,    6,   25,    2,   10,   12,\n",
       "          35,   21,   30, 1909,   94,   33,    8,   20,   17,   19],\n",
       "       [  37,    2,   19,    3,   32,    7,    5,   48,    4,   20,   28,\n",
       "          37,   27,   56,  134, 2061,   25,   11,   38,    5,    9],\n",
       "       [  21,    3,   32,    3,   18,   15,   12,   88,    7,   12,   42,\n",
       "          54,   22,   29,   48,    8, 1906,   25,   51,   15,   12],\n",
       "       [  26,    3,   16,    0,   17,    4,    6,   49,    2,   16,   26,\n",
       "          29,   11,   24,   27,   11,   33, 1262,   30,    4,    7],\n",
       "       [  22,   12,   23,    6,   26,   11,   13,   84,    8,   11,   34,\n",
       "          60,   27,   46,   31,   10,   80,   33, 2207,   14,   20],\n",
       "       [   7,    4,    5,    7,   11,    3,    8,   12,    2,    5,    3,\n",
       "          16,   21,   21,   22,    1,    7,    2,   15, 1083,    9],\n",
       "       [  14,    2,    9,    6,   27,    0,    0,   21,    2,   10,   31,\n",
       "          54,    8,   27,   14,    2,    9,    2,   16,    7, 1016]])"
      ]
     },
     "execution_count": 70,
     "metadata": {},
     "output_type": "execute_result"
    }
   ],
   "source": [
    "#Transformar as previsões de volta em rótulos\n",
    "y_pred_labels = np.argmax(y_pred, axis=1)\n",
    "y_true_labels = np.argmax(y_test, axis=1)\n",
    "\n",
    "# Calcular a matriz de confusão\n",
    "from sklearn.metrics import confusion_matrix\n",
    "conf_mat = confusion_matrix(y_true_labels, y_pred_labels)\n",
    "\n",
    "conf_mat"
   ]
  },
  {
   "cell_type": "code",
   "execution_count": 71,
   "id": "6a477aaa",
   "metadata": {},
   "outputs": [
    {
     "data": {
      "text/plain": [
       "191005"
      ]
     },
     "execution_count": 71,
     "metadata": {},
     "output_type": "execute_result"
    }
   ],
   "source": [
    "import pandas as pd\n",
    "\n",
    "classes = df['label'].nunique()\n",
    "\n",
    "# Lê o arquivo .csv\n",
    "df = pd.read_pickle(\"ge.pkl\")\n",
    "\n",
    "df.shape[0]"
   ]
  },
  {
   "cell_type": "code",
   "execution_count": 72,
   "id": "770139f8",
   "metadata": {},
   "outputs": [
    {
     "data": {
      "image/png": "[encoded data removed]",
      "text/plain": [
       "<Figure size 1500x1000 with 2 Axes>"
      ]
     },
     "metadata": {},
     "output_type": "display_data"
    }
   ],
   "source": [
    "import matplotlib.pyplot as plt\n",
    "\n",
    "# Define size of the figure\n",
    "plt.figure(figsize=(15, 10))\n",
    "\n",
    "# Define colormap\n",
    "cmap = plt.cm.Blues\n",
    "\n",
    "# Plot confusion matrix\n",
    "plt.imshow(conf_mat, cmap=cmap)\n",
    "plt.colorbar()\n",
    "\n",
    "# Add labels to matrix\n",
    "plt.xticks([int(i) for i in range(21)], [str(i) for i in range(21)])\n",
    "plt.yticks([int(i) for i in range(21)], [str(i) for i in range(21)])\n",
    "\n",
    "for i in range(classes):\n",
    "    for j in range(classes):\n",
    "        plt.text(j, i, str(conf_mat[i, j]), ha='center', va='center', color='white' if conf_mat[i, j] > len(y_true_labels)/ classes else 'black')\n",
    "\n",
    "# Add axis labels\n",
    "plt.xlabel('Predicted Class')\n",
    "plt.ylabel('True Class')\n",
    "\n",
    "# Show plot\n",
    "plt.show()"
   ]
  },
  {
   "cell_type": "code",
   "execution_count": 84,
   "id": "4c9288ae",
   "metadata": {},
   "outputs": [
    {
     "name": "stdout",
     "output_type": "stream",
     "text": [
      "Class '0': Precision=0.7782, Recall=0.8170, F1-Score=0.7971\n",
      "Class '1': Precision=0.8464, Recall=0.6863, F1-Score=0.7579\n",
      "Class '2': Precision=0.8411, Recall=0.8217, F1-Score=0.8313\n",
      "Class '3': Precision=0.9307, Recall=0.7947, F1-Score=0.8574\n",
      "Class '4': Precision=0.7728, Recall=0.7931, F1-Score=0.7828\n",
      "Class '5': Precision=0.8206, Recall=0.7108, F1-Score=0.7618\n",
      "Class '6': Precision=0.7706, Recall=0.7113, F1-Score=0.7398\n",
      "Class '7': Precision=0.8083, Recall=0.8193, F1-Score=0.8138\n",
      "Class '8': Precision=0.8512, Recall=0.7374, F1-Score=0.7902\n",
      "Class '9': Precision=0.8702, Recall=0.8836, F1-Score=0.8769\n",
      "Class '10': Precision=0.8369, Recall=0.7524, F1-Score=0.7924\n",
      "Class '11': Precision=0.6898, Recall=0.7948, F1-Score=0.7386\n",
      "Class '12': Precision=0.6722, Recall=0.7500, F1-Score=0.7090\n",
      "Class '13': Precision=0.4921, Recall=0.8181, F1-Score=0.6145\n",
      "Class '14': Precision=0.7763, Recall=0.8329, F1-Score=0.8036\n",
      "Class '15': Precision=0.9008, Recall=0.7903, F1-Score=0.8419\n",
      "Class '16': Precision=0.7902, Recall=0.7866, F1-Score=0.7884\n",
      "Class '17': Precision=0.8740, Recall=0.7873, F1-Score=0.8284\n",
      "Class '18': Precision=0.8223, Recall=0.7945, F1-Score=0.8081\n",
      "Class '19': Precision=0.8501, Recall=0.8568, F1-Score=0.8534\n",
      "Class '20': Precision=0.7515, Recall=0.7956, F1-Score=0.7729\n"
     ]
    }
   ],
   "source": [
    "import numpy as np\n",
    "from sklearn.metrics import precision_score, recall_score, f1_score\n",
    "\n",
    "# Calculate precision, recall and f1-score for each class\n",
    "precisions = []\n",
    "recalls = []\n",
    "f1_scores = []\n",
    "for i in range(classes):\n",
    "    precision = precision_score(y_true=y_true_labels == i, y_pred=y_pred_labels == i, zero_division=0)\n",
    "    recall = recall_score(y_true=y_true_labels == i, y_pred=y_pred_labels == i, zero_division=0)\n",
    "    f1 = f1_score(y_true=y_true_labels == i, y_pred=y_pred_labels == i, zero_division=0)\n",
    "    precisions.append(precision)\n",
    "    recalls.append(recall)\n",
    "    f1_scores.append(f1)\n",
    "    \n",
    "# Print results\n",
    "for i in range(classes):\n",
    "    print(f\"Class '{i}': Precision={precisions[i]:.4f}, Recall={recalls[i]:.4f}, F1-Score={f1_scores[i]:.4f}\")\n"
   ]
  },
  {
   "cell_type": "markdown",
   "id": "53dd00bc",
   "metadata": {},
   "source": [
    "## Referências\n",
    "\n",
    "* https://www.kaggle.com/datasets/lgmoneda/ge-soccer-clubs-news\n",
    "* https://medium.com/@everton.tomalok/word2vec-e-sua-import%C3%A2ncia-na-etapa-de-pr%C3%A9-processamento-d0813acfc8ab\n",
    "* https://www.youtube.com/watch?v=hQwFeIupNP0\n",
    "* https://www.youtube.com/watch?v=ISPId9Lhc1g\n",
    "* https://jalammar.github.io/illustrated-word2vec/\n",
    "* https://towardsdatascience.com/a-beginners-guide-to-word-embedding-with-gensim-word2vec-model-5970fa56cc92"
   ]
  }
 ],
 "metadata": {
  "kernelspec": {
   "display_name": "Python 3 (ipykernel)",
   "language": "python",
   "name": "python3"
  },
  "language_info": {
   "codemirror_mode": {
    "name": "ipython",
    "version": 3
   },
   "file_extension": ".py",
   "mimetype": "text/x-python",
   "name": "python",
   "nbconvert_exporter": "python",
   "pygments_lexer": "ipython3",
   "version": "3.9.16"
  }
 },
 "nbformat": 4,
 "nbformat_minor": 5
}
