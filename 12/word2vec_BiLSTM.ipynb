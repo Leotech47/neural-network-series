{
 "cells": [
  {
   "cell_type": "markdown",
   "id": "fd769af5",
   "metadata": {},
   "source": [
    "# Preparação dos dados"
   ]
  },
  {
   "cell_type": "code",
   "execution_count": 2,
   "id": "16d72509",
   "metadata": {},
   "outputs": [
    {
     "data": {
      "text/html": [
       "<div>\n",
       "<style scoped>\n",
       "    .dataframe tbody tr th:only-of-type {\n",
       "        vertical-align: middle;\n",
       "    }\n",
       "\n",
       "    .dataframe tbody tr th {\n",
       "        vertical-align: top;\n",
       "    }\n",
       "\n",
       "    .dataframe thead th {\n",
       "        text-align: right;\n",
       "    }\n",
       "</style>\n",
       "<table border=\"1\" class=\"dataframe\">\n",
       "  <thead>\n",
       "    <tr style=\"text-align: right;\">\n",
       "      <th></th>\n",
       "      <th>date</th>\n",
       "      <th>time</th>\n",
       "      <th>title</th>\n",
       "      <th>text</th>\n",
       "      <th>link</th>\n",
       "      <th>club</th>\n",
       "    </tr>\n",
       "  </thead>\n",
       "  <tbody>\n",
       "    <tr>\n",
       "      <th>0</th>\n",
       "      <td>10/11/2022</td>\n",
       "      <td>19h55</td>\n",
       "      <td>Convocados do Uruguai para a Copa do Mundo 202...</td>\n",
       "      <td>O técnico Diego Alonso divulgou a lista dos 2...</td>\n",
       "      <td>https://ge.globo.com/futebol/copa-do-mundo/not...</td>\n",
       "      <td>athletico-pr</td>\n",
       "    </tr>\n",
       "    <tr>\n",
       "      <th>1</th>\n",
       "      <td>22/12/2017</td>\n",
       "      <td>10h04</td>\n",
       "      <td>Conmebol divulga tabela detalhada da pré e da ...</td>\n",
       "      <td>Argentinos são destaques no caminho dos brasi...</td>\n",
       "      <td>https://globoesporte.globo.com/futebol/liberta...</td>\n",
       "      <td>athletico-pr</td>\n",
       "    </tr>\n",
       "    <tr>\n",
       "      <th>2</th>\n",
       "      <td>11/02/2018</td>\n",
       "      <td>08h00</td>\n",
       "      <td>Com assistência, Demethryus recebe elogios no ...</td>\n",
       "      <td>O meia Demethryus conseguiu aproveitar bem a ...</td>\n",
       "      <td>https://globoesporte.globo.com/pr/futebol/time...</td>\n",
       "      <td>athletico-pr</td>\n",
       "    </tr>\n",
       "    <tr>\n",
       "      <th>3</th>\n",
       "      <td>18/12/2020</td>\n",
       "      <td>12h48</td>\n",
       "      <td>Athletico confirma fim de contrato com Welling...</td>\n",
       "      <td>A reportagem do ge já havia adiantado que as ...</td>\n",
       "      <td>https://globoesporte.globo.com/pr/futebol/time...</td>\n",
       "      <td>athletico-pr</td>\n",
       "    </tr>\n",
       "    <tr>\n",
       "      <th>4</th>\n",
       "      <td>13/09/2018</td>\n",
       "      <td>22h17</td>\n",
       "      <td>Alô, cartoleiros! Atlético-PR passa limpo cont...</td>\n",
       "      <td>O atacante Marcelo Cirino, desfalque já nos ú...</td>\n",
       "      <td>https://globoesporte.globo.com/pr/futebol/time...</td>\n",
       "      <td>athletico-pr</td>\n",
       "    </tr>\n",
       "  </tbody>\n",
       "</table>\n",
       "</div>"
      ],
      "text/plain": [
       "         date   time                                              title  \\\n",
       "0  10/11/2022  19h55  Convocados do Uruguai para a Copa do Mundo 202...   \n",
       "1  22/12/2017  10h04  Conmebol divulga tabela detalhada da pré e da ...   \n",
       "2  11/02/2018  08h00  Com assistência, Demethryus recebe elogios no ...   \n",
       "3  18/12/2020  12h48  Athletico confirma fim de contrato com Welling...   \n",
       "4  13/09/2018  22h17  Alô, cartoleiros! Atlético-PR passa limpo cont...   \n",
       "\n",
       "                                                text  \\\n",
       "0   O técnico Diego Alonso divulgou a lista dos 2...   \n",
       "1   Argentinos são destaques no caminho dos brasi...   \n",
       "2   O meia Demethryus conseguiu aproveitar bem a ...   \n",
       "3   A reportagem do ge já havia adiantado que as ...   \n",
       "4   O atacante Marcelo Cirino, desfalque já nos ú...   \n",
       "\n",
       "                                                link          club  \n",
       "0  https://ge.globo.com/futebol/copa-do-mundo/not...  athletico-pr  \n",
       "1  https://globoesporte.globo.com/futebol/liberta...  athletico-pr  \n",
       "2  https://globoesporte.globo.com/pr/futebol/time...  athletico-pr  \n",
       "3  https://globoesporte.globo.com/pr/futebol/time...  athletico-pr  \n",
       "4  https://globoesporte.globo.com/pr/futebol/time...  athletico-pr  "
      ]
     },
     "execution_count": 2,
     "metadata": {},
     "output_type": "execute_result"
    }
   ],
   "source": [
    "import pandas as pd\n",
    "\n",
    "# Lê o arquivo .csv\n",
    "df = pd.read_csv('ge_news.csv')\n",
    "\n",
    "# Exibe as primeiras linhas\n",
    "df.head()"
   ]
  },
  {
   "cell_type": "code",
   "execution_count": 3,
   "id": "4750c7b4",
   "metadata": {},
   "outputs": [],
   "source": [
    "# Removendo simultaneamente as colunas de índice 0, 1, 4 (date, time and link)\n",
    "column_indices = [0, 1, 4]\n",
    "df.drop([df.columns[i] for i in column_indices], axis=1, inplace=True)"
   ]
  },
  {
   "cell_type": "code",
   "execution_count": 4,
   "id": "4190d3fe",
   "metadata": {},
   "outputs": [
    {
     "data": {
      "text/html": [
       "<div>\n",
       "<style scoped>\n",
       "    .dataframe tbody tr th:only-of-type {\n",
       "        vertical-align: middle;\n",
       "    }\n",
       "\n",
       "    .dataframe tbody tr th {\n",
       "        vertical-align: top;\n",
       "    }\n",
       "\n",
       "    .dataframe thead th {\n",
       "        text-align: right;\n",
       "    }\n",
       "</style>\n",
       "<table border=\"1\" class=\"dataframe\">\n",
       "  <thead>\n",
       "    <tr style=\"text-align: right;\">\n",
       "      <th></th>\n",
       "      <th>title</th>\n",
       "      <th>text</th>\n",
       "      <th>club</th>\n",
       "    </tr>\n",
       "  </thead>\n",
       "  <tbody>\n",
       "    <tr>\n",
       "      <th>0</th>\n",
       "      <td>Convocados do Uruguai para a Copa do Mundo 202...</td>\n",
       "      <td>O técnico Diego Alonso divulgou a lista dos 2...</td>\n",
       "      <td>athletico-pr</td>\n",
       "    </tr>\n",
       "    <tr>\n",
       "      <th>1</th>\n",
       "      <td>Conmebol divulga tabela detalhada da pré e da ...</td>\n",
       "      <td>Argentinos são destaques no caminho dos brasi...</td>\n",
       "      <td>athletico-pr</td>\n",
       "    </tr>\n",
       "    <tr>\n",
       "      <th>2</th>\n",
       "      <td>Com assistência, Demethryus recebe elogios no ...</td>\n",
       "      <td>O meia Demethryus conseguiu aproveitar bem a ...</td>\n",
       "      <td>athletico-pr</td>\n",
       "    </tr>\n",
       "    <tr>\n",
       "      <th>3</th>\n",
       "      <td>Athletico confirma fim de contrato com Welling...</td>\n",
       "      <td>A reportagem do ge já havia adiantado que as ...</td>\n",
       "      <td>athletico-pr</td>\n",
       "    </tr>\n",
       "    <tr>\n",
       "      <th>4</th>\n",
       "      <td>Alô, cartoleiros! Atlético-PR passa limpo cont...</td>\n",
       "      <td>O atacante Marcelo Cirino, desfalque já nos ú...</td>\n",
       "      <td>athletico-pr</td>\n",
       "    </tr>\n",
       "  </tbody>\n",
       "</table>\n",
       "</div>"
      ],
      "text/plain": [
       "                                               title  \\\n",
       "0  Convocados do Uruguai para a Copa do Mundo 202...   \n",
       "1  Conmebol divulga tabela detalhada da pré e da ...   \n",
       "2  Com assistência, Demethryus recebe elogios no ...   \n",
       "3  Athletico confirma fim de contrato com Welling...   \n",
       "4  Alô, cartoleiros! Atlético-PR passa limpo cont...   \n",
       "\n",
       "                                                text          club  \n",
       "0   O técnico Diego Alonso divulgou a lista dos 2...  athletico-pr  \n",
       "1   Argentinos são destaques no caminho dos brasi...  athletico-pr  \n",
       "2   O meia Demethryus conseguiu aproveitar bem a ...  athletico-pr  \n",
       "3   A reportagem do ge já havia adiantado que as ...  athletico-pr  \n",
       "4   O atacante Marcelo Cirino, desfalque já nos ú...  athletico-pr  "
      ]
     },
     "execution_count": 4,
     "metadata": {},
     "output_type": "execute_result"
    }
   ],
   "source": [
    "df.head()"
   ]
  },
  {
   "cell_type": "code",
   "execution_count": 5,
   "id": "e7b3299a",
   "metadata": {},
   "outputs": [],
   "source": [
    "# Fundindo colunas 'title' e 'text' para a coluna 'title_and_text'\n",
    "df['data'] = df['title'] + ' ' + df['text']"
   ]
  },
  {
   "cell_type": "code",
   "execution_count": 6,
   "id": "e8db8b90",
   "metadata": {},
   "outputs": [
    {
     "data": {
      "text/html": [
       "<div>\n",
       "<style scoped>\n",
       "    .dataframe tbody tr th:only-of-type {\n",
       "        vertical-align: middle;\n",
       "    }\n",
       "\n",
       "    .dataframe tbody tr th {\n",
       "        vertical-align: top;\n",
       "    }\n",
       "\n",
       "    .dataframe thead th {\n",
       "        text-align: right;\n",
       "    }\n",
       "</style>\n",
       "<table border=\"1\" class=\"dataframe\">\n",
       "  <thead>\n",
       "    <tr style=\"text-align: right;\">\n",
       "      <th></th>\n",
       "      <th>title</th>\n",
       "      <th>text</th>\n",
       "      <th>club</th>\n",
       "      <th>data</th>\n",
       "    </tr>\n",
       "  </thead>\n",
       "  <tbody>\n",
       "    <tr>\n",
       "      <th>0</th>\n",
       "      <td>Convocados do Uruguai para a Copa do Mundo 202...</td>\n",
       "      <td>O técnico Diego Alonso divulgou a lista dos 2...</td>\n",
       "      <td>athletico-pr</td>\n",
       "      <td>Convocados do Uruguai para a Copa do Mundo 202...</td>\n",
       "    </tr>\n",
       "    <tr>\n",
       "      <th>1</th>\n",
       "      <td>Conmebol divulga tabela detalhada da pré e da ...</td>\n",
       "      <td>Argentinos são destaques no caminho dos brasi...</td>\n",
       "      <td>athletico-pr</td>\n",
       "      <td>Conmebol divulga tabela detalhada da pré e da ...</td>\n",
       "    </tr>\n",
       "    <tr>\n",
       "      <th>2</th>\n",
       "      <td>Com assistência, Demethryus recebe elogios no ...</td>\n",
       "      <td>O meia Demethryus conseguiu aproveitar bem a ...</td>\n",
       "      <td>athletico-pr</td>\n",
       "      <td>Com assistência, Demethryus recebe elogios no ...</td>\n",
       "    </tr>\n",
       "    <tr>\n",
       "      <th>3</th>\n",
       "      <td>Athletico confirma fim de contrato com Welling...</td>\n",
       "      <td>A reportagem do ge já havia adiantado que as ...</td>\n",
       "      <td>athletico-pr</td>\n",
       "      <td>Athletico confirma fim de contrato com Welling...</td>\n",
       "    </tr>\n",
       "    <tr>\n",
       "      <th>4</th>\n",
       "      <td>Alô, cartoleiros! Atlético-PR passa limpo cont...</td>\n",
       "      <td>O atacante Marcelo Cirino, desfalque já nos ú...</td>\n",
       "      <td>athletico-pr</td>\n",
       "      <td>Alô, cartoleiros! Atlético-PR passa limpo cont...</td>\n",
       "    </tr>\n",
       "  </tbody>\n",
       "</table>\n",
       "</div>"
      ],
      "text/plain": [
       "                                               title  \\\n",
       "0  Convocados do Uruguai para a Copa do Mundo 202...   \n",
       "1  Conmebol divulga tabela detalhada da pré e da ...   \n",
       "2  Com assistência, Demethryus recebe elogios no ...   \n",
       "3  Athletico confirma fim de contrato com Welling...   \n",
       "4  Alô, cartoleiros! Atlético-PR passa limpo cont...   \n",
       "\n",
       "                                                text          club  \\\n",
       "0   O técnico Diego Alonso divulgou a lista dos 2...  athletico-pr   \n",
       "1   Argentinos são destaques no caminho dos brasi...  athletico-pr   \n",
       "2   O meia Demethryus conseguiu aproveitar bem a ...  athletico-pr   \n",
       "3   A reportagem do ge já havia adiantado que as ...  athletico-pr   \n",
       "4   O atacante Marcelo Cirino, desfalque já nos ú...  athletico-pr   \n",
       "\n",
       "                                                data  \n",
       "0  Convocados do Uruguai para a Copa do Mundo 202...  \n",
       "1  Conmebol divulga tabela detalhada da pré e da ...  \n",
       "2  Com assistência, Demethryus recebe elogios no ...  \n",
       "3  Athletico confirma fim de contrato com Welling...  \n",
       "4  Alô, cartoleiros! Atlético-PR passa limpo cont...  "
      ]
     },
     "execution_count": 6,
     "metadata": {},
     "output_type": "execute_result"
    }
   ],
   "source": [
    "df.head()"
   ]
  },
  {
   "cell_type": "code",
   "execution_count": 7,
   "id": "389e2ace",
   "metadata": {},
   "outputs": [],
   "source": [
    "from sklearn.preprocessing import LabelEncoder\n",
    "\n",
    "# Cria um objeto LabelEncoder\n",
    "le = LabelEncoder()\n",
    "\n",
    "# Fitting the encoder and transforming the 'Animals' column\n",
    "df['label'] = le.fit_transform(df['club'])"
   ]
  },
  {
   "cell_type": "code",
   "execution_count": 8,
   "id": "5e04bd12",
   "metadata": {},
   "outputs": [],
   "source": [
    "# Removendo as três colunas originais, não precisamos mais delas\n",
    "column_indices = [0, 1, 2]\n",
    "df.drop([df.columns[i] for i in column_indices], axis=1, inplace=True)"
   ]
  },
  {
   "cell_type": "code",
   "execution_count": 9,
   "id": "6c41ada1",
   "metadata": {},
   "outputs": [
    {
     "data": {
      "text/html": [
       "<div>\n",
       "<style scoped>\n",
       "    .dataframe tbody tr th:only-of-type {\n",
       "        vertical-align: middle;\n",
       "    }\n",
       "\n",
       "    .dataframe tbody tr th {\n",
       "        vertical-align: top;\n",
       "    }\n",
       "\n",
       "    .dataframe thead th {\n",
       "        text-align: right;\n",
       "    }\n",
       "</style>\n",
       "<table border=\"1\" class=\"dataframe\">\n",
       "  <thead>\n",
       "    <tr style=\"text-align: right;\">\n",
       "      <th></th>\n",
       "      <th>data</th>\n",
       "      <th>label</th>\n",
       "    </tr>\n",
       "  </thead>\n",
       "  <tbody>\n",
       "    <tr>\n",
       "      <th>0</th>\n",
       "      <td>Convocados do Uruguai para a Copa do Mundo 202...</td>\n",
       "      <td>0</td>\n",
       "    </tr>\n",
       "    <tr>\n",
       "      <th>1</th>\n",
       "      <td>Conmebol divulga tabela detalhada da pré e da ...</td>\n",
       "      <td>0</td>\n",
       "    </tr>\n",
       "    <tr>\n",
       "      <th>2</th>\n",
       "      <td>Com assistência, Demethryus recebe elogios no ...</td>\n",
       "      <td>0</td>\n",
       "    </tr>\n",
       "    <tr>\n",
       "      <th>3</th>\n",
       "      <td>Athletico confirma fim de contrato com Welling...</td>\n",
       "      <td>0</td>\n",
       "    </tr>\n",
       "    <tr>\n",
       "      <th>4</th>\n",
       "      <td>Alô, cartoleiros! Atlético-PR passa limpo cont...</td>\n",
       "      <td>0</td>\n",
       "    </tr>\n",
       "  </tbody>\n",
       "</table>\n",
       "</div>"
      ],
      "text/plain": [
       "                                                data  label\n",
       "0  Convocados do Uruguai para a Copa do Mundo 202...      0\n",
       "1  Conmebol divulga tabela detalhada da pré e da ...      0\n",
       "2  Com assistência, Demethryus recebe elogios no ...      0\n",
       "3  Athletico confirma fim de contrato com Welling...      0\n",
       "4  Alô, cartoleiros! Atlético-PR passa limpo cont...      0"
      ]
     },
     "execution_count": 9,
     "metadata": {},
     "output_type": "execute_result"
    }
   ],
   "source": [
    "df.head()"
   ]
  },
  {
   "cell_type": "code",
   "execution_count": 10,
   "id": "13a347bd",
   "metadata": {},
   "outputs": [
    {
     "data": {
      "image/png": "[encoded data removed]",
      "text/plain": [
       "<Figure size 1200x600 with 1 Axes>"
      ]
     },
     "metadata": {},
     "output_type": "display_data"
    }
   ],
   "source": [
    "import pandas as pd\n",
    "import matplotlib.pyplot as plt\n",
    "\n",
    "# Assuming your DataFrame is named `ds` and has columns 'data' and 'label'\n",
    "category_counts = df['label'].value_counts()\n",
    "\n",
    "# Plot the distribution of categories\n",
    "plt.figure(figsize=(12, 6))\n",
    "category_counts.plot(kind='bar')\n",
    "plt.xlabel('Categories')\n",
    "plt.ylabel('Number of Articles')\n",
    "plt.title('Distribution of Categories in the Dataset')\n",
    "plt.show()"
   ]
  },
  {
   "cell_type": "markdown",
   "id": "b67b64c5",
   "metadata": {},
   "source": [
    "# Pré-processamento"
   ]
  },
  {
   "cell_type": "code",
   "execution_count": 11,
   "id": "19f5c36a",
   "metadata": {},
   "outputs": [
    {
     "name": "stderr",
     "output_type": "stream",
     "text": [
      "[nltk_data] Downloading package punkt to /home/lucas/nltk_data...\n",
      "[nltk_data]   Unzipping tokenizers/punkt.zip.\n",
      "[nltk_data] Downloading package stopwords to /home/lucas/nltk_data...\n",
      "[nltk_data]   Unzipping corpora/stopwords.zip.\n",
      "[nltk_data] Downloading package wordnet to /home/lucas/nltk_data...\n",
      "[nltk_data] Downloading package averaged_perceptron_tagger to\n",
      "[nltk_data]     /home/lucas/nltk_data...\n",
      "[nltk_data]   Unzipping taggers/averaged_perceptron_tagger.zip.\n"
     ]
    },
    {
     "data": {
      "text/plain": [
       "True"
      ]
     },
     "execution_count": 11,
     "metadata": {},
     "output_type": "execute_result"
    }
   ],
   "source": [
    "import nltk\n",
    "from nltk.corpus import stopwords\n",
    "from nltk.tokenize import word_tokenize\n",
    "from nltk.stem import WordNetLemmatizer\n",
    "from nltk.corpus import wordnet\n",
    "\n",
    "nltk.download('punkt')\n",
    "nltk.download('stopwords')\n",
    "nltk.download('wordnet')\n",
    "nltk.download('averaged_perceptron_tagger')"
   ]
  },
  {
   "cell_type": "code",
   "execution_count": 12,
   "id": "4ea6c46b",
   "metadata": {},
   "outputs": [
    {
     "name": "stdout",
     "output_type": "stream",
     "text": [
      "Removendo pontuação...\n"
     ]
    },
    {
     "name": "stderr",
     "output_type": "stream",
     "text": [
      "100%|███████████████████████████████████████████████████████████████████████████████████████████████████████████████████| 191005/191005 [00:24<00:00, 7761.57it/s]\n"
     ]
    },
    {
     "name": "stdout",
     "output_type": "stream",
     "text": [
      "Aplicando tokenização...\n"
     ]
    },
    {
     "name": "stderr",
     "output_type": "stream",
     "text": [
      "100%|███████████████████████████████████████████████████████████████████████████████████████████████████████████████████| 191005/191005 [02:41<00:00, 1185.53it/s]\n"
     ]
    },
    {
     "name": "stdout",
     "output_type": "stream",
     "text": [
      "Removendo stopwords...\n"
     ]
    },
    {
     "name": "stderr",
     "output_type": "stream",
     "text": [
      "100%|██████████████████████████████████████████████████████████████████████████████████████████████████████████████████| 191005/191005 [00:07<00:00, 26689.10it/s]\n"
     ]
    },
    {
     "name": "stdout",
     "output_type": "stream",
     "text": [
      "Computando Lematização...\n"
     ]
    },
    {
     "name": "stderr",
     "output_type": "stream",
     "text": [
      "100%|████████████████████████████████████████████████████████████████████████████████████████████████████████████████████| 191005/191005 [28:07<00:00, 113.16it/s]\n"
     ]
    }
   ],
   "source": [
    "import string\n",
    "from collections import defaultdict\n",
    "from tqdm import tqdm\n",
    "\n",
    "tqdm.pandas()\n",
    "\n",
    "def preprocess_text(df, text_column):\n",
    "    \"\"\"\n",
    "    Realiza o pré-processamento dos dados de texto em um DataFrame do Pandas.\n",
    "    Remove pontuação, palavras comuns (stop words) e aplica lematização.\n",
    "    \"\"\"\n",
    "    \n",
    "    # Cria uma tabela de tradução que mapeia cada caractere de pontuação do módulo `string.punctuation` \n",
    "    # para `None` (ou seja, remove-os do texto).\n",
    "    print(\"Removendo pontuação...\")\n",
    "    translator = str.maketrans('', '', string.punctuation) \n",
    "    df[text_column] = df[text_column].progress_apply(lambda x: x.translate(translator))\n",
    "        \n",
    "    # Usa o método `apply()` do Pandas DataFrame para aplicar o tokenizador `word_tokenize()` do NLTK \n",
    "    # a cada elemento da coluna `text_column` especificada em `df_clean` após converter cada elemento \n",
    "    # para letras minúsculas.\n",
    "    print(\"Aplicando tokenização...\")\n",
    "    df[text_column] = df[text_column].progress_apply(lambda x: word_tokenize(x.lower()))\n",
    "\n",
    "    # Remove palavras comuns (stop words)\n",
    "    print(\"Removendo stopwords...\")\n",
    "    stop_words = set(stopwords.words('portuguese'))\n",
    "    df[text_column] = df[text_column].progress_apply(lambda x: [word for word in x if word not in stop_words])\n",
    "       \n",
    "    def get_wordnet_pos(tag):\n",
    "        \"\"\"\n",
    "        Mapeia a tag POS (classe gramatical) para o primeiro caractere usado pelo WordNetLemmatizer\n",
    "        \"\"\"\n",
    "        if tag.startswith('J'):\n",
    "            return wordnet.ADJ\n",
    "        elif tag.startswith('V'):\n",
    "            return wordnet.VERB\n",
    "        elif tag.startswith('R'):\n",
    "            return wordnet.ADV\n",
    "        else:\n",
    "            return wordnet.NOUN\n",
    "    \n",
    "    def lemmatize_words(words):\n",
    "        lemmatizer = WordNetLemmatizer()\n",
    "        pos_tagged_words = nltk.pos_tag(words)\n",
    "        return [lemmatizer.lemmatize(word, get_wordnet_pos(tag)) for word, tag in pos_tagged_words]\n",
    "    \n",
    "    # Retorna o valor correspondente à tag POS da palavra, usando o dicionário de mapeamento criado acima\n",
    "    print(\"Computando Lematização...\")\n",
    "    df[text_column] = df[text_column].progress_apply(lemmatize_words)\n",
    "\n",
    "    #return df_clean\n",
    "    \n",
    "preprocess_text(df, 'data')"
   ]
  },
  {
   "cell_type": "code",
   "execution_count": 1,
   "id": "72e0c6ac",
   "metadata": {
    "scrolled": true
   },
   "outputs": [
    {
     "ename": "NameError",
     "evalue": "name 'df' is not defined",
     "output_type": "error",
     "traceback": [
      "\u001b[0;31m---------------------------------------------------------------------------\u001b[0m",
      "\u001b[0;31mNameError\u001b[0m                                 Traceback (most recent call last)",
      "Cell \u001b[0;32mIn[1], line 2\u001b[0m\n\u001b[1;32m      1\u001b[0m \u001b[38;5;66;03m# Salvar em formato pickle\u001b[39;00m\n\u001b[0;32m----> 2\u001b[0m \u001b[43mdf\u001b[49m\u001b[38;5;241m.\u001b[39mto_pickle(\u001b[38;5;124m\"\u001b[39m\u001b[38;5;124mge.pkl\u001b[39m\u001b[38;5;124m\"\u001b[39m)\n\u001b[1;32m      4\u001b[0m df\n",
      "\u001b[0;31mNameError\u001b[0m: name 'df' is not defined"
     ]
    }
   ],
   "source": [
    "# Salvar em formato pickle\n",
    "df.to_pickle(\"ge.pkl\")\n",
    "\n",
    "df"
   ]
  },
  {
   "cell_type": "code",
   "execution_count": 2,
   "id": "942bea8d",
   "metadata": {},
   "outputs": [],
   "source": [
    "import pandas as pd\n",
    "\n",
    "df = pd.read_pickle(\"ge.pkl\")"
   ]
  },
  {
   "cell_type": "markdown",
   "id": "479c5d8f",
   "metadata": {},
   "source": [
    "# Treinando modelo Word2vec"
   ]
  },
  {
   "cell_type": "code",
   "execution_count": 3,
   "id": "2bb15c8a",
   "metadata": {},
   "outputs": [],
   "source": [
    "from gensim.models import Word2Vec\n",
    "from gensim.models.callbacks import CallbackAny2Vec"
   ]
  },
  {
   "cell_type": "code",
   "execution_count": 4,
   "id": "1c60aac8",
   "metadata": {},
   "outputs": [],
   "source": [
    "# Custom callback class for Word2Vec training\n",
    "class SimpleTextCallback(CallbackAny2Vec):\n",
    "    def __init__(self, total_epochs):\n",
    "        self.epoch = 0\n",
    "        self.total_epochs = total_epochs\n",
    "\n",
    "    def on_epoch_end(self, model):\n",
    "        self.epoch += 1\n",
    "        print(f\"Epoch {self.epoch} of {self.total_epochs} completed.\")"
   ]
  },
  {
   "cell_type": "code",
   "execution_count": 5,
   "id": "57b48c11",
   "metadata": {},
   "outputs": [
    {
     "name": "stdout",
     "output_type": "stream",
     "text": [
      "Epoch 1 of 10 completed.\n",
      "Epoch 2 of 10 completed.\n",
      "Epoch 3 of 10 completed.\n",
      "Epoch 4 of 10 completed.\n",
      "Epoch 5 of 10 completed.\n",
      "Epoch 6 of 10 completed.\n",
      "Epoch 7 of 10 completed.\n",
      "Epoch 8 of 10 completed.\n",
      "Epoch 9 of 10 completed.\n",
      "Epoch 10 of 10 completed.\n"
     ]
    },
    {
     "data": {
      "text/plain": [
       "(445940708, 455234750)"
      ]
     },
     "execution_count": 5,
     "metadata": {},
     "output_type": "execute_result"
    }
   ],
   "source": [
    "# Extract tokenized documents from the 'data' column\n",
    "preprocessed_articles = df['data'].tolist()\n",
    "\n",
    "# Initialize the Word2Vec model\n",
    "word2vec_model = Word2Vec(vector_size=100, window=5, min_count=1, workers=4)\n",
    "\n",
    "# Build the vocabulary\n",
    "word2vec_model.build_vocab(preprocessed_articles)\n",
    "\n",
    "# Train the Word2Vec model with the custom progress update\n",
    "total_epochs = 10\n",
    "callback = SimpleTextCallback(total_epochs)\n",
    "word2vec_model.train(preprocessed_articles, total_examples=word2vec_model.corpus_count, \n",
    "                     epochs=total_epochs, callbacks=[callback])"
   ]
  },
  {
   "cell_type": "code",
   "execution_count": 6,
   "id": "0b433193",
   "metadata": {},
   "outputs": [
    {
     "data": {
      "text/plain": [
       "[('fluminense', 0.8947670459747314),\n",
       " ('palmeiras', 0.8347643613815308),\n",
       " ('botafogo', 0.8091559410095215),\n",
       " ('vasco', 0.8079062700271606),\n",
       " ('grêmio', 0.8047004342079163),\n",
       " ('atléticomg', 0.781007707118988),\n",
       " ('corinthian', 0.763358473777771),\n",
       " ('fla', 0.7166183590888977),\n",
       " ('athleticopr', 0.7120798230171204),\n",
       " ('cruzeiro', 0.7119348049163818)]"
      ]
     },
     "execution_count": 6,
     "metadata": {},
     "output_type": "execute_result"
    }
   ],
   "source": [
    "# Find words most similar to target word\n",
    "word2vec_model.wv.most_similar('flamengo')"
   ]
  },
  {
   "cell_type": "code",
   "execution_count": 7,
   "id": "f672fdbd",
   "metadata": {},
   "outputs": [],
   "source": [
    "# Create word-to-index and index-to-word dictionaries\n",
    "word_to_index = {}\n",
    "index_to_word = {}\n",
    "for i, word in enumerate(word2vec_model.wv.index_to_key):\n",
    "    word_to_index[word] = i + 1\n",
    "    index_to_word[i + 1] = word"
   ]
  },
  {
   "cell_type": "code",
   "execution_count": 8,
   "id": "d6ffe380",
   "metadata": {
    "scrolled": false
   },
   "outputs": [
    {
     "name": "stderr",
     "output_type": "stream",
     "text": [
      "100%|████████████████████████████████| 191005/191005 [00:10<00:00, 18347.14it/s]\n"
     ]
    }
   ],
   "source": [
    "from tqdm import tqdm\n",
    "\n",
    "# Convert tokenized news into sequences of indices\n",
    "sequences = []\n",
    "for tokens in tqdm(preprocessed_articles):\n",
    "    sequence = []\n",
    "    for token in tokens:\n",
    "        if token in word_to_index:\n",
    "            sequence.append(word_to_index[token])\n",
    "    sequences.append(sequence)"
   ]
  },
  {
   "cell_type": "code",
   "execution_count": 9,
   "id": "dc88873c",
   "metadata": {},
   "outputs": [
    {
     "name": "stdout",
     "output_type": "stream",
     "text": [
      "convocados uruguai copa mundo 2022 veja lista técnico diego alonso divulgou lista 26 convocados uruguai copa mundo ídolos veteranos atacantes cavani suárez puxam elenco celeste ainda arrascaeta flamengo jovens valverde real madrid darwin núñez liverpool símbolos renovação alonso optou manter zagueiro ronald araújo barcelona lista defensor recupera lesão coxa joga desde fim setembro expectativa inicial poderia voltar jogar 2023 veja anúncio convocados uruguai copa mundo além arrascaeta outros doi jogadores atuam brasil chamados diego alonso lateral varela flamengo atacante canobbio athleticopr outros conhecidos torcida brasileira lista veterano zagueiro diego godín exatléticomg atualmente vélez sarsfield lateral matías viña expalmeiras atualmente rom uruguai vai terminar preparação copa mundo abu dhabi emirados árabes onde parte delegação desembarcou nesta quintafeira ida catar ocorre próximo dia 19 celeste grupo h copa lado portugal coreia sul gana estreia contra sulcoreanos dia 24 estádio cidade educação luis suárez arrascaeta sergio rochet lista final uruguai — foto divulgação\n"
     ]
    }
   ],
   "source": [
    "# Map the sequence of indices in sequences[0] back to a text representation\n",
    "text = \" \".join([index_to_word[i] for i in sequences[0]])\n",
    "\n",
    "# Print the resulting text representation\n",
    "print(text)"
   ]
  },
  {
   "cell_type": "code",
   "execution_count": 10,
   "id": "c75614eb",
   "metadata": {},
   "outputs": [
    {
     "name": "stdout",
     "output_type": "stream",
     "text": [
      "Mean sequence length:  238.3365618701081\n",
      "Maximum sequence length:  5411\n"
     ]
    }
   ],
   "source": [
    "import numpy as np\n",
    "\n",
    "# Compute the length of each sequence in the dataset\n",
    "sequence_lengths = [len(seq) for seq in sequences]\n",
    "\n",
    "# Compute the mean and maximum sequence length\n",
    "mean_length = np.mean(sequence_lengths)\n",
    "max_length = max(sequence_lengths)\n",
    "\n",
    "print(\"Mean sequence length: \", mean_length)\n",
    "print(\"Maximum sequence length: \", max_length)"
   ]
  },
  {
   "cell_type": "code",
   "execution_count": 11,
   "id": "8ab7d458",
   "metadata": {},
   "outputs": [
    {
     "name": "stderr",
     "output_type": "stream",
     "text": [
      "2023-03-28 23:49:31.773379: I tensorflow/core/platform/cpu_feature_guard.cc:193] This TensorFlow binary is optimized with oneAPI Deep Neural Network Library (oneDNN) to use the following CPU instructions in performance-critical operations:  AVX2 FMA\n",
      "To enable them in other operations, rebuild TensorFlow with the appropriate compiler flags.\n",
      "2023-03-28 23:49:33.137746: W tensorflow/compiler/xla/stream_executor/platform/default/dso_loader.cc:64] Could not load dynamic library 'libnvinfer.so.7'; dlerror: libnvinfer.so.7: cannot open shared object file: No such file or directory; LD_LIBRARY_PATH: :/home/lucas/miniconda3/envs/tf/lib/\n",
      "2023-03-28 23:49:33.137825: W tensorflow/compiler/xla/stream_executor/platform/default/dso_loader.cc:64] Could not load dynamic library 'libnvinfer_plugin.so.7'; dlerror: libnvinfer_plugin.so.7: cannot open shared object file: No such file or directory; LD_LIBRARY_PATH: :/home/lucas/miniconda3/envs/tf/lib/\n",
      "2023-03-28 23:49:33.137832: W tensorflow/compiler/tf2tensorrt/utils/py_utils.cc:38] TF-TRT Warning: Cannot dlopen some TensorRT libraries. If you would like to use Nvidia GPU with TensorRT, please make sure the missing libraries mentioned above are installed properly.\n"
     ]
    }
   ],
   "source": [
    "from tensorflow.keras.preprocessing.sequence import pad_sequences\n",
    "\n",
    "# Set the maximum sequence length\n",
    "max_length = int(mean_length) * 3\n",
    "\n",
    "# Pad sequences\n",
    "padded_sequences = pad_sequences(sequences, maxlen=max_length, padding='post')"
   ]
  },
  {
   "cell_type": "code",
   "execution_count": 12,
   "id": "bbf394bb",
   "metadata": {},
   "outputs": [
    {
     "data": {
      "text/plain": [
       "21"
      ]
     },
     "execution_count": 12,
     "metadata": {},
     "output_type": "execute_result"
    }
   ],
   "source": [
    "# Get the total number of unique values in the 'labels' column of the dataframe\n",
    "df['label'].nunique()"
   ]
  },
  {
   "cell_type": "code",
   "execution_count": 13,
   "id": "f7ce97f5",
   "metadata": {},
   "outputs": [],
   "source": [
    "import tensorflow.keras.utils as ku\n",
    "\n",
    "# Convert labels to one-hot encoded vectors\n",
    "num_classes = 21\n",
    "labels = ku.to_categorical(df['label'], num_classes)"
   ]
  },
  {
   "cell_type": "code",
   "execution_count": 14,
   "id": "22e8993e",
   "metadata": {},
   "outputs": [
    {
     "data": {
      "text/plain": [
       "array([[1., 0., 0., ..., 0., 0., 0.],\n",
       "       [1., 0., 0., ..., 0., 0., 0.],\n",
       "       [1., 0., 0., ..., 0., 0., 0.],\n",
       "       ...,\n",
       "       [0., 0., 0., ..., 0., 0., 0.],\n",
       "       [0., 0., 0., ..., 0., 0., 0.],\n",
       "       [0., 0., 0., ..., 0., 0., 0.]], dtype=float32)"
      ]
     },
     "execution_count": 14,
     "metadata": {},
     "output_type": "execute_result"
    }
   ],
   "source": [
    "labels"
   ]
  },
  {
   "cell_type": "code",
   "execution_count": 15,
   "id": "685a5668",
   "metadata": {},
   "outputs": [],
   "source": [
    "from sklearn.model_selection import train_test_split\n",
    "\n",
    "X_train, X_test, y_train, y_test = train_test_split(padded_sequences, labels, test_size=0.2)"
   ]
  },
  {
   "cell_type": "markdown",
   "id": "c412f308",
   "metadata": {},
   "source": [
    "# GPU"
   ]
  },
  {
   "cell_type": "code",
   "execution_count": 16,
   "id": "fb4e108c",
   "metadata": {},
   "outputs": [
    {
     "name": "stdout",
     "output_type": "stream",
     "text": [
      "Num GPUs Available:  1\n"
     ]
    },
    {
     "name": "stderr",
     "output_type": "stream",
     "text": [
      "2023-03-28 23:49:35.421057: I tensorflow/compiler/xla/stream_executor/cuda/cuda_gpu_executor.cc:981] successful NUMA node read from SysFS had negative value (-1), but there must be at least one NUMA node, so returning NUMA node zero\n",
      "2023-03-28 23:49:35.426576: I tensorflow/compiler/xla/stream_executor/cuda/cuda_gpu_executor.cc:981] successful NUMA node read from SysFS had negative value (-1), but there must be at least one NUMA node, so returning NUMA node zero\n",
      "2023-03-28 23:49:35.426763: I tensorflow/compiler/xla/stream_executor/cuda/cuda_gpu_executor.cc:981] successful NUMA node read from SysFS had negative value (-1), but there must be at least one NUMA node, so returning NUMA node zero\n"
     ]
    }
   ],
   "source": [
    "import tensorflow as tf\n",
    "print(\"Num GPUs Available: \", len(tf.config.list_physical_devices('GPU')))"
   ]
  },
  {
   "cell_type": "code",
   "execution_count": 17,
   "id": "996575d5",
   "metadata": {},
   "outputs": [
    {
     "name": "stderr",
     "output_type": "stream",
     "text": [
      "2023-03-28 23:49:35.438433: I tensorflow/core/platform/cpu_feature_guard.cc:193] This TensorFlow binary is optimized with oneAPI Deep Neural Network Library (oneDNN) to use the following CPU instructions in performance-critical operations:  AVX2 FMA\n",
      "To enable them in other operations, rebuild TensorFlow with the appropriate compiler flags.\n",
      "2023-03-28 23:49:35.439086: I tensorflow/compiler/xla/stream_executor/cuda/cuda_gpu_executor.cc:981] successful NUMA node read from SysFS had negative value (-1), but there must be at least one NUMA node, so returning NUMA node zero\n",
      "2023-03-28 23:49:35.439357: I tensorflow/compiler/xla/stream_executor/cuda/cuda_gpu_executor.cc:981] successful NUMA node read from SysFS had negative value (-1), but there must be at least one NUMA node, so returning NUMA node zero\n",
      "2023-03-28 23:49:35.439526: I tensorflow/compiler/xla/stream_executor/cuda/cuda_gpu_executor.cc:981] successful NUMA node read from SysFS had negative value (-1), but there must be at least one NUMA node, so returning NUMA node zero\n",
      "2023-03-28 23:49:35.886897: I tensorflow/compiler/xla/stream_executor/cuda/cuda_gpu_executor.cc:981] successful NUMA node read from SysFS had negative value (-1), but there must be at least one NUMA node, so returning NUMA node zero\n",
      "2023-03-28 23:49:35.887089: I tensorflow/compiler/xla/stream_executor/cuda/cuda_gpu_executor.cc:981] successful NUMA node read from SysFS had negative value (-1), but there must be at least one NUMA node, so returning NUMA node zero\n",
      "2023-03-28 23:49:35.887221: I tensorflow/compiler/xla/stream_executor/cuda/cuda_gpu_executor.cc:981] successful NUMA node read from SysFS had negative value (-1), but there must be at least one NUMA node, so returning NUMA node zero\n",
      "2023-03-28 23:49:35.887322: I tensorflow/core/common_runtime/gpu/gpu_device.cc:1613] Created device /job:localhost/replica:0/task:0/device:GPU:0 with 6890 MB memory:  -> device: 0, name: NVIDIA GeForce GTX 1070 Ti, pci bus id: 0000:01:00.0, compute capability: 6.1\n"
     ]
    },
    {
     "name": "stdout",
     "output_type": "stream",
     "text": [
      "Epoch 1/30\n"
     ]
    },
    {
     "name": "stderr",
     "output_type": "stream",
     "text": [
      "2023-03-28 23:49:41.477834: I tensorflow/compiler/xla/stream_executor/cuda/cuda_dnn.cc:428] Loaded cuDNN version 8100\n",
      "2023-03-28 23:49:41.751985: I tensorflow/compiler/xla/service/service.cc:173] XLA service 0x490ce7b0 initialized for platform CUDA (this does not guarantee that XLA will be used). Devices:\n",
      "2023-03-28 23:49:41.752007: I tensorflow/compiler/xla/service/service.cc:181]   StreamExecutor device (0): NVIDIA GeForce GTX 1070 Ti, Compute Capability 6.1\n",
      "2023-03-28 23:49:41.755193: I tensorflow/compiler/mlir/tensorflow/utils/dump_mlir_util.cc:268] disabling MLIR crash reproducer, set env var `MLIR_CRASH_REPRODUCER_DIRECTORY` to enable.\n",
      "2023-03-28 23:49:41.890185: I tensorflow/compiler/jit/xla_compilation_cache.cc:477] Compiled cluster using XLA!  This line is logged at most once for the lifetime of the process.\n"
     ]
    },
    {
     "name": "stdout",
     "output_type": "stream",
     "text": [
      "4776/4776 [==============================] - 671s 140ms/step - loss: 0.8910 - accuracy: 0.7501 - val_loss: 0.6495 - val_accuracy: 0.8022\n",
      "Epoch 2/30\n",
      "4776/4776 [==============================] - 585s 122ms/step - loss: 0.5661 - accuracy: 0.8184 - val_loss: 0.5532 - val_accuracy: 0.8150\n",
      "Epoch 3/30\n",
      "4776/4776 [==============================] - 578s 121ms/step - loss: 0.4976 - accuracy: 0.8270 - val_loss: 0.5449 - val_accuracy: 0.8114\n",
      "Epoch 4/30\n",
      "4776/4776 [==============================] - 576s 121ms/step - loss: 0.4551 - accuracy: 0.8350 - val_loss: 0.5579 - val_accuracy: 0.8049\n",
      "Epoch 5/30\n",
      "4776/4776 [==============================] - 576s 121ms/step - loss: 0.4253 - accuracy: 0.8410 - val_loss: 0.5888 - val_accuracy: 0.7960\n",
      "Epoch 6/30\n",
      "4776/4776 [==============================] - 576s 121ms/step - loss: 0.4011 - accuracy: 0.8460 - val_loss: 0.6039 - val_accuracy: 0.7947\n"
     ]
    },
    {
     "data": {
      "text/plain": [
       "<keras.callbacks.History at 0x7f0f891bfb80>"
      ]
     },
     "execution_count": 17,
     "metadata": {},
     "output_type": "execute_result"
    }
   ],
   "source": [
    "from tensorflow.keras.models import Sequential\n",
    "from tensorflow.keras.layers import Embedding, LSTM, Bidirectional, Dense\n",
    "from tensorflow.keras.callbacks import EarlyStopping\n",
    "\n",
    "# Create LSTM model\n",
    "model = Sequential()\n",
    "model.add(Embedding(input_dim=len(word2vec_model.wv.key_to_index) + 1, \n",
    "                    output_dim=word2vec_model.vector_size, input_length=max_length))\n",
    "model.add(Bidirectional(LSTM(units=128, return_sequences=True)))\n",
    "model.add(Bidirectional(LSTM(units=64)))\n",
    "model.add(Dense(units=len(labels[0]), activation='softmax'))\n",
    "\n",
    "# Define early stopping callback\n",
    "early_stopping = EarlyStopping(monitor='val_loss', patience=3)\n",
    "\n",
    "# Compile model\n",
    "model.compile(loss='categorical_crossentropy', optimizer='adam', metrics=['accuracy'])\n",
    "\n",
    "# Train model\n",
    "model.fit(X_train, y_train, epochs=30, batch_size=32, validation_data=(X_test, y_test), callbacks=[early_stopping])"
   ]
  },
  {
   "cell_type": "code",
   "execution_count": 26,
   "id": "56470378",
   "metadata": {},
   "outputs": [],
   "source": [
    "model.save('ge_BiLSTM.h5')\n",
    "np.save(\"X_test_BiLSTM.npy\", X_test)\n",
    "np.save(\"y_test_BiLSTM.npy\", y_test)\n",
    "#np.save(\"labels.npy\", labels)"
   ]
  },
  {
   "cell_type": "code",
   "execution_count": 27,
   "id": "2b5298f8",
   "metadata": {},
   "outputs": [],
   "source": [
    "from tensorflow.keras.models import load_model\n",
    "import numpy as np\n",
    "\n",
    "model = load_model('ge_BiLSTM.h5')\n",
    "X_test = np.load(\"X_test_BiLSTM.npy\")\n",
    "y_test = np.load(\"y_test_BiLSTM.npy\")\n",
    "#labels = np.load(\"labels.npy\")"
   ]
  },
  {
   "cell_type": "markdown",
   "id": "990000c8",
   "metadata": {},
   "source": [
    "# Avaliação de Resultados"
   ]
  },
  {
   "cell_type": "code",
   "execution_count": 28,
   "id": "0fa18b7f",
   "metadata": {},
   "outputs": [
    {
     "name": "stdout",
     "output_type": "stream",
     "text": [
      "Acurácia final: 0.7947174310684204\n"
     ]
    }
   ],
   "source": [
    "loss, accuracy = model.evaluate(X_test, y_test, verbose=0)\n",
    "print('Acurácia final:', accuracy)"
   ]
  },
  {
   "cell_type": "code",
   "execution_count": 29,
   "id": "eb3237d5",
   "metadata": {},
   "outputs": [
    {
     "name": "stdout",
     "output_type": "stream",
     "text": [
      "1194/1194 [==============================] - 47s 39ms/step\n"
     ]
    }
   ],
   "source": [
    "# Fazer as previsões do modelo para o conjunto de teste\n",
    "y_pred = model.predict(X_test)"
   ]
  },
  {
   "cell_type": "code",
   "execution_count": 30,
   "id": "fe519cbf",
   "metadata": {},
   "outputs": [
    {
     "data": {
      "text/plain": [
       "array([[1775,   35,   13,    2,   24,   13,    2,   22,   38,    6,   44,\n",
       "          22,    3,   15,    6,   14,   28,    9,   39,    5,    3],\n",
       "       [  28,  626,    6,    6,   16,    0,    6,   30,    3,    1,    6,\n",
       "           8,    6,   39,    3,   11,    6,    1,   14,    2,    2],\n",
       "       [  33,   33, 1512,    7,   21,    1,    7,   32,    9,   87,   31,\n",
       "          24,    9,   10,    4,   14,   26,    6,   36,   10,   13],\n",
       "       [  29,   20,    9, 1148,   24,    3,   12,   27,    4,    9,   22,\n",
       "          10,   11,    4,    6,   10,    6,    3,   23,   16,    8],\n",
       "       [  35,   28,    8,    8, 1573,    1,    5,   38,   12,   15,  114,\n",
       "          54,    4,   14,    8,   13,   28,   12,   37,    7,   42],\n",
       "       [  22,   35,    9,    3,   15,  533,    5,   32,    4,    2,   13,\n",
       "          14,    4,    4,    1,    8,   18,    1,   20,    2,    1],\n",
       "       [  36,   34,    7,   17,   14,    0,  879,   26,    8,    4,   18,\n",
       "          15,   92,    6,    4,   13,   17,    2,   18,   10,    7],\n",
       "       [  43,   46,   12,    7,   36,   14,    3, 2605,   11,   11,   56,\n",
       "          26,   12,   17,   14,   24,   89,   25,   80,   14,   10],\n",
       "       [ 119,   27,   10,    4,    8,    4,    3,   12,  789,    4,    7,\n",
       "           7,    3,    4,    2,    7,    8,    4,   14,    2,    6],\n",
       "       [  15,    7,   43,   10,   10,    3,    1,   14,    7, 1689,   22,\n",
       "          15,    4,    4,   17,   15,   16,    5,   16,    6,   10],\n",
       "       [  70,   34,   24,    8,   61,    7,    7,   75,   12,   19, 2401,\n",
       "          93,   19,   14,   12,   16,   70,   15,   45,   12,   46],\n",
       "       [  53,   51,    9,   10,   39,    1,    3,   48,    7,    9,  115,\n",
       "        1695,    6,   15,   11,   10,   23,    5,   43,    4,   33],\n",
       "       [  32,   38,    7,    7,   13,    3,   95,   26,    3,    4,   16,\n",
       "          15,  957,    4,    4,    8,   18,    2,   17,   17,    4],\n",
       "       [  24,   93,    5,    9,   17,    5,    4,   22,   12,    2,    7,\n",
       "          10,    3,  703,    1,    8,    7,    4,   12,    3,    1],\n",
       "       [  41,   31,   10,   18,   21,    4,    5,   33,    3,   25,   55,\n",
       "          19,    7,    7, 1712,  104,   42,    3,   40,    6,    8],\n",
       "       [  50,   40,   10,    3,   33,    4,    5,   46,    5,   12,   60,\n",
       "          34,    9,   15,   61, 2108,   31,    5,   36,    7,    8],\n",
       "       [  51,   28,   21,    9,   25,    7,    7,   79,    3,   18,   83,\n",
       "          36,    6,   11,   10,   14, 2070,   14,   77,    8,    6],\n",
       "       [  32,   19,    9,    4,   17,    3,   11,   47,    2,   11,   48,\n",
       "          20,    1,    9,   10,   18,   46, 1247,   43,   10,    0],\n",
       "       [  38,   35,   10,   14,   31,   10,    4,   97,    3,   13,   56,\n",
       "          41,    6,   10,   13,   26,   44,   22, 2261,   19,   13],\n",
       "       [  28,   21,    7,   11,   10,    1,   10,   14,    1,    8,   21,\n",
       "           9,   13,    5,    5,    6,   10,    4,   12, 1054,   19],\n",
       "       [  24,   12,   10,    4,   17,    1,    4,   23,    3,    2,   50,\n",
       "          37,    4,   10,   13,   11,   13,    3,   18,    3, 1022]])"
      ]
     },
     "execution_count": 30,
     "metadata": {},
     "output_type": "execute_result"
    }
   ],
   "source": [
    "#Transformar as previsões de volta em rótulos\n",
    "y_pred_labels = np.argmax(y_pred, axis=1)\n",
    "y_true_labels = np.argmax(y_test, axis=1)\n",
    "\n",
    "# Calcular a matriz de confusão\n",
    "from sklearn.metrics import confusion_matrix\n",
    "conf_mat = confusion_matrix(y_true_labels, y_pred_labels)\n",
    "\n",
    "conf_mat"
   ]
  },
  {
   "cell_type": "code",
   "execution_count": 31,
   "id": "6a477aaa",
   "metadata": {},
   "outputs": [
    {
     "data": {
      "text/plain": [
       "191005"
      ]
     },
     "execution_count": 31,
     "metadata": {},
     "output_type": "execute_result"
    }
   ],
   "source": [
    "import pandas as pd\n",
    "\n",
    "classes = df['label'].nunique()\n",
    "\n",
    "# Lê o arquivo .csv\n",
    "df = pd.read_pickle(\"ge.pkl\")\n",
    "\n",
    "df.shape[0]"
   ]
  },
  {
   "cell_type": "code",
   "execution_count": 32,
   "id": "770139f8",
   "metadata": {},
   "outputs": [
    {
     "data": {
      "image/png": "[encoded data removed]",
      "text/plain": [
       "<Figure size 1500x1000 with 2 Axes>"
      ]
     },
     "metadata": {},
     "output_type": "display_data"
    }
   ],
   "source": [
    "import matplotlib.pyplot as plt\n",
    "\n",
    "# Define size of the figure\n",
    "plt.figure(figsize=(15, 10))\n",
    "\n",
    "# Define colormap\n",
    "cmap = plt.cm.Blues\n",
    "\n",
    "# Plot confusion matrix\n",
    "plt.imshow(conf_mat, cmap=cmap)\n",
    "plt.colorbar()\n",
    "\n",
    "# Add labels to matrix\n",
    "plt.xticks([int(i) for i in range(21)], [str(i) for i in range(21)])\n",
    "plt.yticks([int(i) for i in range(21)], [str(i) for i in range(21)])\n",
    "\n",
    "for i in range(classes):\n",
    "    for j in range(classes):\n",
    "        plt.text(j, i, str(conf_mat[i, j]), ha='center', va='center', color='white' if conf_mat[i, j] > len(y_true_labels)/ classes else 'black')\n",
    "\n",
    "# Add axis labels\n",
    "plt.xlabel('Predicted Class')\n",
    "plt.ylabel('True Class')\n",
    "\n",
    "# Show plot\n",
    "plt.show()"
   ]
  },
  {
   "cell_type": "code",
   "execution_count": 33,
   "id": "4c9288ae",
   "metadata": {},
   "outputs": [
    {
     "name": "stdout",
     "output_type": "stream",
     "text": [
      "Class '0': Precision=0.6885, Recall=0.8381, F1-Score=0.7560\n",
      "Class '1': Precision=0.4841, Recall=0.7634, F1-Score=0.5925\n",
      "Class '2': Precision=0.8635, Recall=0.7855, F1-Score=0.8226\n",
      "Class '3': Precision=0.8770, Recall=0.8177, F1-Score=0.8463\n",
      "Class '4': Precision=0.7768, Recall=0.7651, F1-Score=0.7709\n",
      "Class '5': Precision=0.8625, Recall=0.7145, F1-Score=0.7815\n",
      "Class '6': Precision=0.8154, Recall=0.7164, F1-Score=0.7627\n",
      "Class '7': Precision=0.7781, Recall=0.8257, F1-Score=0.8012\n",
      "Class '8': Precision=0.8403, Recall=0.7557, F1-Score=0.7958\n",
      "Class '9': Precision=0.8657, Recall=0.8756, F1-Score=0.8706\n",
      "Class '10': Precision=0.7399, Recall=0.7846, F1-Score=0.7616\n",
      "Class '11': Precision=0.7691, Recall=0.7740, F1-Score=0.7715\n",
      "Class '12': Precision=0.8117, Recall=0.7419, F1-Score=0.7752\n",
      "Class '13': Precision=0.7641, Recall=0.7384, F1-Score=0.7511\n",
      "Class '14': Precision=0.8931, Recall=0.7803, F1-Score=0.8329\n",
      "Class '15': Precision=0.8576, Recall=0.8164, F1-Score=0.8365\n",
      "Class '16': Precision=0.7913, Recall=0.8014, F1-Score=0.7963\n",
      "Class '17': Precision=0.8958, Recall=0.7760, F1-Score=0.8316\n",
      "Class '18': Precision=0.7794, Recall=0.8174, F1-Score=0.7980\n",
      "Class '19': Precision=0.8661, Recall=0.8306, F1-Score=0.8479\n",
      "Class '20': Precision=0.8098, Recall=0.7960, F1-Score=0.8028\n"
     ]
    }
   ],
   "source": [
    "import numpy as np\n",
    "from sklearn.metrics import precision_score, recall_score, f1_score\n",
    "\n",
    "# Calculate precision, recall and f1-score for each class\n",
    "precisions = []\n",
    "recalls = []\n",
    "f1_scores = []\n",
    "for i in range(classes):\n",
    "    precision = precision_score(y_true=y_true_labels == i, y_pred=y_pred_labels == i, zero_division=0)\n",
    "    recall = recall_score(y_true=y_true_labels == i, y_pred=y_pred_labels == i, zero_division=0)\n",
    "    f1 = f1_score(y_true=y_true_labels == i, y_pred=y_pred_labels == i, zero_division=0)\n",
    "    precisions.append(precision)\n",
    "    recalls.append(recall)\n",
    "    f1_scores.append(f1)\n",
    "    \n",
    "# Print results\n",
    "for i in range(classes):\n",
    "    print(f\"Class '{i}': Precision={precisions[i]:.4f}, Recall={recalls[i]:.4f}, F1-Score={f1_scores[i]:.4f}\")\n"
   ]
  },
  {
   "cell_type": "markdown",
   "id": "53dd00bc",
   "metadata": {},
   "source": [
    "## Referências\n",
    "\n",
    "* https://www.kaggle.com/datasets/lgmoneda/ge-soccer-clubs-news\n",
    "* https://medium.com/@everton.tomalok/word2vec-e-sua-import%C3%A2ncia-na-etapa-de-pr%C3%A9-processamento-d0813acfc8ab\n",
    "* https://www.youtube.com/watch?v=hQwFeIupNP0\n",
    "* https://www.youtube.com/watch?v=ISPId9Lhc1g\n",
    "* https://jalammar.github.io/illustrated-word2vec/\n",
    "* https://towardsdatascience.com/a-beginners-guide-to-word-embedding-with-gensim-word2vec-model-5970fa56cc92"
   ]
  }
 ],
 "metadata": {
  "kernelspec": {
   "display_name": "Python 3 (ipykernel)",
   "language": "python",
   "name": "python3"
  },
  "language_info": {
   "codemirror_mode": {
    "name": "ipython",
    "version": 3
   },
   "file_extension": ".py",
   "mimetype": "text/x-python",
   "name": "python",
   "nbconvert_exporter": "python",
   "pygments_lexer": "ipython3",
   "version": "3.9.16"
  }
 },
 "nbformat": 4,
 "nbformat_minor": 5
}
