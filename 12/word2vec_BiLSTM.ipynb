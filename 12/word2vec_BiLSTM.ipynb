{
 "cells": [
  {
   "cell_type": "markdown",
   "id": "fd769af5",
   "metadata": {},
   "source": [
    "# Preparação dos dados"
   ]
  },
  {
   "cell_type": "code",
   "execution_count": 2,
   "id": "16d72509",
   "metadata": {},
   "outputs": [
    {
     "data": {
      "text/html": [
       "<div>\n",
       "<style scoped>\n",
       "    .dataframe tbody tr th:only-of-type {\n",
       "        vertical-align: middle;\n",
       "    }\n",
       "\n",
       "    .dataframe tbody tr th {\n",
       "        vertical-align: top;\n",
       "    }\n",
       "\n",
       "    .dataframe thead th {\n",
       "        text-align: right;\n",
       "    }\n",
       "</style>\n",
       "<table border=\"1\" class=\"dataframe\">\n",
       "  <thead>\n",
       "    <tr style=\"text-align: right;\">\n",
       "      <th></th>\n",
       "      <th>date</th>\n",
       "      <th>time</th>\n",
       "      <th>title</th>\n",
       "      <th>text</th>\n",
       "      <th>link</th>\n",
       "      <th>club</th>\n",
       "    </tr>\n",
       "  </thead>\n",
       "  <tbody>\n",
       "    <tr>\n",
       "      <th>0</th>\n",
       "      <td>10/11/2022</td>\n",
       "      <td>19h55</td>\n",
       "      <td>Convocados do Uruguai para a Copa do Mundo 202...</td>\n",
       "      <td>O técnico Diego Alonso divulgou a lista dos 2...</td>\n",
       "      <td>https://ge.globo.com/futebol/copa-do-mundo/not...</td>\n",
       "      <td>athletico-pr</td>\n",
       "    </tr>\n",
       "    <tr>\n",
       "      <th>1</th>\n",
       "      <td>22/12/2017</td>\n",
       "      <td>10h04</td>\n",
       "      <td>Conmebol divulga tabela detalhada da pré e da ...</td>\n",
       "      <td>Argentinos são destaques no caminho dos brasi...</td>\n",
       "      <td>https://globoesporte.globo.com/futebol/liberta...</td>\n",
       "      <td>athletico-pr</td>\n",
       "    </tr>\n",
       "    <tr>\n",
       "      <th>2</th>\n",
       "      <td>11/02/2018</td>\n",
       "      <td>08h00</td>\n",
       "      <td>Com assistência, Demethryus recebe elogios no ...</td>\n",
       "      <td>O meia Demethryus conseguiu aproveitar bem a ...</td>\n",
       "      <td>https://globoesporte.globo.com/pr/futebol/time...</td>\n",
       "      <td>athletico-pr</td>\n",
       "    </tr>\n",
       "    <tr>\n",
       "      <th>3</th>\n",
       "      <td>18/12/2020</td>\n",
       "      <td>12h48</td>\n",
       "      <td>Athletico confirma fim de contrato com Welling...</td>\n",
       "      <td>A reportagem do ge já havia adiantado que as ...</td>\n",
       "      <td>https://globoesporte.globo.com/pr/futebol/time...</td>\n",
       "      <td>athletico-pr</td>\n",
       "    </tr>\n",
       "    <tr>\n",
       "      <th>4</th>\n",
       "      <td>13/09/2018</td>\n",
       "      <td>22h17</td>\n",
       "      <td>Alô, cartoleiros! Atlético-PR passa limpo cont...</td>\n",
       "      <td>O atacante Marcelo Cirino, desfalque já nos ú...</td>\n",
       "      <td>https://globoesporte.globo.com/pr/futebol/time...</td>\n",
       "      <td>athletico-pr</td>\n",
       "    </tr>\n",
       "  </tbody>\n",
       "</table>\n",
       "</div>"
      ],
      "text/plain": [
       "         date   time                                              title  \\\n",
       "0  10/11/2022  19h55  Convocados do Uruguai para a Copa do Mundo 202...   \n",
       "1  22/12/2017  10h04  Conmebol divulga tabela detalhada da pré e da ...   \n",
       "2  11/02/2018  08h00  Com assistência, Demethryus recebe elogios no ...   \n",
       "3  18/12/2020  12h48  Athletico confirma fim de contrato com Welling...   \n",
       "4  13/09/2018  22h17  Alô, cartoleiros! Atlético-PR passa limpo cont...   \n",
       "\n",
       "                                                text  \\\n",
       "0   O técnico Diego Alonso divulgou a lista dos 2...   \n",
       "1   Argentinos são destaques no caminho dos brasi...   \n",
       "2   O meia Demethryus conseguiu aproveitar bem a ...   \n",
       "3   A reportagem do ge já havia adiantado que as ...   \n",
       "4   O atacante Marcelo Cirino, desfalque já nos ú...   \n",
       "\n",
       "                                                link          club  \n",
       "0  https://ge.globo.com/futebol/copa-do-mundo/not...  athletico-pr  \n",
       "1  https://globoesporte.globo.com/futebol/liberta...  athletico-pr  \n",
       "2  https://globoesporte.globo.com/pr/futebol/time...  athletico-pr  \n",
       "3  https://globoesporte.globo.com/pr/futebol/time...  athletico-pr  \n",
       "4  https://globoesporte.globo.com/pr/futebol/time...  athletico-pr  "
      ]
     },
     "execution_count": 2,
     "metadata": {},
     "output_type": "execute_result"
    }
   ],
   "source": [
    "import pandas as pd\n",
    "\n",
    "# Lê o arquivo .csv\n",
    "df = pd.read_csv('ge_news.csv')\n",
    "\n",
    "# Exibe as primeiras linhas\n",
    "df.head()"
   ]
  },
  {
   "cell_type": "code",
   "execution_count": 3,
   "id": "4750c7b4",
   "metadata": {},
   "outputs": [],
   "source": [
    "# Removendo simultaneamente as colunas de índice 0, 1, 4 (date, time and link)\n",
    "column_indices = [0, 1, 4]\n",
    "df.drop([df.columns[i] for i in column_indices], axis=1, inplace=True)"
   ]
  },
  {
   "cell_type": "code",
   "execution_count": 4,
   "id": "4190d3fe",
   "metadata": {},
   "outputs": [
    {
     "data": {
      "text/html": [
       "<div>\n",
       "<style scoped>\n",
       "    .dataframe tbody tr th:only-of-type {\n",
       "        vertical-align: middle;\n",
       "    }\n",
       "\n",
       "    .dataframe tbody tr th {\n",
       "        vertical-align: top;\n",
       "    }\n",
       "\n",
       "    .dataframe thead th {\n",
       "        text-align: right;\n",
       "    }\n",
       "</style>\n",
       "<table border=\"1\" class=\"dataframe\">\n",
       "  <thead>\n",
       "    <tr style=\"text-align: right;\">\n",
       "      <th></th>\n",
       "      <th>title</th>\n",
       "      <th>text</th>\n",
       "      <th>club</th>\n",
       "    </tr>\n",
       "  </thead>\n",
       "  <tbody>\n",
       "    <tr>\n",
       "      <th>0</th>\n",
       "      <td>Convocados do Uruguai para a Copa do Mundo 202...</td>\n",
       "      <td>O técnico Diego Alonso divulgou a lista dos 2...</td>\n",
       "      <td>athletico-pr</td>\n",
       "    </tr>\n",
       "    <tr>\n",
       "      <th>1</th>\n",
       "      <td>Conmebol divulga tabela detalhada da pré e da ...</td>\n",
       "      <td>Argentinos são destaques no caminho dos brasi...</td>\n",
       "      <td>athletico-pr</td>\n",
       "    </tr>\n",
       "    <tr>\n",
       "      <th>2</th>\n",
       "      <td>Com assistência, Demethryus recebe elogios no ...</td>\n",
       "      <td>O meia Demethryus conseguiu aproveitar bem a ...</td>\n",
       "      <td>athletico-pr</td>\n",
       "    </tr>\n",
       "    <tr>\n",
       "      <th>3</th>\n",
       "      <td>Athletico confirma fim de contrato com Welling...</td>\n",
       "      <td>A reportagem do ge já havia adiantado que as ...</td>\n",
       "      <td>athletico-pr</td>\n",
       "    </tr>\n",
       "    <tr>\n",
       "      <th>4</th>\n",
       "      <td>Alô, cartoleiros! Atlético-PR passa limpo cont...</td>\n",
       "      <td>O atacante Marcelo Cirino, desfalque já nos ú...</td>\n",
       "      <td>athletico-pr</td>\n",
       "    </tr>\n",
       "  </tbody>\n",
       "</table>\n",
       "</div>"
      ],
      "text/plain": [
       "                                               title  \\\n",
       "0  Convocados do Uruguai para a Copa do Mundo 202...   \n",
       "1  Conmebol divulga tabela detalhada da pré e da ...   \n",
       "2  Com assistência, Demethryus recebe elogios no ...   \n",
       "3  Athletico confirma fim de contrato com Welling...   \n",
       "4  Alô, cartoleiros! Atlético-PR passa limpo cont...   \n",
       "\n",
       "                                                text          club  \n",
       "0   O técnico Diego Alonso divulgou a lista dos 2...  athletico-pr  \n",
       "1   Argentinos são destaques no caminho dos brasi...  athletico-pr  \n",
       "2   O meia Demethryus conseguiu aproveitar bem a ...  athletico-pr  \n",
       "3   A reportagem do ge já havia adiantado que as ...  athletico-pr  \n",
       "4   O atacante Marcelo Cirino, desfalque já nos ú...  athletico-pr  "
      ]
     },
     "execution_count": 4,
     "metadata": {},
     "output_type": "execute_result"
    }
   ],
   "source": [
    "df.head()"
   ]
  },
  {
   "cell_type": "code",
   "execution_count": 5,
   "id": "e7b3299a",
   "metadata": {},
   "outputs": [],
   "source": [
    "# Fundindo colunas 'title' e 'text' para a coluna 'title_and_text'\n",
    "df['data'] = df['title'] + ' ' + df['text']"
   ]
  },
  {
   "cell_type": "code",
   "execution_count": 6,
   "id": "e8db8b90",
   "metadata": {},
   "outputs": [
    {
     "data": {
      "text/html": [
       "<div>\n",
       "<style scoped>\n",
       "    .dataframe tbody tr th:only-of-type {\n",
       "        vertical-align: middle;\n",
       "    }\n",
       "\n",
       "    .dataframe tbody tr th {\n",
       "        vertical-align: top;\n",
       "    }\n",
       "\n",
       "    .dataframe thead th {\n",
       "        text-align: right;\n",
       "    }\n",
       "</style>\n",
       "<table border=\"1\" class=\"dataframe\">\n",
       "  <thead>\n",
       "    <tr style=\"text-align: right;\">\n",
       "      <th></th>\n",
       "      <th>title</th>\n",
       "      <th>text</th>\n",
       "      <th>club</th>\n",
       "      <th>data</th>\n",
       "    </tr>\n",
       "  </thead>\n",
       "  <tbody>\n",
       "    <tr>\n",
       "      <th>0</th>\n",
       "      <td>Convocados do Uruguai para a Copa do Mundo 202...</td>\n",
       "      <td>O técnico Diego Alonso divulgou a lista dos 2...</td>\n",
       "      <td>athletico-pr</td>\n",
       "      <td>Convocados do Uruguai para a Copa do Mundo 202...</td>\n",
       "    </tr>\n",
       "    <tr>\n",
       "      <th>1</th>\n",
       "      <td>Conmebol divulga tabela detalhada da pré e da ...</td>\n",
       "      <td>Argentinos são destaques no caminho dos brasi...</td>\n",
       "      <td>athletico-pr</td>\n",
       "      <td>Conmebol divulga tabela detalhada da pré e da ...</td>\n",
       "    </tr>\n",
       "    <tr>\n",
       "      <th>2</th>\n",
       "      <td>Com assistência, Demethryus recebe elogios no ...</td>\n",
       "      <td>O meia Demethryus conseguiu aproveitar bem a ...</td>\n",
       "      <td>athletico-pr</td>\n",
       "      <td>Com assistência, Demethryus recebe elogios no ...</td>\n",
       "    </tr>\n",
       "    <tr>\n",
       "      <th>3</th>\n",
       "      <td>Athletico confirma fim de contrato com Welling...</td>\n",
       "      <td>A reportagem do ge já havia adiantado que as ...</td>\n",
       "      <td>athletico-pr</td>\n",
       "      <td>Athletico confirma fim de contrato com Welling...</td>\n",
       "    </tr>\n",
       "    <tr>\n",
       "      <th>4</th>\n",
       "      <td>Alô, cartoleiros! Atlético-PR passa limpo cont...</td>\n",
       "      <td>O atacante Marcelo Cirino, desfalque já nos ú...</td>\n",
       "      <td>athletico-pr</td>\n",
       "      <td>Alô, cartoleiros! Atlético-PR passa limpo cont...</td>\n",
       "    </tr>\n",
       "  </tbody>\n",
       "</table>\n",
       "</div>"
      ],
      "text/plain": [
       "                                               title  \\\n",
       "0  Convocados do Uruguai para a Copa do Mundo 202...   \n",
       "1  Conmebol divulga tabela detalhada da pré e da ...   \n",
       "2  Com assistência, Demethryus recebe elogios no ...   \n",
       "3  Athletico confirma fim de contrato com Welling...   \n",
       "4  Alô, cartoleiros! Atlético-PR passa limpo cont...   \n",
       "\n",
       "                                                text          club  \\\n",
       "0   O técnico Diego Alonso divulgou a lista dos 2...  athletico-pr   \n",
       "1   Argentinos são destaques no caminho dos brasi...  athletico-pr   \n",
       "2   O meia Demethryus conseguiu aproveitar bem a ...  athletico-pr   \n",
       "3   A reportagem do ge já havia adiantado que as ...  athletico-pr   \n",
       "4   O atacante Marcelo Cirino, desfalque já nos ú...  athletico-pr   \n",
       "\n",
       "                                                data  \n",
       "0  Convocados do Uruguai para a Copa do Mundo 202...  \n",
       "1  Conmebol divulga tabela detalhada da pré e da ...  \n",
       "2  Com assistência, Demethryus recebe elogios no ...  \n",
       "3  Athletico confirma fim de contrato com Welling...  \n",
       "4  Alô, cartoleiros! Atlético-PR passa limpo cont...  "
      ]
     },
     "execution_count": 6,
     "metadata": {},
     "output_type": "execute_result"
    }
   ],
   "source": [
    "df.head()"
   ]
  },
  {
   "cell_type": "code",
   "execution_count": 7,
   "id": "389e2ace",
   "metadata": {},
   "outputs": [],
   "source": [
    "from sklearn.preprocessing import LabelEncoder\n",
    "\n",
    "# Cria um objeto LabelEncoder\n",
    "le = LabelEncoder()\n",
    "\n",
    "# Fitting the encoder and transforming the 'Animals' column\n",
    "df['label'] = le.fit_transform(df['club'])"
   ]
  },
  {
   "cell_type": "code",
   "execution_count": 8,
   "id": "5e04bd12",
   "metadata": {},
   "outputs": [],
   "source": [
    "# Removendo as três colunas originais, não precisamos mais delas\n",
    "column_indices = [0, 1, 2]\n",
    "df.drop([df.columns[i] for i in column_indices], axis=1, inplace=True)"
   ]
  },
  {
   "cell_type": "code",
   "execution_count": 9,
   "id": "6c41ada1",
   "metadata": {},
   "outputs": [
    {
     "data": {
      "text/html": [
       "<div>\n",
       "<style scoped>\n",
       "    .dataframe tbody tr th:only-of-type {\n",
       "        vertical-align: middle;\n",
       "    }\n",
       "\n",
       "    .dataframe tbody tr th {\n",
       "        vertical-align: top;\n",
       "    }\n",
       "\n",
       "    .dataframe thead th {\n",
       "        text-align: right;\n",
       "    }\n",
       "</style>\n",
       "<table border=\"1\" class=\"dataframe\">\n",
       "  <thead>\n",
       "    <tr style=\"text-align: right;\">\n",
       "      <th></th>\n",
       "      <th>data</th>\n",
       "      <th>label</th>\n",
       "    </tr>\n",
       "  </thead>\n",
       "  <tbody>\n",
       "    <tr>\n",
       "      <th>0</th>\n",
       "      <td>Convocados do Uruguai para a Copa do Mundo 202...</td>\n",
       "      <td>0</td>\n",
       "    </tr>\n",
       "    <tr>\n",
       "      <th>1</th>\n",
       "      <td>Conmebol divulga tabela detalhada da pré e da ...</td>\n",
       "      <td>0</td>\n",
       "    </tr>\n",
       "    <tr>\n",
       "      <th>2</th>\n",
       "      <td>Com assistência, Demethryus recebe elogios no ...</td>\n",
       "      <td>0</td>\n",
       "    </tr>\n",
       "    <tr>\n",
       "      <th>3</th>\n",
       "      <td>Athletico confirma fim de contrato com Welling...</td>\n",
       "      <td>0</td>\n",
       "    </tr>\n",
       "    <tr>\n",
       "      <th>4</th>\n",
       "      <td>Alô, cartoleiros! Atlético-PR passa limpo cont...</td>\n",
       "      <td>0</td>\n",
       "    </tr>\n",
       "  </tbody>\n",
       "</table>\n",
       "</div>"
      ],
      "text/plain": [
       "                                                data  label\n",
       "0  Convocados do Uruguai para a Copa do Mundo 202...      0\n",
       "1  Conmebol divulga tabela detalhada da pré e da ...      0\n",
       "2  Com assistência, Demethryus recebe elogios no ...      0\n",
       "3  Athletico confirma fim de contrato com Welling...      0\n",
       "4  Alô, cartoleiros! Atlético-PR passa limpo cont...      0"
      ]
     },
     "execution_count": 9,
     "metadata": {},
     "output_type": "execute_result"
    }
   ],
   "source": [
    "df.head()"
   ]
  },
  {
   "cell_type": "code",
   "execution_count": 10,
   "id": "13a347bd",
   "metadata": {},
   "outputs": [
    {
     "data": {
      "image/png": "[encoded data removed]",
      "text/plain": [
       "<Figure size 1200x600 with 1 Axes>"
      ]
     },
     "metadata": {},
     "output_type": "display_data"
    }
   ],
   "source": [
    "import pandas as pd\n",
    "import matplotlib.pyplot as plt\n",
    "\n",
    "# Assuming your DataFrame is named `ds` and has columns 'data' and 'label'\n",
    "category_counts = df['label'].value_counts()\n",
    "\n",
    "# Plot the distribution of categories\n",
    "plt.figure(figsize=(12, 6))\n",
    "category_counts.plot(kind='bar')\n",
    "plt.xlabel('Categories')\n",
    "plt.ylabel('Number of Articles')\n",
    "plt.title('Distribution of Categories in the Dataset')\n",
    "plt.show()"
   ]
  },
  {
   "cell_type": "markdown",
   "id": "b67b64c5",
   "metadata": {},
   "source": [
    "# Pré-processamento"
   ]
  },
  {
   "cell_type": "code",
   "execution_count": 33,
   "id": "19f5c36a",
   "metadata": {},
   "outputs": [],
   "source": [
    "import nltk\n",
    "from nltk.corpus import stopwords\n",
    "from nltk.tokenize import word_tokenize\n",
    "from nltk.stem import WordNetLemmatizer\n",
    "from nltk.corpus import wordnet"
   ]
  },
  {
   "cell_type": "code",
   "execution_count": null,
   "id": "1725d547",
   "metadata": {},
   "outputs": [],
   "source": [
    "nltk.download('punkt')\n",
    "nltk.download('stopwords')\n",
    "nltk.download('wordnet')\n",
    "nltk.download('averaged_perceptron_tagger')"
   ]
  },
  {
   "cell_type": "code",
   "execution_count": 31,
   "id": "4ea6c46b",
   "metadata": {},
   "outputs": [],
   "source": [
    "import string\n",
    "from collections import defaultdict\n",
    "from tqdm import tqdm\n",
    "\n",
    "tqdm.pandas()\n",
    "\n",
    "def preprocess_text(df, text_column):\n",
    "    \"\"\"\n",
    "    Realiza o pré-processamento dos dados de texto em um DataFrame do Pandas.\n",
    "    Remove pontuação, palavras comuns (stop words) e aplica lematização.\n",
    "    \"\"\"\n",
    "    \n",
    "    # Cria uma tabela de tradução que mapeia cada caractere de pontuação do módulo `string.punctuation` \n",
    "    # para `None` (ou seja, remove-os do texto).\n",
    "    print(\"Removendo pontuação...\")\n",
    "    translator = str.maketrans('', '', string.punctuation) \n",
    "    df[text_column] = df[text_column].progress_apply(lambda x: x.translate(translator))\n",
    "        \n",
    "    # Usa o método `apply()` do Pandas DataFrame para aplicar o tokenizador `word_tokenize()` do NLTK \n",
    "    # a cada elemento da coluna `text_column` especificada em `df_clean` após converter cada elemento \n",
    "    # para letras minúsculas.\n",
    "    print(\"Aplicando tokenização...\")\n",
    "    df[text_column] = df[text_column].progress_apply(lambda x: word_tokenize(x.lower()))\n",
    "\n",
    "    # Remove palavras comuns (stop words)\n",
    "    print(\"Removendo stopwords...\")\n",
    "    stop_words = set(stopwords.words('portuguese'))\n",
    "    df[text_column] = df[text_column].progress_apply(lambda x: [word for word in x if word not in stop_words])\n",
    "       \n",
    "    def get_wordnet_pos(tag):\n",
    "        \"\"\"\n",
    "        Mapeia a tag POS (classe gramatical) para o primeiro caractere usado pelo WordNetLemmatizer\n",
    "        \"\"\"\n",
    "        if tag.startswith('J'):\n",
    "            return wordnet.ADJ\n",
    "        elif tag.startswith('V'):\n",
    "            return wordnet.VERB\n",
    "        elif tag.startswith('R'):\n",
    "            return wordnet.ADV\n",
    "        else:\n",
    "            return wordnet.NOUN\n",
    "    \n",
    "    def lemmatize_words(words):\n",
    "        lemmatizer = WordNetLemmatizer()\n",
    "        pos_tagged_words = nltk.pos_tag(words)\n",
    "        return [lemmatizer.lemmatize(word, get_wordnet_pos(tag)) for word, tag in pos_tagged_words]\n",
    "    \n",
    "    # Retorna o valor correspondente à tag POS da palavra, usando o dicionário de mapeamento criado acima\n",
    "    print(\"Computando Lematização...\")\n",
    "    df[text_column] = df[text_column].progress_apply(lemmatize_words)"
   ]
  },
  {
   "cell_type": "code",
   "execution_count": null,
   "id": "b9315e90",
   "metadata": {},
   "outputs": [],
   "source": [
    "preprocess_text(df, 'data')"
   ]
  },
  {
   "cell_type": "code",
   "execution_count": 1,
   "id": "72e0c6ac",
   "metadata": {
    "scrolled": true
   },
   "outputs": [
    {
     "ename": "NameError",
     "evalue": "name 'df' is not defined",
     "output_type": "error",
     "traceback": [
      "\u001b[0;31m---------------------------------------------------------------------------\u001b[0m",
      "\u001b[0;31mNameError\u001b[0m                                 Traceback (most recent call last)",
      "Cell \u001b[0;32mIn[1], line 2\u001b[0m\n\u001b[1;32m      1\u001b[0m \u001b[38;5;66;03m# Salvar em formato pickle\u001b[39;00m\n\u001b[0;32m----> 2\u001b[0m \u001b[43mdf\u001b[49m\u001b[38;5;241m.\u001b[39mto_pickle(\u001b[38;5;124m\"\u001b[39m\u001b[38;5;124mge.pkl\u001b[39m\u001b[38;5;124m\"\u001b[39m)\n\u001b[1;32m      4\u001b[0m df\n",
      "\u001b[0;31mNameError\u001b[0m: name 'df' is not defined"
     ]
    }
   ],
   "source": [
    "# Salvar em formato pickle\n",
    "df.to_pickle(\"ge.pkl\")\n",
    "\n",
    "df"
   ]
  },
  {
   "cell_type": "code",
   "execution_count": 1,
   "id": "942bea8d",
   "metadata": {},
   "outputs": [],
   "source": [
    "import pandas as pd\n",
    "\n",
    "df = pd.read_pickle(\"ge.pkl\")"
   ]
  },
  {
   "cell_type": "markdown",
   "id": "479c5d8f",
   "metadata": {},
   "source": [
    "# Treinando modelo Word2vec"
   ]
  },
  {
   "cell_type": "code",
   "execution_count": 2,
   "id": "2bb15c8a",
   "metadata": {},
   "outputs": [],
   "source": [
    "from gensim.models import Word2Vec\n",
    "from gensim.models.callbacks import CallbackAny2Vec"
   ]
  },
  {
   "cell_type": "code",
   "execution_count": 3,
   "id": "1c60aac8",
   "metadata": {},
   "outputs": [],
   "source": [
    "# Custom callback class for Word2Vec training\n",
    "class SimpleTextCallback(CallbackAny2Vec):\n",
    "    def __init__(self, total_epochs):\n",
    "        self.epoch = 0\n",
    "        self.total_epochs = total_epochs\n",
    "\n",
    "    def on_epoch_end(self, model):\n",
    "        self.epoch += 1\n",
    "        print(f\"Epoch {self.epoch} of {self.total_epochs} completed.\")"
   ]
  },
  {
   "cell_type": "code",
   "execution_count": 4,
   "id": "58cda673",
   "metadata": {},
   "outputs": [],
   "source": [
    "# Extract tokenized documents from the 'data' column\n",
    "preprocessed_articles = df['data'].tolist()"
   ]
  },
  {
   "cell_type": "code",
   "execution_count": 5,
   "id": "57b48c11",
   "metadata": {},
   "outputs": [
    {
     "name": "stdout",
     "output_type": "stream",
     "text": [
      "Epoch 1 of 10 completed.\n",
      "Epoch 2 of 10 completed.\n",
      "Epoch 3 of 10 completed.\n",
      "Epoch 4 of 10 completed.\n",
      "Epoch 5 of 10 completed.\n",
      "Epoch 6 of 10 completed.\n",
      "Epoch 7 of 10 completed.\n",
      "Epoch 8 of 10 completed.\n",
      "Epoch 9 of 10 completed.\n",
      "Epoch 10 of 10 completed.\n"
     ]
    },
    {
     "data": {
      "text/plain": [
       "(445938685, 455234750)"
      ]
     },
     "execution_count": 5,
     "metadata": {},
     "output_type": "execute_result"
    }
   ],
   "source": [
    "# Initialize the Word2Vec model\n",
    "word2vec_model = Word2Vec(vector_size=100, window=5, min_count=1, workers=4)\n",
    "\n",
    "# Build the vocabulary\n",
    "word2vec_model.build_vocab(preprocessed_articles)\n",
    "\n",
    "# Train the Word2Vec model with the custom progress update\n",
    "total_epochs = 10\n",
    "callback = SimpleTextCallback(total_epochs)\n",
    "word2vec_model.train(preprocessed_articles, total_examples=word2vec_model.corpus_count, \n",
    "                     epochs=total_epochs, callbacks=[callback])"
   ]
  },
  {
   "cell_type": "code",
   "execution_count": 7,
   "id": "f186d88c",
   "metadata": {},
   "outputs": [],
   "source": [
    "# Save the Word2Vec model to a file\n",
    "word2vec_model.save(\"word2vec_model.model\")"
   ]
  },
  {
   "cell_type": "code",
   "execution_count": 8,
   "id": "1a4a7465",
   "metadata": {},
   "outputs": [],
   "source": [
    "from gensim.models import Word2Vec\n",
    "\n",
    "# Load the Word2Vec model from the file\n",
    "word2vec_model = Word2Vec.load(\"word2vec_model.model\")"
   ]
  },
  {
   "cell_type": "code",
   "execution_count": 9,
   "id": "0b433193",
   "metadata": {},
   "outputs": [
    {
     "data": {
      "text/plain": [
       "[('fluminense', 0.896714985370636),\n",
       " ('palmeiras', 0.8349259495735168),\n",
       " ('grêmio', 0.8056057691574097),\n",
       " ('vasco', 0.8035462498664856),\n",
       " ('botafogo', 0.7981559038162231),\n",
       " ('atléticomg', 0.7878398895263672),\n",
       " ('corinthian', 0.7683390974998474),\n",
       " ('internacional', 0.7208759784698486),\n",
       " ('cruzeiro', 0.714369535446167),\n",
       " ('fla', 0.7067931294441223)]"
      ]
     },
     "execution_count": 9,
     "metadata": {},
     "output_type": "execute_result"
    }
   ],
   "source": [
    "# Find words most similar to target word\n",
    "word2vec_model.wv.most_similar('flamengo')"
   ]
  },
  {
   "cell_type": "code",
   "execution_count": 10,
   "id": "f672fdbd",
   "metadata": {},
   "outputs": [],
   "source": [
    "# Create word-to-index and index-to-word dictionaries\n",
    "word_to_index = {}\n",
    "index_to_word = {}\n",
    "for i, word in enumerate(word2vec_model.wv.index_to_key):\n",
    "    word_to_index[word] = i + 1\n",
    "    index_to_word[i + 1] = word"
   ]
  },
  {
   "cell_type": "code",
   "execution_count": 11,
   "id": "d6ffe380",
   "metadata": {
    "scrolled": false
   },
   "outputs": [
    {
     "name": "stderr",
     "output_type": "stream",
     "text": [
      "100%|████████████████████████████████| 191005/191005 [00:09<00:00, 20198.68it/s]\n"
     ]
    }
   ],
   "source": [
    "from tqdm import tqdm\n",
    "\n",
    "# Convert tokenized news into sequences of indices\n",
    "sequences = []\n",
    "for tokens in tqdm(preprocessed_articles):\n",
    "    sequence = []\n",
    "    for token in tokens:\n",
    "        if token in word_to_index:\n",
    "            sequence.append(word_to_index[token])\n",
    "    sequences.append(sequence)"
   ]
  },
  {
   "cell_type": "code",
   "execution_count": 12,
   "id": "dc88873c",
   "metadata": {},
   "outputs": [
    {
     "name": "stdout",
     "output_type": "stream",
     "text": [
      "convocados uruguai copa mundo 2022 veja lista técnico diego alonso divulgou lista 26 convocados uruguai copa mundo ídolos veteranos atacantes cavani suárez puxam elenco celeste ainda arrascaeta flamengo jovens valverde real madrid darwin núñez liverpool símbolos renovação alonso optou manter zagueiro ronald araújo barcelona lista defensor recupera lesão coxa joga desde fim setembro expectativa inicial poderia voltar jogar 2023 veja anúncio convocados uruguai copa mundo além arrascaeta outros doi jogadores atuam brasil chamados diego alonso lateral varela flamengo atacante canobbio athleticopr outros conhecidos torcida brasileira lista veterano zagueiro diego godín exatléticomg atualmente vélez sarsfield lateral matías viña expalmeiras atualmente rom uruguai vai terminar preparação copa mundo abu dhabi emirados árabes onde parte delegação desembarcou nesta quintafeira ida catar ocorre próximo dia 19 celeste grupo h copa lado portugal coreia sul gana estreia contra sulcoreanos dia 24 estádio cidade educação luis suárez arrascaeta sergio rochet lista final uruguai — foto divulgação\n"
     ]
    }
   ],
   "source": [
    "# Map the sequence of indices in sequences[0] back to a text representation\n",
    "text = \" \".join([index_to_word[i] for i in sequences[0]])\n",
    "\n",
    "# Print the resulting text representation\n",
    "print(text)"
   ]
  },
  {
   "cell_type": "code",
   "execution_count": 13,
   "id": "c75614eb",
   "metadata": {},
   "outputs": [
    {
     "name": "stdout",
     "output_type": "stream",
     "text": [
      "Mean sequence length:  238.3365618701081\n",
      "Maximum sequence length:  5411\n"
     ]
    }
   ],
   "source": [
    "import numpy as np\n",
    "\n",
    "# Compute the length of each sequence in the dataset\n",
    "sequence_lengths = [len(seq) for seq in sequences]\n",
    "\n",
    "# Compute the mean and maximum sequence length\n",
    "mean_length = np.mean(sequence_lengths)\n",
    "max_length = max(sequence_lengths)\n",
    "\n",
    "print(\"Mean sequence length: \", mean_length)\n",
    "print(\"Maximum sequence length: \", max_length)"
   ]
  },
  {
   "cell_type": "code",
   "execution_count": 14,
   "id": "8ab7d458",
   "metadata": {},
   "outputs": [
    {
     "name": "stderr",
     "output_type": "stream",
     "text": [
      "2023-03-31 00:43:00.563281: I tensorflow/core/platform/cpu_feature_guard.cc:193] This TensorFlow binary is optimized with oneAPI Deep Neural Network Library (oneDNN) to use the following CPU instructions in performance-critical operations:  AVX2 FMA\n",
      "To enable them in other operations, rebuild TensorFlow with the appropriate compiler flags.\n",
      "2023-03-31 00:43:01.067840: W tensorflow/compiler/xla/stream_executor/platform/default/dso_loader.cc:64] Could not load dynamic library 'libnvinfer.so.7'; dlerror: libnvinfer.so.7: cannot open shared object file: No such file or directory; LD_LIBRARY_PATH: :/home/lucas/miniconda3/envs/tf/lib/\n",
      "2023-03-31 00:43:01.067927: W tensorflow/compiler/xla/stream_executor/platform/default/dso_loader.cc:64] Could not load dynamic library 'libnvinfer_plugin.so.7'; dlerror: libnvinfer_plugin.so.7: cannot open shared object file: No such file or directory; LD_LIBRARY_PATH: :/home/lucas/miniconda3/envs/tf/lib/\n",
      "2023-03-31 00:43:01.067934: W tensorflow/compiler/tf2tensorrt/utils/py_utils.cc:38] TF-TRT Warning: Cannot dlopen some TensorRT libraries. If you would like to use Nvidia GPU with TensorRT, please make sure the missing libraries mentioned above are installed properly.\n"
     ]
    }
   ],
   "source": [
    "from tensorflow.keras.preprocessing.sequence import pad_sequences\n",
    "\n",
    "# Set the maximum sequence length\n",
    "max_length = int(mean_length) * 3\n",
    "\n",
    "# Pad sequences\n",
    "padded_sequences = pad_sequences(sequences, maxlen=max_length, padding='post')"
   ]
  },
  {
   "cell_type": "code",
   "execution_count": 15,
   "id": "bbf394bb",
   "metadata": {},
   "outputs": [
    {
     "data": {
      "text/plain": [
       "21"
      ]
     },
     "execution_count": 15,
     "metadata": {},
     "output_type": "execute_result"
    }
   ],
   "source": [
    "# Get the total number of unique values in the 'labels' column of the dataframe\n",
    "df['label'].nunique()"
   ]
  },
  {
   "cell_type": "code",
   "execution_count": 16,
   "id": "f7ce97f5",
   "metadata": {},
   "outputs": [],
   "source": [
    "import tensorflow.keras.utils as ku\n",
    "\n",
    "# Convert labels to one-hot encoded vectors\n",
    "num_classes = 21\n",
    "labels = ku.to_categorical(df['label'], num_classes)"
   ]
  },
  {
   "cell_type": "code",
   "execution_count": 17,
   "id": "22e8993e",
   "metadata": {},
   "outputs": [
    {
     "data": {
      "text/plain": [
       "array([[1., 0., 0., ..., 0., 0., 0.],\n",
       "       [1., 0., 0., ..., 0., 0., 0.],\n",
       "       [1., 0., 0., ..., 0., 0., 0.],\n",
       "       ...,\n",
       "       [0., 0., 0., ..., 0., 0., 0.],\n",
       "       [0., 0., 0., ..., 0., 0., 0.],\n",
       "       [0., 0., 0., ..., 0., 0., 0.]], dtype=float32)"
      ]
     },
     "execution_count": 17,
     "metadata": {},
     "output_type": "execute_result"
    }
   ],
   "source": [
    "labels"
   ]
  },
  {
   "cell_type": "code",
   "execution_count": 18,
   "id": "685a5668",
   "metadata": {},
   "outputs": [],
   "source": [
    "from sklearn.model_selection import train_test_split\n",
    "\n",
    "# Divida os dados em um conjunto de treino (70%) e um conjunto temporário (30%)\n",
    "X_train, X_temp, y_train, y_temp = train_test_split(padded_sequences, labels, test_size=0.3)\n",
    "\n",
    "# Divida o conjunto temporário em conjuntos de validação (15%) e teste (15%)\n",
    "X_val, X_test, y_val, y_test = train_test_split(X_temp, y_temp, test_size=0.5)  # 0.5 * 0.3 = 0.15"
   ]
  },
  {
   "cell_type": "markdown",
   "id": "c412f308",
   "metadata": {},
   "source": [
    "# GPU"
   ]
  },
  {
   "cell_type": "code",
   "execution_count": 19,
   "id": "fb4e108c",
   "metadata": {},
   "outputs": [
    {
     "name": "stdout",
     "output_type": "stream",
     "text": [
      "Num GPUs Available:  1\n"
     ]
    },
    {
     "name": "stderr",
     "output_type": "stream",
     "text": [
      "2023-03-31 00:43:03.968279: I tensorflow/compiler/xla/stream_executor/cuda/cuda_gpu_executor.cc:981] successful NUMA node read from SysFS had negative value (-1), but there must be at least one NUMA node, so returning NUMA node zero\n",
      "2023-03-31 00:43:03.973637: I tensorflow/compiler/xla/stream_executor/cuda/cuda_gpu_executor.cc:981] successful NUMA node read from SysFS had negative value (-1), but there must be at least one NUMA node, so returning NUMA node zero\n",
      "2023-03-31 00:43:03.973821: I tensorflow/compiler/xla/stream_executor/cuda/cuda_gpu_executor.cc:981] successful NUMA node read from SysFS had negative value (-1), but there must be at least one NUMA node, so returning NUMA node zero\n"
     ]
    }
   ],
   "source": [
    "import tensorflow as tf\n",
    "print(\"Num GPUs Available: \", len(tf.config.list_physical_devices('GPU')))"
   ]
  },
  {
   "cell_type": "code",
   "execution_count": 20,
   "id": "996575d5",
   "metadata": {},
   "outputs": [
    {
     "name": "stderr",
     "output_type": "stream",
     "text": [
      "2023-03-31 00:43:03.990190: I tensorflow/core/platform/cpu_feature_guard.cc:193] This TensorFlow binary is optimized with oneAPI Deep Neural Network Library (oneDNN) to use the following CPU instructions in performance-critical operations:  AVX2 FMA\n",
      "To enable them in other operations, rebuild TensorFlow with the appropriate compiler flags.\n",
      "2023-03-31 00:43:03.990772: I tensorflow/compiler/xla/stream_executor/cuda/cuda_gpu_executor.cc:981] successful NUMA node read from SysFS had negative value (-1), but there must be at least one NUMA node, so returning NUMA node zero\n",
      "2023-03-31 00:43:03.991009: I tensorflow/compiler/xla/stream_executor/cuda/cuda_gpu_executor.cc:981] successful NUMA node read from SysFS had negative value (-1), but there must be at least one NUMA node, so returning NUMA node zero\n",
      "2023-03-31 00:43:03.991163: I tensorflow/compiler/xla/stream_executor/cuda/cuda_gpu_executor.cc:981] successful NUMA node read from SysFS had negative value (-1), but there must be at least one NUMA node, so returning NUMA node zero\n",
      "2023-03-31 00:43:04.398894: I tensorflow/compiler/xla/stream_executor/cuda/cuda_gpu_executor.cc:981] successful NUMA node read from SysFS had negative value (-1), but there must be at least one NUMA node, so returning NUMA node zero\n",
      "2023-03-31 00:43:04.399070: I tensorflow/compiler/xla/stream_executor/cuda/cuda_gpu_executor.cc:981] successful NUMA node read from SysFS had negative value (-1), but there must be at least one NUMA node, so returning NUMA node zero\n",
      "2023-03-31 00:43:04.399199: I tensorflow/compiler/xla/stream_executor/cuda/cuda_gpu_executor.cc:981] successful NUMA node read from SysFS had negative value (-1), but there must be at least one NUMA node, so returning NUMA node zero\n",
      "2023-03-31 00:43:04.399296: I tensorflow/core/common_runtime/gpu/gpu_device.cc:1613] Created device /job:localhost/replica:0/task:0/device:GPU:0 with 7042 MB memory:  -> device: 0, name: NVIDIA GeForce GTX 1070 Ti, pci bus id: 0000:01:00.0, compute capability: 6.1\n"
     ]
    },
    {
     "name": "stdout",
     "output_type": "stream",
     "text": [
      "Epoch 1/40\n"
     ]
    },
    {
     "name": "stderr",
     "output_type": "stream",
     "text": [
      "2023-03-31 00:43:11.681521: I tensorflow/compiler/xla/stream_executor/cuda/cuda_dnn.cc:428] Loaded cuDNN version 8100\n",
      "2023-03-31 00:43:12.009464: I tensorflow/compiler/xla/service/service.cc:173] XLA service 0x7f8b91dfab50 initialized for platform CUDA (this does not guarantee that XLA will be used). Devices:\n",
      "2023-03-31 00:43:12.009503: I tensorflow/compiler/xla/service/service.cc:181]   StreamExecutor device (0): NVIDIA GeForce GTX 1070 Ti, Compute Capability 6.1\n",
      "2023-03-31 00:43:12.012821: I tensorflow/compiler/mlir/tensorflow/utils/dump_mlir_util.cc:268] disabling MLIR crash reproducer, set env var `MLIR_CRASH_REPRODUCER_DIRECTORY` to enable.\n",
      "2023-03-31 00:43:12.098005: I tensorflow/compiler/jit/xla_compilation_cache.cc:477] Compiled cluster using XLA!  This line is logged at most once for the lifetime of the process.\n"
     ]
    },
    {
     "name": "stdout",
     "output_type": "stream",
     "text": [
      "2090/2090 [==============================] - 502s 237ms/step - loss: 1.7734 - accuracy: 0.5152 - val_loss: 1.1824 - val_accuracy: 0.7232\n",
      "Epoch 2/40\n",
      "2090/2090 [==============================] - 433s 207ms/step - loss: 0.9859 - accuracy: 0.7632 - val_loss: 0.9413 - val_accuracy: 0.7712\n",
      "Epoch 3/40\n",
      "2090/2090 [==============================] - 425s 203ms/step - loss: 0.8068 - accuracy: 0.7983 - val_loss: 0.8514 - val_accuracy: 0.7823\n",
      "Epoch 4/40\n",
      "2090/2090 [==============================] - 417s 200ms/step - loss: 0.7087 - accuracy: 0.8153 - val_loss: 0.8638 - val_accuracy: 0.7791\n",
      "Epoch 5/40\n",
      "2090/2090 [==============================] - 401s 192ms/step - loss: 0.6510 - accuracy: 0.8219 - val_loss: 0.8352 - val_accuracy: 0.7813\n",
      "Epoch 6/40\n",
      "2090/2090 [==============================] - 402s 192ms/step - loss: 0.6001 - accuracy: 0.8322 - val_loss: 0.7974 - val_accuracy: 0.7842\n",
      "Epoch 7/40\n",
      "2090/2090 [==============================] - 401s 192ms/step - loss: 0.5666 - accuracy: 0.8369 - val_loss: 0.8034 - val_accuracy: 0.7836\n",
      "Epoch 8/40\n",
      "2090/2090 [==============================] - 401s 192ms/step - loss: 0.5391 - accuracy: 0.8417 - val_loss: 0.8249 - val_accuracy: 0.7828\n",
      "Epoch 9/40\n",
      "2090/2090 [==============================] - 400s 191ms/step - loss: 0.5181 - accuracy: 0.8452 - val_loss: 0.8502 - val_accuracy: 0.7787\n",
      "Epoch 10/40\n",
      "2090/2090 [==============================] - 400s 191ms/step - loss: 0.5069 - accuracy: 0.8479 - val_loss: 0.8687 - val_accuracy: 0.7801\n",
      "Epoch 11/40\n",
      "2090/2090 [==============================] - 399s 191ms/step - loss: 0.4928 - accuracy: 0.8503 - val_loss: 0.8465 - val_accuracy: 0.7800\n"
     ]
    }
   ],
   "source": [
    "from tensorflow.keras.models import Sequential\n",
    "from tensorflow.keras.layers import Embedding, LSTM, Bidirectional, Dense, Dropout\n",
    "from tensorflow.keras.callbacks import EarlyStopping\n",
    "\n",
    "# Create LSTM model\n",
    "model = Sequential()\n",
    "model.add(Embedding(input_dim=len(word2vec_model.wv.key_to_index) + 1, \n",
    "                    output_dim=word2vec_model.vector_size, input_length=max_length))\n",
    "model.add(Bidirectional(LSTM(units=128, return_sequences=True, kernel_regularizer=tf.keras.regularizers.l2(0.001))))\n",
    "model.add(Dropout(0.5))\n",
    "model.add(Bidirectional(LSTM(units=64, return_sequences=True, kernel_regularizer=tf.keras.regularizers.l2(0.001))))\n",
    "model.add(Dropout(0.5))\n",
    "model.add(Bidirectional(LSTM(units=32, kernel_regularizer=tf.keras.regularizers.l2(0.001))))\n",
    "model.add(Dense(units=len(labels[0]), activation='softmax'))\n",
    "\n",
    "# Define early stopping callback\n",
    "early_stopping = EarlyStopping(monitor='val_loss', patience=5)\n",
    "\n",
    "# Compile model\n",
    "model.compile(loss='categorical_crossentropy', optimizer='adam', metrics=['accuracy'])\n",
    "\n",
    "# Train model\n",
    "history = model.fit(X_train, y_train, epochs=40, batch_size=64, validation_data=(X_val, y_val), callbacks=[early_stopping])"
   ]
  },
  {
   "cell_type": "code",
   "execution_count": 21,
   "id": "5bb969e9",
   "metadata": {},
   "outputs": [
    {
     "data": {
      "image/png": "[encoded data removed]",
      "text/plain": [
       "<Figure size 640x480 with 1 Axes>"
      ]
     },
     "metadata": {},
     "output_type": "display_data"
    }
   ],
   "source": [
    "import matplotlib.pyplot as plt\n",
    "\n",
    "# Plot the loss and validation loss\n",
    "plt.plot(history.history['loss'], label='Training Loss')\n",
    "plt.plot(history.history['val_loss'], label='Validation Loss')\n",
    "plt.title('Loss and Validation Loss')\n",
    "plt.xlabel('Epoch')\n",
    "plt.ylabel('Loss')\n",
    "plt.legend()\n",
    "plt.show()"
   ]
  },
  {
   "cell_type": "code",
   "execution_count": 22,
   "id": "56470378",
   "metadata": {},
   "outputs": [],
   "source": [
    "model.save('ge_BiLSTM.h5')\n",
    "np.save(\"X_test_BiLSTM.npy\", X_test)\n",
    "np.save(\"y_test_BiLSTM.npy\", y_test)"
   ]
  },
  {
   "cell_type": "code",
   "execution_count": 23,
   "id": "2b5298f8",
   "metadata": {},
   "outputs": [],
   "source": [
    "from tensorflow.keras.models import load_model\n",
    "import numpy as np\n",
    "\n",
    "model = load_model('ge_BiLSTM.h5')\n",
    "X_test = np.load(\"X_test_BiLSTM.npy\")\n",
    "y_test = np.load(\"y_test_BiLSTM.npy\")"
   ]
  },
  {
   "cell_type": "markdown",
   "id": "990000c8",
   "metadata": {},
   "source": [
    "# Avaliação de Resultados"
   ]
  },
  {
   "cell_type": "code",
   "execution_count": 24,
   "id": "0fa18b7f",
   "metadata": {},
   "outputs": [
    {
     "name": "stdout",
     "output_type": "stream",
     "text": [
      "Acurácia final: 0.7809500694274902\n"
     ]
    }
   ],
   "source": [
    "loss, accuracy = model.evaluate(X_test, y_test, verbose=0)\n",
    "print('Acurácia final:', accuracy)"
   ]
  },
  {
   "cell_type": "code",
   "execution_count": 25,
   "id": "eb3237d5",
   "metadata": {},
   "outputs": [
    {
     "name": "stdout",
     "output_type": "stream",
     "text": [
      "896/896 [==============================] - 48s 52ms/step\n"
     ]
    }
   ],
   "source": [
    "# Fazer as previsões do modelo para o conjunto de teste\n",
    "y_pred = model.predict(X_test)"
   ]
  },
  {
   "cell_type": "code",
   "execution_count": 26,
   "id": "fe519cbf",
   "metadata": {},
   "outputs": [
    {
     "data": {
      "text/plain": [
       "array([[1267,    3,    8,    5,    9,   12,    7,   17,   71,    6,   19,\n",
       "          15,    7,    3,   10,   85,   21,    1,   24,    1,    3],\n",
       "       [   7,  412,    3,    0,   13,    6,   16,    7,    2,    4,    2,\n",
       "           4,    5,   53,    4,   45,    6,    3,   10,    4,    6],\n",
       "       [  17,    3, 1152,    4,   15,    6,    9,   20,    5,   56,   34,\n",
       "           8,   10,    4,    8,   73,   17,    6,   20,    2,    3],\n",
       "       [   5,    1,    4,  819,   11,    5,   23,    7,    0,   16,    5,\n",
       "           4,    9,    3,    8,   51,   10,    4,   18,    8,    4],\n",
       "       [  20,    4,    6,    8, 1183,    3,    4,   18,    6,   46,   32,\n",
       "          36,    9,    6,    9,   70,    9,   12,   30,    3,   29],\n",
       "       [   4,    1,    3,    5,    3,  395,    8,   11,    3,    0,    4,\n",
       "           3,    3,    5,    1,   42,    9,    4,   15,    2,    0],\n",
       "       [   8,    2,    7,    8,    8,    5,  669,   12,    3,    7,    8,\n",
       "           9,   87,   11,    5,   56,   14,    3,    4,    5,    6],\n",
       "       [  20,    3,   22,   31,   13,   16,    8, 1956,    2,    8,   28,\n",
       "          16,    7,    2,   16,   99,   45,   18,   67,    8,    8],\n",
       "       [  65,    5,    1,    3,    8,    5,    5,    7,  597,    8,    0,\n",
       "           6,    2,    6,    2,   44,    6,    3,   17,    1,    3],\n",
       "       [   7,    2,   37,    7,   12,    4,    5,    8,    1, 1302,    5,\n",
       "           5,    3,    3,    6,   18,   12,    0,   14,    5,    5],\n",
       "       [  31,    1,   28,    5,   69,    2,   13,   46,   16,   18, 1648,\n",
       "         113,   12,   12,   22,   98,   37,   18,   53,    8,   41],\n",
       "       [  20,    4,   12,    8,   61,    8,   12,   22,    0,    7,   41,\n",
       "        1275,    7,   11,   11,   95,   20,    7,   39,    3,   33],\n",
       "       [  16,    4,   10,   10,    5,    6,   80,   11,    4,    2,   13,\n",
       "           5,  694,    4,   10,   63,    6,    2,   17,   10,    1],\n",
       "       [  14,   39,    4,    3,    7,    6,    3,   10,    3,    9,    8,\n",
       "          10,    1,  558,    9,   58,    4,    6,    6,    1,    8],\n",
       "       [  10,    4,   15,    8,    8,    3,    2,   17,    1,   18,   24,\n",
       "          18,    1,    6, 1321,  145,   17,    7,   15,    9,    8],\n",
       "       [  24,    3,   11,    5,   14,    1,   11,   26,    5,   12,   26,\n",
       "          13,    7,    8,  109, 1628,    8,    4,   27,    1,    6],\n",
       "       [  16,    3,   23,    3,    9,   12,    8,   50,    4,   12,   30,\n",
       "          29,   11,    7,   19,   66, 1407,   23,   65,    5,    4],\n",
       "       [   8,    4,    7,    2,    7,    8,    8,   28,    3,    9,   33,\n",
       "           8,    1,    2,   19,   46,   25,  950,   48,    1,    9],\n",
       "       [  11,    4,   12,    8,   18,   12,   10,   68,    7,    6,   34,\n",
       "          27,    7,    5,   12,   90,   32,   21, 1656,    3,    9],\n",
       "       [   9,    5,    5,   10,   11,    6,    9,   14,    2,    6,   10,\n",
       "           8,   16,    5,    2,   45,    8,    5,   18,  731,    3],\n",
       "       [   1,    4,    4,    8,   24,    2,    2,    9,    4,    6,   20,\n",
       "          22,    3,   15,   16,   41,    7,    5,    9,    7,  755]])"
      ]
     },
     "execution_count": 26,
     "metadata": {},
     "output_type": "execute_result"
    }
   ],
   "source": [
    "#Transformar as previsões de volta em rótulos\n",
    "y_pred_labels = np.argmax(y_pred, axis=1)\n",
    "y_true_labels = np.argmax(y_test, axis=1)\n",
    "\n",
    "# Calcular a matriz de confusão\n",
    "from sklearn.metrics import confusion_matrix\n",
    "conf_mat = confusion_matrix(y_true_labels, y_pred_labels)\n",
    "\n",
    "conf_mat"
   ]
  },
  {
   "cell_type": "code",
   "execution_count": 27,
   "id": "6a477aaa",
   "metadata": {},
   "outputs": [
    {
     "data": {
      "text/plain": [
       "191005"
      ]
     },
     "execution_count": 27,
     "metadata": {},
     "output_type": "execute_result"
    }
   ],
   "source": [
    "import pandas as pd\n",
    "\n",
    "classes = df['label'].nunique()\n",
    "\n",
    "# Lê o arquivo .csv\n",
    "df = pd.read_pickle(\"ge.pkl\")\n",
    "\n",
    "df.shape[0]"
   ]
  },
  {
   "cell_type": "code",
   "execution_count": 28,
   "id": "770139f8",
   "metadata": {},
   "outputs": [
    {
     "data": {
      "image/png": "[encoded data removed]",
      "text/plain": [
       "<Figure size 1500x1000 with 2 Axes>"
      ]
     },
     "metadata": {},
     "output_type": "display_data"
    }
   ],
   "source": [
    "import matplotlib.pyplot as plt\n",
    "\n",
    "# Define size of the figure\n",
    "plt.figure(figsize=(15, 10))\n",
    "\n",
    "# Define colormap\n",
    "cmap = plt.cm.Blues\n",
    "\n",
    "# Plot confusion matrix\n",
    "plt.imshow(conf_mat, cmap=cmap)\n",
    "plt.colorbar()\n",
    "\n",
    "# Add labels to matrix\n",
    "plt.xticks([int(i) for i in range(21)], [str(i) for i in range(21)])\n",
    "plt.yticks([int(i) for i in range(21)], [str(i) for i in range(21)])\n",
    "\n",
    "for i in range(classes):\n",
    "    for j in range(classes):\n",
    "        plt.text(j, i, str(conf_mat[i, j]), ha='center', va='center', color='white' if conf_mat[i, j] > len(y_true_labels)/ classes else 'black')\n",
    "\n",
    "# Add axis labels\n",
    "plt.xlabel('Predicted Class')\n",
    "plt.ylabel('True Class')\n",
    "\n",
    "# Show plot\n",
    "plt.show()"
   ]
  },
  {
   "cell_type": "code",
   "execution_count": 29,
   "id": "4c9288ae",
   "metadata": {},
   "outputs": [
    {
     "name": "stdout",
     "output_type": "stream",
     "text": [
      "Class '0': Precision=0.8019, Recall=0.7949, F1-Score=0.7984\n",
      "Class '1': Precision=0.8063, Recall=0.6732, F1-Score=0.7337\n",
      "Class '2': Precision=0.8384, Recall=0.7826, F1-Score=0.8096\n",
      "Class '3': Precision=0.8531, Recall=0.8069, F1-Score=0.8294\n",
      "Class '4': Precision=0.7845, Recall=0.7667, F1-Score=0.7755\n",
      "Class '5': Precision=0.7553, Recall=0.7582, F1-Score=0.7567\n",
      "Class '6': Precision=0.7336, Recall=0.7140, F1-Score=0.7236\n",
      "Class '7': Precision=0.8274, Recall=0.8174, F1-Score=0.8224\n",
      "Class '8': Precision=0.8078, Recall=0.7519, F1-Score=0.7789\n",
      "Class '9': Precision=0.8357, Recall=0.8912, F1-Score=0.8625\n",
      "Class '10': Precision=0.8142, Recall=0.7193, F1-Score=0.7638\n",
      "Class '11': Precision=0.7803, Recall=0.7518, F1-Score=0.7658\n",
      "Class '12': Precision=0.7694, Recall=0.7133, F1-Score=0.7403\n",
      "Class '13': Precision=0.7654, Recall=0.7275, F1-Score=0.7460\n",
      "Class '14': Precision=0.8159, Recall=0.7972, F1-Score=0.8065\n",
      "Class '15': Precision=0.5504, Recall=0.8353, F1-Score=0.6635\n",
      "Class '16': Precision=0.8180, Recall=0.7791, F1-Score=0.7981\n",
      "Class '17': Precision=0.8621, Recall=0.7749, F1-Score=0.8162\n",
      "Class '18': Precision=0.7624, Recall=0.8070, F1-Score=0.7841\n",
      "Class '19': Precision=0.8936, Recall=0.7877, F1-Score=0.8373\n",
      "Class '20': Precision=0.7998, Recall=0.7832, F1-Score=0.7914\n"
     ]
    }
   ],
   "source": [
    "import numpy as np\n",
    "from sklearn.metrics import precision_score, recall_score, f1_score\n",
    "\n",
    "# Calculate precision, recall and f1-score for each class\n",
    "precisions = []\n",
    "recalls = []\n",
    "f1_scores = []\n",
    "for i in range(classes):\n",
    "    precision = precision_score(y_true=y_true_labels == i, y_pred=y_pred_labels == i, zero_division=0)\n",
    "    recall = recall_score(y_true=y_true_labels == i, y_pred=y_pred_labels == i, zero_division=0)\n",
    "    f1 = f1_score(y_true=y_true_labels == i, y_pred=y_pred_labels == i, zero_division=0)\n",
    "    precisions.append(precision)\n",
    "    recalls.append(recall)\n",
    "    f1_scores.append(f1)\n",
    "    \n",
    "# Print results\n",
    "for i in range(classes):\n",
    "    print(f\"Class '{i}': Precision={precisions[i]:.4f}, Recall={recalls[i]:.4f}, F1-Score={f1_scores[i]:.4f}\")"
   ]
  },
  {
   "cell_type": "markdown",
   "id": "8991ad3a",
   "metadata": {},
   "source": [
    "# Teste com um exemplo real (Flamengo)"
   ]
  },
  {
   "cell_type": "code",
   "execution_count": 34,
   "id": "59257bae",
   "metadata": {},
   "outputs": [
    {
     "name": "stdout",
     "output_type": "stream",
     "text": [
      "Removendo pontuação...\n"
     ]
    },
    {
     "name": "stderr",
     "output_type": "stream",
     "text": [
      "100%|███████████████████████████████████████████| 1/1 [00:00<00:00, 2481.84it/s]\n"
     ]
    },
    {
     "name": "stdout",
     "output_type": "stream",
     "text": [
      "Aplicando tokenização...\n"
     ]
    },
    {
     "name": "stderr",
     "output_type": "stream",
     "text": [
      "100%|████████████████████████████████████████████| 1/1 [00:00<00:00, 198.29it/s]\n"
     ]
    },
    {
     "name": "stdout",
     "output_type": "stream",
     "text": [
      "Removendo stopwords...\n"
     ]
    },
    {
     "name": "stderr",
     "output_type": "stream",
     "text": [
      "100%|███████████████████████████████████████████| 1/1 [00:00<00:00, 2231.01it/s]\n"
     ]
    },
    {
     "name": "stdout",
     "output_type": "stream",
     "text": [
      "Computando Lematização...\n"
     ]
    },
    {
     "name": "stderr",
     "output_type": "stream",
     "text": [
      "100%|█████████████████████████████████████████████| 1/1 [00:02<00:00,  2.21s/it]\n",
      "100%|███████████████████████████████████████████| 1/1 [00:00<00:00, 7169.75it/s]"
     ]
    },
    {
     "name": "stdout",
     "output_type": "stream",
     "text": [
      "1/1 [==============================] - 0s 65ms/step\n"
     ]
    },
    {
     "name": "stderr",
     "output_type": "stream",
     "text": [
      "\n"
     ]
    }
   ],
   "source": [
    "# Criei um dataframe simples e com uma notícia só apenas por conta da função preprocess_data\n",
    "\n",
    "import pandas as pd\n",
    "from nltk.tokenize import word_tokenize\n",
    "\n",
    "value = \"\"\"Santos diz que grupo do Flamengo na Libertadores é difícil e mira tetracampeonato \n",
    "\n",
    "Flamengo desfruta de dias livres para treinar com foco na final do Campeonato Carioca, mas também já mira a estreia na Libertadores. A estreia na competição continental acontece na próxima quarta-feira, entre as finais do Estadual. \n",
    "\n",
    "O primeiro jogo será em Quito, no Equador, contra o Aucas, e o goleiro Santos comentou o desejo do Rubro-Negro em conquistar o tetracampeonato na Libertadores. \n",
    "\n",
    "- A expectativa é sempre muito boa para que essa competição comece. É a principal competição do nosso continente. O grupo é muito difícil, a gente sabe a dificuldade que é a Libertadores. Cada time teve a sua dificuldade para se classificar. A gente está vivendo uma expectativa boa para a estreia, queremos fazer uma boa competição em busca do objetivo que é ser campeão mais uma vez. \n",
    "\n",
    "Mas, antes de focar na estreia da Libertadores, o Flamengo disputa a primeira partida da final com o Fluminense, no sábado. Para o goleiro, o tempo para treinar em meio ao calendário apertado do futebol brasileiro é algo a ser valorizado.\n",
    "\n",
    "- Semana muito boa com essa pausa para treinarmos. Estamos muito focados nessa decisão. Os treinos estão com muita intensidade e a gente tem aproveitado o máximo possível para chegarmos preparados.\n",
    "\n",
    "O Flamengo é o atual campeão da Libertadores e luta pelo tetracampeonato. No Carioca, o Rubro-Negro tenta a revanche em cima do Fluminense, que terminou campeão na temporada de 2022. O segundo e decisivo jogo do Estadual acontece no domingo, dia 9.\n",
    "\"\"\"\n",
    "\n",
    "# Crie um DataFrame com uma linha e a coluna 'data'\n",
    "df_predict = pd.DataFrame(data={'data': [value]})\n",
    "\n",
    "#fazendo pré-processamento\n",
    "preprocess_text(df_predict, 'data')\n",
    "\n",
    "# Extract tokenized documents from the 'data' column\n",
    "preprocessed_articles = df_predict['data'].tolist()\n",
    "\n",
    "# Convert tokenized news into sequences of indices\n",
    "sequences_test = []\n",
    "for tokens in tqdm(preprocessed_articles):\n",
    "    sequence = []\n",
    "    for token in tokens:\n",
    "        if token in word_to_index:\n",
    "            sequence.append(word_to_index[token])\n",
    "    sequences_test.append(sequence)\n",
    "    \n",
    "# Pad sequences\n",
    "padded_example = pad_sequences(sequences_test, maxlen=max_length, padding='post')\n",
    "\n",
    "# Fazer a previsão usando o modelo\n",
    "predictions = model.predict(padded_example)"
   ]
  },
  {
   "cell_type": "code",
   "execution_count": 35,
   "id": "9cef0370",
   "metadata": {},
   "outputs": [
    {
     "data": {
      "text/plain": [
       "array([[3.7455718e-06, 2.2723048e-06, 1.2247673e-04, 1.4909331e-06,\n",
       "        9.8122946e-05, 1.7928775e-06, 1.9480590e-06, 6.3619968e-06,\n",
       "        3.1188090e-05, 7.7856621e-06, 9.9805522e-01, 4.9202703e-04,\n",
       "        1.2899807e-05, 8.4481453e-06, 4.1493163e-06, 3.3402343e-06,\n",
       "        1.8402097e-05, 2.7687962e-05, 1.9791292e-04, 9.5783635e-06,\n",
       "        8.9327089e-04]], dtype=float32)"
      ]
     },
     "execution_count": 35,
     "metadata": {},
     "output_type": "execute_result"
    }
   ],
   "source": [
    "predictions"
   ]
  },
  {
   "cell_type": "code",
   "execution_count": 36,
   "id": "db511063",
   "metadata": {},
   "outputs": [
    {
     "name": "stdout",
     "output_type": "stream",
     "text": [
      "Classe prevista: 10\n"
     ]
    }
   ],
   "source": [
    "# Identificar a classe com a maior probabilidade\n",
    "predicted_class = np.argmax(predictions)\n",
    "\n",
    "# Exibir a classe prevista\n",
    "print(f\"Classe prevista: {predicted_class}\")"
   ]
  },
  {
   "cell_type": "markdown",
   "id": "8921872d",
   "metadata": {},
   "source": [
    "# Transformando a classe numérica em texto, de volta"
   ]
  },
  {
   "cell_type": "code",
   "execution_count": 37,
   "id": "0b6ce4c6",
   "metadata": {},
   "outputs": [
    {
     "name": "stdout",
     "output_type": "stream",
     "text": [
      "Classe original: flamengo\n"
     ]
    }
   ],
   "source": [
    "from sklearn.preprocessing import LabelEncoder\n",
    "\n",
    "# Lê o arquivo .csv\n",
    "df = pd.read_csv('ge_news.csv')\n",
    "\n",
    "# Cria um objeto LabelEncoder\n",
    "le = LabelEncoder()\n",
    "\n",
    "df['label'] = le.fit_transform(df['club'])\n",
    "\n",
    "original_class = le.inverse_transform([predicted_class])\n",
    "print(f\"Classe original: {original_class[0]}\")"
   ]
  },
  {
   "cell_type": "markdown",
   "id": "964b398b",
   "metadata": {},
   "source": [
    "# Teste com um exemplo real (Corinthians)"
   ]
  },
  {
   "cell_type": "code",
   "execution_count": 38,
   "id": "a2c812fa",
   "metadata": {},
   "outputs": [
    {
     "name": "stdout",
     "output_type": "stream",
     "text": [
      "Removendo pontuação...\n"
     ]
    },
    {
     "name": "stderr",
     "output_type": "stream",
     "text": [
      "100%|███████████████████████████████████████████| 1/1 [00:00<00:00, 2704.26it/s]\n"
     ]
    },
    {
     "name": "stdout",
     "output_type": "stream",
     "text": [
      "Aplicando tokenização...\n"
     ]
    },
    {
     "name": "stderr",
     "output_type": "stream",
     "text": [
      "100%|████████████████████████████████████████████| 1/1 [00:00<00:00, 505.95it/s]\n"
     ]
    },
    {
     "name": "stdout",
     "output_type": "stream",
     "text": [
      "Removendo stopwords...\n"
     ]
    },
    {
     "name": "stderr",
     "output_type": "stream",
     "text": [
      "100%|███████████████████████████████████████████| 1/1 [00:00<00:00, 2584.29it/s]\n"
     ]
    },
    {
     "name": "stdout",
     "output_type": "stream",
     "text": [
      "Computando Lematização...\n"
     ]
    },
    {
     "name": "stderr",
     "output_type": "stream",
     "text": [
      "100%|████████████████████████████████████████████| 1/1 [00:00<00:00, 126.53it/s]\n",
      "100%|███████████████████████████████████████████| 1/1 [00:00<00:00, 7854.50it/s]"
     ]
    },
    {
     "name": "stdout",
     "output_type": "stream",
     "text": [
      "1/1 [==============================] - 0s 56ms/step\n"
     ]
    },
    {
     "name": "stderr",
     "output_type": "stream",
     "text": [
      "\n"
     ]
    }
   ],
   "source": [
    "# Criei um dataframe simples e com uma notícia só apenas por conta da função preprocess_data\n",
    "\n",
    "import pandas as pd\n",
    "\n",
    "value = \"\"\"Nova camisa do Corinthians: vazam imagens de supostos uniformes para 2023; veja fotos\n",
    "\n",
    "Imagens de supostas novas camisas do Corinthians para 2023 vazaram nas redes sociais nessa quarta-feira. Foram divulgadas fotos do que seriam os modelos 1 e 2 do uniforme do Timão.\n",
    "\n",
    "Uma loja de um shopping na Zona Sul de São Paulo já está comercializando as novas camisas branca e listrada. A reportagem do ge entrou em contato com o estabelecimento e teve a confirmação de um funcionário de que as peças já estão à venda por R$ 300 (modelo de torcedor). Confira as imagens abaixo:\n",
    "\n",
    "As supostas novas camisas do Corinthians para 2023 possui detalhes na cor vermelha ao redor da logomarca da Nike, fornecedora do material esportivo do clube.\n",
    "\n",
    "Os uniformes alvinegros para este ano homenagearão a Democracia Corinthiana, movimento organizado na década de 1980. CLIQUE AQUI e saiba mais sobre o tema.\n",
    "\n",
    "Usualmente, o Corinthians lança seus novos uniformes principais entre o fim de abril e o início de maio. Já a terceira camisa costuma ser estreada em setembro, mês de aniversário do clube. \n",
    "\n",
    "O Timão volta a campo na próxima quinta-feira, na estreia da Libertadores, contra o Liverpool-URU, às 19h, no estádio Centenário de Montevidéu. \n",
    "\"\"\"\n",
    "\n",
    "# Crie um DataFrame com uma linha e a coluna 'data'\n",
    "df_predict = pd.DataFrame(data={'data': [value]})\n",
    "\n",
    "#fazendo pré-processamento\n",
    "preprocess_text(df_predict, 'data')\n",
    "\n",
    "# Extract tokenized documents from the 'data' column\n",
    "preprocessed_articles = df_predict['data'].tolist()\n",
    "\n",
    "# Convert tokenized news into sequences of indices\n",
    "sequences_test = []\n",
    "for tokens in tqdm(preprocessed_articles):\n",
    "    sequence = []\n",
    "    for token in tokens:\n",
    "        if token in word_to_index:\n",
    "            sequence.append(word_to_index[token])\n",
    "    sequences_test.append(sequence)\n",
    "    \n",
    "# Pad sequences\n",
    "padded_example = pad_sequences(sequences_test, maxlen=max_length, padding='post')\n",
    "\n",
    "# Fazer a previsão usando o modelo\n",
    "predictions = model.predict(padded_example)"
   ]
  },
  {
   "cell_type": "code",
   "execution_count": 39,
   "id": "166a8495",
   "metadata": {},
   "outputs": [
    {
     "name": "stdout",
     "output_type": "stream",
     "text": [
      "Classe prevista: 7\n"
     ]
    }
   ],
   "source": [
    "# Identificar a classe com a maior probabilidade\n",
    "predicted_class = np.argmax(predictions)\n",
    "\n",
    "# Exibir a classe prevista\n",
    "print(f\"Classe prevista: {predicted_class}\")"
   ]
  },
  {
   "cell_type": "code",
   "execution_count": 40,
   "id": "4fd0e782",
   "metadata": {},
   "outputs": [
    {
     "name": "stdout",
     "output_type": "stream",
     "text": [
      "Classe original: corinthians\n"
     ]
    }
   ],
   "source": [
    "from sklearn.preprocessing import LabelEncoder\n",
    "\n",
    "# Lê o arquivo .csv\n",
    "df = pd.read_csv('ge_news.csv')\n",
    "\n",
    "# Cria um objeto LabelEncoder\n",
    "le = LabelEncoder()\n",
    "\n",
    "df['label'] = le.fit_transform(df['club'])\n",
    "\n",
    "original_class = le.inverse_transform([predicted_class])\n",
    "print(f\"Classe original: {original_class[0]}\")"
   ]
  },
  {
   "cell_type": "markdown",
   "id": "53dd00bc",
   "metadata": {},
   "source": [
    "## Referências\n",
    "\n",
    "* https://www.kaggle.com/datasets/lgmoneda/ge-soccer-clubs-news\n",
    "* https://medium.com/@everton.tomalok/word2vec-e-sua-import%C3%A2ncia-na-etapa-de-pr%C3%A9-processamento-d0813acfc8ab\n",
    "* https://www.youtube.com/watch?v=hQwFeIupNP0\n",
    "* https://www.youtube.com/watch?v=ISPId9Lhc1g\n",
    "* https://jalammar.github.io/illustrated-word2vec/\n",
    "* https://towardsdatascience.com/a-beginners-guide-to-word-embedding-with-gensim-word2vec-model-5970fa56cc92"
   ]
  }
 ],
 "metadata": {
  "kernelspec": {
   "display_name": "Python 3 (ipykernel)",
   "language": "python",
   "name": "python3"
  },
  "language_info": {
   "codemirror_mode": {
    "name": "ipython",
    "version": 3
   },
   "file_extension": ".py",
   "mimetype": "text/x-python",
   "name": "python",
   "nbconvert_exporter": "python",
   "pygments_lexer": "ipython3",
   "version": "3.9.16"
  }
 },
 "nbformat": 4,
 "nbformat_minor": 5
}
